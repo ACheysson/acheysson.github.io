{
 "cells": [
  {
   "cell_type": "markdown",
   "id": "3dc336c6",
   "metadata": {
    "slideshow": {
     "slide_type": "slide"
    }
   },
   "source": [
    "### Mathematical Operations"
   ]
  },
  {
   "cell_type": "code",
   "execution_count": 1,
   "id": "11914e2f",
   "metadata": {
    "slideshow": {
     "slide_type": "-"
    },
    "tags": []
   },
   "outputs": [
    {
     "name": "stdout",
     "output_type": "stream",
     "text": [
      "3\n"
     ]
    }
   ],
   "source": [
    "# First create a variable\n",
    "x = 3\n",
    "# You can print that variable\n",
    "print(x)"
   ]
  },
  {
   "cell_type": "code",
   "execution_count": 2,
   "id": "276c7c70",
   "metadata": {
    "scrolled": false
   },
   "outputs": [
    {
     "name": "stdout",
     "output_type": "stream",
     "text": [
      "2\n"
     ]
    }
   ],
   "source": [
    "# Create a second variable\n",
    "y = 2\n",
    "print(y)"
   ]
  },
  {
   "cell_type": "code",
   "execution_count": 3,
   "id": "22ee6868",
   "metadata": {},
   "outputs": [
    {
     "name": "stdout",
     "output_type": "stream",
     "text": [
      "salut\n"
     ]
    }
   ],
   "source": [
    "# Create a third variable, but this time it's a string\n",
    "z = 'salut'\n",
    "print(z)"
   ]
  },
  {
   "cell_type": "code",
   "execution_count": 4,
   "id": "7ca31e36",
   "metadata": {
    "slideshow": {
     "slide_type": "subslide"
    }
   },
   "outputs": [
    {
     "name": "stdout",
     "output_type": "stream",
     "text": [
      "5\n"
     ]
    }
   ],
   "source": [
    "# You can combine variables\n",
    "print(x+y)"
   ]
  },
  {
   "cell_type": "code",
   "execution_count": 6,
   "id": "5752985e",
   "metadata": {},
   "outputs": [
    {
     "name": "stdout",
     "output_type": "stream",
     "text": [
      "5 - addition\n",
      "6 - multiplication\n",
      "9 - 3 at the power 2\n",
      "1.5 - 3 divided by 2\n",
      "1 the rest when 3 is divided by 2\n"
     ]
    }
   ],
   "source": [
    "# A whole range of operation is possible\n",
    "print(x+y, \"- addition\")\n",
    "print(x*y, \"- multiplication\")\n",
    "print(x**y, f\"- {x} at the power {y}\")\n",
    "print(x/y, f'- {x} divided by {y}') # division\n",
    "print(x%y, f'the rest when {x} is divided by {y}') # remainder of the division"
   ]
  },
  {
   "cell_type": "code",
   "execution_count": 5,
   "id": "f9da3673",
   "metadata": {
    "slideshow": {
     "slide_type": "subslide"
    }
   },
   "outputs": [
    {
     "name": "stdout",
     "output_type": "stream",
     "text": [
      "the variable x's value is 3\n",
      "the variable z's value is salut\n",
      "<class 'int'>\n",
      "<class 'str'>\n"
     ]
    }
   ],
   "source": [
    "z = \"salut\"\n",
    "# x,y are numbers whereas z is a string\n",
    "print('the variable x\\'s value is', x)\n",
    "print('the variable z\\'s value is', z)\n",
    "print(type(x))\n",
    "print(type(z))"
   ]
  },
  {
   "cell_type": "code",
   "execution_count": 8,
   "id": "4c844fd3",
   "metadata": {},
   "outputs": [
    {
     "ename": "TypeError",
     "evalue": "unsupported operand type(s) for +: 'int' and 'str'",
     "output_type": "error",
     "traceback": [
      "\u001b[1;31m---------------------------------------------------------------------------\u001b[0m",
      "\u001b[1;31mTypeError\u001b[0m                                 Traceback (most recent call last)",
      "Cell \u001b[1;32mIn[8], line 2\u001b[0m\n\u001b[0;32m      1\u001b[0m \u001b[38;5;66;03m# Strings and integers are different and cannot be combined\u001b[39;00m\n\u001b[1;32m----> 2\u001b[0m \u001b[38;5;28mprint\u001b[39m(x \u001b[38;5;241m+\u001b[39m z)\n",
      "\u001b[1;31mTypeError\u001b[0m: unsupported operand type(s) for +: 'int' and 'str'"
     ]
    }
   ],
   "source": [
    "# Strings and integers are different and cannot be combined\n",
    "print(x + z)"
   ]
  },
  {
   "cell_type": "code",
   "execution_count": 6,
   "id": "7cdf9ace",
   "metadata": {},
   "outputs": [
    {
     "name": "stdout",
     "output_type": "stream",
     "text": [
      "3\n",
      "<class 'str'>\n"
     ]
    }
   ],
   "source": [
    "# Types of objects can be changed. I can change x to a string\n",
    "x = str(x)\n",
    "print(x)\n",
    "print(type(x))"
   ]
  },
  {
   "cell_type": "code",
   "execution_count": 7,
   "id": "db616fb5",
   "metadata": {},
   "outputs": [],
   "source": [
    "y = 5"
   ]
  },
  {
   "cell_type": "code",
   "execution_count": 10,
   "id": "1c3f0e45",
   "metadata": {},
   "outputs": [
    {
     "data": {
      "text/plain": [
       "'salut3'"
      ]
     },
     "execution_count": 10,
     "metadata": {},
     "output_type": "execute_result"
    }
   ],
   "source": [
    "z + x"
   ]
  },
  {
   "cell_type": "code",
   "execution_count": 10,
   "id": "42f1c5c8",
   "metadata": {
    "slideshow": {
     "slide_type": "subslide"
    }
   },
   "outputs": [
    {
     "name": "stdout",
     "output_type": "stream",
     "text": [
      "salut3\n"
     ]
    }
   ],
   "source": [
    "# Now that x is a string, I can add it to z\n",
    "print(z + x)"
   ]
  },
  {
   "cell_type": "markdown",
   "id": "a9656e60",
   "metadata": {},
   "source": [
    "Adding two strings together concatenate them"
   ]
  },
  {
   "cell_type": "markdown",
   "id": "10661aca",
   "metadata": {},
   "source": [
    "A **very high** share of your errors on python are going to be due to error types:\n",
    "\n",
    "- Your trying to add a number with something else that's not a number\n",
    "- Your trying to study a text but that's actually not text"
   ]
  },
  {
   "cell_type": "markdown",
   "id": "2e845048",
   "metadata": {
    "slideshow": {
     "slide_type": "slide"
    }
   },
   "source": [
    "### Comparisons"
   ]
  },
  {
   "cell_type": "code",
   "execution_count": 14,
   "id": "ffc57faf",
   "metadata": {
    "scrolled": true
   },
   "outputs": [
    {
     "name": "stdout",
     "output_type": "stream",
     "text": [
      "is x higher than y? False\n"
     ]
    },
    {
     "data": {
      "text/plain": [
       "False"
      ]
     },
     "execution_count": 14,
     "metadata": {},
     "output_type": "execute_result"
    }
   ],
   "source": [
    "# Printing this way puts a space between the two\n",
    "x = 3\n",
    "print('is x higher than y?', x>=y)\n",
    "x>=y"
   ]
  },
  {
   "cell_type": "code",
   "execution_count": 13,
   "id": "a143edc3",
   "metadata": {},
   "outputs": [
    {
     "name": "stdout",
     "output_type": "stream",
     "text": [
      "False\n"
     ]
    }
   ],
   "source": [
    "# This basically asks the question, is x inferior to y?\n",
    "print(x<y)"
   ]
  },
  {
   "cell_type": "code",
   "execution_count": 14,
   "id": "1a371637",
   "metadata": {
    "scrolled": false
   },
   "outputs": [
    {
     "name": "stdout",
     "output_type": "stream",
     "text": [
      "Are x and y equal?\n",
      "False\n",
      "Is x different of y?\n",
      "True\n"
     ]
    }
   ],
   "source": [
    "# You can also ask if the two values are equal\n",
    "print('Are x and y equal?')\n",
    "print(x==y) # Is x equal to y?\n",
    "print('Is x different of y?')\n",
    "print(x!=y) # Is x different of y?"
   ]
  },
  {
   "cell_type": "code",
   "execution_count": 33,
   "id": "33d8c338",
   "metadata": {
    "slideshow": {
     "slide_type": "subslide"
    }
   },
   "outputs": [
    {
     "name": "stdout",
     "output_type": "stream",
     "text": [
      "<class 'bool'>\n"
     ]
    }
   ],
   "source": [
    "# What we've used here are called boolean variables\n",
    "condition = x!=y\n",
    "print(type(condition))"
   ]
  },
  {
   "cell_type": "code",
   "execution_count": 25,
   "id": "73b11dff",
   "metadata": {},
   "outputs": [],
   "source": [
    "y = 5\n",
    "x = 5"
   ]
  },
  {
   "cell_type": "code",
   "execution_count": 31,
   "id": "31e37cd5",
   "metadata": {},
   "outputs": [
    {
     "name": "stdout",
     "output_type": "stream",
     "text": [
      "False\n",
      "False\n"
     ]
    }
   ],
   "source": [
    "print(not (x == y)) # this asks the question is x not equal to y\n",
    "print(x != y)"
   ]
  },
  {
   "cell_type": "code",
   "execution_count": 34,
   "id": "a88f6008",
   "metadata": {},
   "outputs": [
    {
     "name": "stdout",
     "output_type": "stream",
     "text": [
      "False\n",
      "False\n"
     ]
    }
   ],
   "source": [
    "print(condition)\n",
    "print( x!=y)"
   ]
  },
  {
   "cell_type": "markdown",
   "id": "c0044fa2",
   "metadata": {},
   "source": [
    "A `boolean` variable records if something is `True` or `False`"
   ]
  },
  {
   "cell_type": "code",
   "execution_count": 16,
   "id": "6e1acd94",
   "metadata": {
    "slideshow": {
     "slide_type": "subslide"
    }
   },
   "outputs": [
    {
     "name": "stdout",
     "output_type": "stream",
     "text": [
      "6\n"
     ]
    },
    {
     "ename": "TypeError",
     "evalue": "unsupported operand type(s) for +: 'bool' and 'str'",
     "output_type": "error",
     "traceback": [
      "\u001b[1;31m---------------------------------------------------------------------------\u001b[0m",
      "\u001b[1;31mTypeError\u001b[0m                                 Traceback (most recent call last)",
      "Cell \u001b[1;32mIn[16], line 4\u001b[0m\n\u001b[0;32m      2\u001b[0m \u001b[38;5;28mprint\u001b[39m(condition \u001b[38;5;241m+\u001b[39m \u001b[38;5;241m5\u001b[39m)\n\u001b[0;32m      3\u001b[0m \u001b[38;5;66;03m# If you add a boolean to a string, it will return an error\u001b[39;00m\n\u001b[1;32m----> 4\u001b[0m \u001b[38;5;28mprint\u001b[39m(condition \u001b[38;5;241m+\u001b[39m \u001b[38;5;124m'\u001b[39m\u001b[38;5;124msalut\u001b[39m\u001b[38;5;124m'\u001b[39m)\n",
      "\u001b[1;31mTypeError\u001b[0m: unsupported operand type(s) for +: 'bool' and 'str'"
     ]
    }
   ],
   "source": [
    "# If you add a boolean to a number, it will convert True to 1 and False to 0\n",
    "print(condition + 5)\n",
    "# If you add a boolean to a string, it will return an error\n",
    "print(condition + 'salut')"
   ]
  },
  {
   "cell_type": "markdown",
   "id": "b8f43c1c",
   "metadata": {
    "slideshow": {
     "slide_type": "slide"
    }
   },
   "source": [
    "### Change a variable"
   ]
  },
  {
   "cell_type": "code",
   "execution_count": 60,
   "id": "9e40323f",
   "metadata": {},
   "outputs": [
    {
     "name": "stdout",
     "output_type": "stream",
     "text": [
      "3\n",
      "4\n",
      "5\n"
     ]
    }
   ],
   "source": [
    "x = 3\n",
    "print(x)\n",
    "x = x + 1\n",
    "print(x)\n",
    "x += 1\n",
    "print(x)"
   ]
  },
  {
   "cell_type": "markdown",
   "id": "50e43729",
   "metadata": {
    "slideshow": {
     "slide_type": "subslide"
    }
   },
   "source": [
    "When you write\n",
    "\n",
    "`x=x+1`\n",
    "\n",
    "you're asking python to replace the value of x by the current value of x + 1"
   ]
  },
  {
   "cell_type": "markdown",
   "id": "331fb171",
   "metadata": {},
   "source": [
    "Each time you repeat it, it increases the value of x by 1"
   ]
  },
  {
   "cell_type": "markdown",
   "id": "8a8aed3a",
   "metadata": {},
   "source": [
    "Each time you re-run those lines, the values change!"
   ]
  },
  {
   "cell_type": "markdown",
   "id": "12ac9ba9",
   "metadata": {
    "slideshow": {
     "slide_type": "slide"
    }
   },
   "source": [
    "### Ask for an input"
   ]
  },
  {
   "cell_type": "code",
   "execution_count": 64,
   "id": "5f213e69",
   "metadata": {
    "scrolled": true
   },
   "outputs": [
    {
     "name": "stdout",
     "output_type": "stream",
     "text": [
      "Type a number then press Enter 5\n",
      "5\n"
     ]
    },
    {
     "ename": "TypeError",
     "evalue": "can only concatenate str (not \"int\") to str",
     "output_type": "error",
     "traceback": [
      "\u001b[1;31m---------------------------------------------------------------------------\u001b[0m",
      "\u001b[1;31mTypeError\u001b[0m                                 Traceback (most recent call last)",
      "Cell \u001b[1;32mIn[64], line 3\u001b[0m\n\u001b[0;32m      1\u001b[0m value \u001b[38;5;241m=\u001b[39m \u001b[38;5;28minput\u001b[39m(\u001b[38;5;124m'\u001b[39m\u001b[38;5;124mType a number then press Enter \u001b[39m\u001b[38;5;124m'\u001b[39m)\n\u001b[0;32m      2\u001b[0m \u001b[38;5;28mprint\u001b[39m(value)\n\u001b[1;32m----> 3\u001b[0m value \u001b[38;5;241m+\u001b[39m \u001b[38;5;241m1\u001b[39m\n",
      "\u001b[1;31mTypeError\u001b[0m: can only concatenate str (not \"int\") to str"
     ]
    }
   ],
   "source": [
    "value = input('Type a number then press Enter ')\n",
    "print(value)\n",
    "value + 1"
   ]
  },
  {
   "cell_type": "code",
   "execution_count": 63,
   "id": "d0c6a0c3",
   "metadata": {},
   "outputs": [
    {
     "data": {
      "text/plain": [
       "str"
      ]
     },
     "execution_count": 63,
     "metadata": {},
     "output_type": "execute_result"
    }
   ],
   "source": [
    "type(value)"
   ]
  },
  {
   "cell_type": "markdown",
   "id": "cd5b2804",
   "metadata": {
    "slideshow": {
     "slide_type": "-"
    }
   },
   "source": [
    "We've got an error, because by default the input is stored as a string."
   ]
  },
  {
   "cell_type": "markdown",
   "id": "f796aa20",
   "metadata": {
    "slideshow": {
     "slide_type": "slide"
    }
   },
   "source": [
    "### Convert between types"
   ]
  },
  {
   "cell_type": "code",
   "execution_count": 68,
   "id": "8e2428c4",
   "metadata": {
    "scrolled": true
   },
   "outputs": [
    {
     "name": "stdout",
     "output_type": "stream",
     "text": [
      "type a number5\n",
      "6.0\n"
     ]
    }
   ],
   "source": [
    "# value + 1 prints out an error, we need to modify the variable type\n",
    "value = input('type a number')\n",
    "value = float(value) # A float is a number with decimals\n",
    "print(value + 1)"
   ]
  },
  {
   "cell_type": "markdown",
   "id": "6d8df3b0",
   "metadata": {},
   "source": [
    "Now it is a numeric, and can be manipulated as such"
   ]
  },
  {
   "cell_type": "markdown",
   "id": "71a2eb5a",
   "metadata": {
    "slideshow": {
     "slide_type": "slide"
    }
   },
   "source": [
    "## Conditional -- If else statement"
   ]
  },
  {
   "cell_type": "code",
   "execution_count": 72,
   "id": "4c1bc330",
   "metadata": {},
   "outputs": [
    {
     "name": "stdout",
     "output_type": "stream",
     "text": [
      "Tell me a number:50\n",
      "This is a high number\n"
     ]
    }
   ],
   "source": [
    "# Ask for a value\n",
    "value = input('Tell me a number:')\n",
    "value = float(value)\n",
    "# If the value is superior to 10\n",
    "if value > 10:\n",
    "    print('This is a high number')"
   ]
  },
  {
   "cell_type": "markdown",
   "id": "1bfd1bc1",
   "metadata": {},
   "source": [
    "If the number is lower or equal to 10, nothing happens"
   ]
  },
  {
   "cell_type": "code",
   "execution_count": 29,
   "id": "68604545",
   "metadata": {
    "slideshow": {
     "slide_type": "subslide"
    }
   },
   "outputs": [
    {
     "name": "stdout",
     "output_type": "stream",
     "text": [
      "False\n"
     ]
    }
   ],
   "source": [
    "# What we are doing with this if, is asking whether the boolean variable value>10 is True or False\n",
    "condition = value!=10\n",
    "print(condition)"
   ]
  },
  {
   "cell_type": "code",
   "execution_count": 30,
   "id": "f113bdd6",
   "metadata": {},
   "outputs": [],
   "source": [
    "# We could also write it in the following way\n",
    "if condition:\n",
    "    print('This is a high number')\n",
    "\n",
    "if condition == True:\n",
    "    print('This is a high number')"
   ]
  },
  {
   "cell_type": "markdown",
   "id": "c8edf2a4",
   "metadata": {
    "slideshow": {
     "slide_type": "slide"
    }
   },
   "source": [
    "You can decide on what to do in case the `if` condition is `False`"
   ]
  },
  {
   "cell_type": "code",
   "execution_count": 74,
   "id": "cd92a2d8",
   "metadata": {
    "scrolled": true,
    "slideshow": {
     "slide_type": "-"
    }
   },
   "outputs": [
    {
     "name": "stdout",
     "output_type": "stream",
     "text": [
      "Tell me a number:\t7\n",
      "this is a lower number\n"
     ]
    }
   ],
   "source": [
    "# Ask for a value\n",
    "value = input('Tell me a number:\\t')\n",
    "value = float(value)\n",
    "# If the value is superior to 10\n",
    "if value > 10:\n",
    "    print('This is a high number')\n",
    "    print('i like this number')\n",
    "else:\n",
    "    print('this is a lower number')"
   ]
  },
  {
   "cell_type": "markdown",
   "id": "49747ff7",
   "metadata": {
    "slideshow": {
     "slide_type": "slide"
    }
   },
   "source": [
    "### What if you have more than one conditionality?"
   ]
  },
  {
   "cell_type": "code",
   "execution_count": 34,
   "id": "48409c81",
   "metadata": {},
   "outputs": [
    {
     "name": "stdout",
     "output_type": "stream",
     "text": [
      "Tell me a number:\t7\n",
      "this is an okay number\n"
     ]
    }
   ],
   "source": [
    "# First, you can use elif\n",
    "# Ask for a value - convert it directly\n",
    "value = float(input('Tell me a number:\\t'))\n",
    "# If the value is superior to 10\n",
    "if value > 10:\n",
    "    print('This is a high number')\n",
    "elif value < 5:\n",
    "    print('This is a very low number')\n",
    "else:\n",
    "    print('this is an okay number')"
   ]
  },
  {
   "cell_type": "markdown",
   "id": "aee267fb",
   "metadata": {
    "slideshow": {
     "slide_type": "slide"
    }
   },
   "source": [
    "### Loops - Iterations"
   ]
  },
  {
   "cell_type": "code",
   "execution_count": 41,
   "id": "58fde0a6",
   "metadata": {
    "scrolled": true
   },
   "outputs": [
    {
     "name": "stdout",
     "output_type": "stream",
     "text": [
      "0\n",
      "1\n",
      "2\n",
      "3\n",
      "4\n"
     ]
    }
   ],
   "source": [
    "# The loop has the same indentation as if/else statements\n",
    "for a in range(5):\n",
    "    print(a)"
   ]
  },
  {
   "cell_type": "markdown",
   "id": "1afc30be",
   "metadata": {},
   "source": [
    "The same operation is repeated 5 times, but the value of a changes each five times. Notice that in python any iteration starts at 0."
   ]
  },
  {
   "cell_type": "code",
   "execution_count": 76,
   "id": "86fdc133",
   "metadata": {
    "slideshow": {
     "slide_type": "slide"
    }
   },
   "outputs": [
    {
     "name": "stdout",
     "output_type": "stream",
     "text": [
      "Salut, ça va?0\n",
      "Salut, ça va?1\n",
      "Salut, ça va?2\n",
      "Salut, ça va?3\n",
      "Salut, ça va?4\n"
     ]
    }
   ],
   "source": [
    "text = \"Salut, ça va?\"\n",
    "for a in range(5):\n",
    "    print(text)\n",
    "    \n",
    "a=0\n",
    "print(text)\n",
    "a=1\n",
    "print(text)\n",
    "a=2\n",
    "print(text)"
   ]
  },
  {
   "cell_type": "markdown",
   "id": "d64c3c14",
   "metadata": {},
   "source": [
    "Notice that it printed 5 times the next thing.\n",
    "\n",
    "- Loops are great to simply repeat the same operation many times"
   ]
  },
  {
   "cell_type": "markdown",
   "id": "7c9aa408",
   "metadata": {
    "slideshow": {
     "slide_type": "slide"
    }
   },
   "source": [
    "In a loop, the loop indexor loops over the range(5), it can loop over anything we like"
   ]
  },
  {
   "cell_type": "code",
   "execution_count": 44,
   "id": "60c15c65",
   "metadata": {},
   "outputs": [
    {
     "name": "stdout",
     "output_type": "stream",
     "text": [
      "Pausa\n",
      "Caffè\n",
      "?\n"
     ]
    }
   ],
   "source": [
    "# Create a list:\n",
    "sentence_in_a_list = ['Pausa', 'Caffè', '?']\n",
    "for word in sentence_in_a_list:\n",
    "    print(word) # end = ' '"
   ]
  },
  {
   "cell_type": "markdown",
   "id": "796bd616",
   "metadata": {},
   "source": [
    "Here we introduce two new concepts:\n",
    "- Lists\n",
    "- Loop around the element of a list"
   ]
  },
  {
   "cell_type": "markdown",
   "id": "a54666b2",
   "metadata": {
    "slideshow": {
     "slide_type": "subslide"
    }
   },
   "source": [
    "### Lists\n",
    "\n",
    "Lists are objects used in python to store the information"
   ]
  },
  {
   "cell_type": "code",
   "execution_count": 46,
   "id": "8c9fde56",
   "metadata": {},
   "outputs": [
    {
     "name": "stdout",
     "output_type": "stream",
     "text": [
      "[]\n"
     ]
    }
   ],
   "source": [
    "random_list = list()\n",
    "print(random_list)"
   ]
  },
  {
   "cell_type": "markdown",
   "id": "9e87b136",
   "metadata": {},
   "source": [
    "We've created an empty list"
   ]
  },
  {
   "cell_type": "code",
   "execution_count": 47,
   "id": "383780e5",
   "metadata": {},
   "outputs": [
    {
     "name": "stdout",
     "output_type": "stream",
     "text": [
      "[]\n"
     ]
    }
   ],
   "source": [
    "# This also creates an empty list\n",
    "random_list = ['pausa', 5, [3]]\n",
    "print(random_list)"
   ]
  },
  {
   "cell_type": "code",
   "execution_count": 78,
   "id": "f7cba128",
   "metadata": {
    "slideshow": {
     "slide_type": "subslide"
    }
   },
   "outputs": [
    {
     "name": "stdout",
     "output_type": "stream",
     "text": [
      "[1, 2, 'pomme', True]\n"
     ]
    }
   ],
   "source": [
    "# LIst are extremely useful\n",
    "random_list = [1,2, 'pomme', 2>1]\n",
    "print(random_list)"
   ]
  },
  {
   "cell_type": "markdown",
   "id": "fbdfacf4",
   "metadata": {},
   "source": [
    "As you can see, a list can contain many different type of elements!"
   ]
  },
  {
   "cell_type": "code",
   "execution_count": 82,
   "id": "6b6804b7",
   "metadata": {},
   "outputs": [
    {
     "name": "stdout",
     "output_type": "stream",
     "text": [
      "['pomme', True]\n",
      "We just printed the first element of the list\n"
     ]
    }
   ],
   "source": [
    "# To access a particular element of a list, you use squared brackets\n",
    "print(random_list[-2:])\n",
    "print('We just printed the first element of the list')"
   ]
  },
  {
   "cell_type": "code",
   "execution_count": 142,
   "id": "1b0547b4",
   "metadata": {
    "slideshow": {
     "slide_type": "subslide"
    }
   },
   "outputs": [
    {
     "name": "stdout",
     "output_type": "stream",
     "text": [
      "[1, 2, 'pomme', True, 1, 2, 'pomme', True, 1, 2, 'pomme', True]\n"
     ]
    }
   ],
   "source": [
    "# You cannot perform operation between a list and number in the way you would think\n",
    "print(3*random_list)"
   ]
  },
  {
   "cell_type": "markdown",
   "id": "b10b846f",
   "metadata": {},
   "source": [
    "We've just `multiplied` the list by 3 in the sense that we've repeated it 3 times"
   ]
  },
  {
   "cell_type": "code",
   "execution_count": 52,
   "id": "7b18c4dc",
   "metadata": {
    "slideshow": {
     "slide_type": "subslide"
    }
   },
   "outputs": [
    {
     "data": {
      "text/plain": [
       "[1, 2]"
      ]
     },
     "execution_count": 52,
     "metadata": {},
     "output_type": "execute_result"
    }
   ],
   "source": [
    "# We can also access several elements of a list at the same time\n",
    "print(random_list[:2]) # THis prints the first two elements!"
   ]
  },
  {
   "cell_type": "code",
   "execution_count": 53,
   "id": "d9e94c0d",
   "metadata": {
    "scrolled": true
   },
   "outputs": [
    {
     "ename": "TypeError",
     "evalue": "list indices must be integers or slices, not tuple",
     "output_type": "error",
     "traceback": [
      "\u001b[1;31m---------------------------------------------------------------------------\u001b[0m",
      "\u001b[1;31mTypeError\u001b[0m                                 Traceback (most recent call last)",
      "Cell \u001b[1;32mIn[53], line 1\u001b[0m\n\u001b[1;32m----> 1\u001b[0m random_list[\u001b[38;5;241m0\u001b[39m,\u001b[38;5;241m2\u001b[39m]\n",
      "\u001b[1;31mTypeError\u001b[0m: list indices must be integers or slices, not tuple"
     ]
    }
   ],
   "source": [
    "random_list[0,2]"
   ]
  },
  {
   "cell_type": "code",
   "execution_count": 54,
   "id": "2c4671dc",
   "metadata": {},
   "outputs": [
    {
     "data": {
      "text/plain": [
       "[1, 'pomme']"
      ]
     },
     "execution_count": 54,
     "metadata": {},
     "output_type": "execute_result"
    }
   ],
   "source": [
    "[random_list[0], random_list[2]]"
   ]
  },
  {
   "cell_type": "code",
   "execution_count": 56,
   "id": "d18d364d",
   "metadata": {
    "slideshow": {
     "slide_type": "subslide"
    }
   },
   "outputs": [
    {
     "data": {
      "text/plain": [
       "['pomme', True]"
      ]
     },
     "execution_count": 56,
     "metadata": {},
     "output_type": "execute_result"
    }
   ],
   "source": [
    "# For selection, if you use -1 you start from the end\n",
    "random_list[-2:] # This yields the last two elements of the list"
   ]
  },
  {
   "cell_type": "code",
   "execution_count": 85,
   "id": "af53570c",
   "metadata": {
    "slideshow": {
     "slide_type": "slide"
    }
   },
   "outputs": [
    {
     "name": "stdout",
     "output_type": "stream",
     "text": [
      "Pausa caffè ? "
     ]
    }
   ],
   "source": [
    "# Create a list:\n",
    "sentence_in_a_list = ['Pausa', 'caffè', '?']\n",
    "for word in sentence_in_a_list:\n",
    "    print(word, end = ' ')"
   ]
  },
  {
   "cell_type": "code",
   "execution_count": 92,
   "id": "c1255d9f",
   "metadata": {
    "slideshow": {
     "slide_type": "subslide"
    }
   },
   "outputs": [
    {
     "name": "stdout",
     "output_type": "stream",
     "text": [
      "Pausa caffè ? Pausa caffè ? "
     ]
    }
   ],
   "source": [
    "# Create a list:\n",
    "sentence_in_a_list = ['Pausa', 'caffè', '?']\n",
    "for word in sentence_in_a_list:\n",
    "    print(word, end = ' ')\n",
    "    \n",
    "# Create a tuple, an immutable list\n",
    "c = ('Pausa', 'caffè', '?')\n",
    "for word in sentence_in_a_tuple:\n",
    "    print(word, end = ' ')"
   ]
  },
  {
   "cell_type": "code",
   "execution_count": 94,
   "id": "c87524b2",
   "metadata": {},
   "outputs": [
    {
     "name": "stdout",
     "output_type": "stream",
     "text": [
      "3\n",
      "4\n"
     ]
    }
   ],
   "source": [
    "print(len(sentence_in_a_list))\n",
    "sentence_in_a_list.append('new element')\n",
    "print(len(sentence_in_a_list))"
   ]
  },
  {
   "cell_type": "markdown",
   "id": "582dd138",
   "metadata": {},
   "source": [
    "Notice how there's no return to the line between the two!"
   ]
  },
  {
   "cell_type": "code",
   "execution_count": 58,
   "id": "83b5cd46",
   "metadata": {
    "slideshow": {
     "slide_type": "slide"
    }
   },
   "outputs": [
    {
     "name": "stdout",
     "output_type": "stream",
     "text": [
      "Pausa caffè ?\n",
      "Pausa caffè ? "
     ]
    }
   ],
   "source": [
    "# You can introduce if and else statement in a loop\n",
    "sentence_in_a_list = ['Pausa', 'caffè', '?']\n",
    "for word in sentence_in_a_list:\n",
    "    if word != \"?\":\n",
    "        print(word, end = ' ')\n",
    "    else:\n",
    "        print(word)\n",
    "        \n",
    "# Create a tuple, an immutable list\n",
    "sentence_in_a_tuple = ('Pausa', 'caffè', '?')\n",
    "for word in sentence_in_a_tuple:\n",
    "    print(word, end = ' ')"
   ]
  },
  {
   "cell_type": "markdown",
   "id": "2b2fed99",
   "metadata": {
    "slideshow": {
     "slide_type": "slide"
    }
   },
   "source": [
    "### FizzBuzz\n",
    "\n",
    "A classical exercise of programming. Count from 1 to 100.\n",
    "\n",
    "    - print fizz if the number can be divided by 3\n",
    "    - print buzz if the number can be divided by 5\n",
    "    - print fizzbuzz if the number can be divided by both"
   ]
  },
  {
   "cell_type": "code",
   "execution_count": 46,
   "id": "04136076",
   "metadata": {
    "scrolled": true
   },
   "outputs": [
    {
     "name": "stdout",
     "output_type": "stream",
     "text": [
      "fizz\n",
      "fizz\n",
      "fizz\n",
      "fizz\n"
     ]
    }
   ],
   "source": [
    "for ii in range(10):\n",
    "    # If it's divisible by 3, write fizz\n",
    "    if (ii % 3 == 0):\n",
    "        print('fizz')"
   ]
  },
  {
   "cell_type": "markdown",
   "id": "626478d3",
   "metadata": {
    "slideshow": {
     "slide_type": "subslide"
    }
   },
   "source": [
    "Notice that it printed one to many fizz, because when ii starts at 0 the remainder of it divided by 3 is 0"
   ]
  },
  {
   "cell_type": "code",
   "execution_count": 49,
   "id": "024841ec",
   "metadata": {
    "slideshow": {
     "slide_type": "-"
    }
   },
   "outputs": [
    {
     "name": "stdout",
     "output_type": "stream",
     "text": [
      "fizz\n",
      "fizz\n",
      "fizz\n",
      "fizz\n",
      "fizz\n",
      "fizz\n"
     ]
    }
   ],
   "source": [
    "# There are two ways to go about it\n",
    "for ii in range(10):\n",
    "    # If it's divisible by 3, and it's not 0 write fizz\n",
    "    if (ii % 3 == 0) and (ii != 0):\n",
    "        print('fizz')\n",
    "        \n",
    "# Or start the loop at 1\n",
    "range_1_to_10 = [1,2,3,4,5,6,7,8,9,10]\n",
    "for ii in range(1, 11):\n",
    "    # If it's divisible by 3, and it's not 0 write fizz\n",
    "    if (ii % 3 == 0):\n",
    "        print('fizz')"
   ]
  },
  {
   "cell_type": "markdown",
   "id": "8246681b",
   "metadata": {
    "slideshow": {
     "slide_type": "slide"
    }
   },
   "source": [
    "## Exercise 1 - FizzBuzz\n",
    "\n",
    "Between 1 and 100, count the number of time you respectively print fizz, buzz. Then print the result.\n",
    "\n",
    "    - print fizz if the number can be divided by 3\n",
    "    - print buzz if the number can be divided by 5\n",
    "    - print fizzbuzz if the number can be divided by both"
   ]
  },
  {
   "cell_type": "code",
   "execution_count": null,
   "id": "c607e584",
   "metadata": {},
   "outputs": [],
   "source": [
    "for ii in range(1,101):\n",
    "    for jj in range(5):\n",
    "        if (ii + jj) == 5:\n",
    "            print(ii +jj)\n",
    "        zz = ii + jj"
   ]
  },
  {
   "cell_type": "code",
   "execution_count": 97,
   "id": "b0941e00",
   "metadata": {
    "slideshow": {
     "slide_type": "subslide"
    }
   },
   "outputs": [
    {
     "name": "stdout",
     "output_type": "stream",
     "text": [
      "27\n",
      "14\n",
      "6\n"
     ]
    }
   ],
   "source": [
    "# Create variables that start their count at 0\n",
    "fizzs = 0\n",
    "buzzs = 0\n",
    "fizzbuzz = 0\n",
    "for ii in range(1, 101):\n",
    "    \n",
    "    if ((ii % 3 == 0) and not ((ii % 5 ==0))):\n",
    "        fizzs = fizzs + 1\n",
    "        #print('fizz')\n",
    "    if ((not (ii % 3 == 0)) and (ii % 5 ==0)):\n",
    "        buzzs = buzzs + 1\n",
    "        #print('buzz')\n",
    "    if (ii % 3 == 0) and (ii % 5 == 0):\n",
    "        fizzbuzz = fizzbuzz + 1\n",
    "        #print('fizzbuzz')\n",
    "\n",
    "print(fizzs)\n",
    "print(buzzs)\n",
    "print(fizzbuzz)"
   ]
  }
 ],
 "metadata": {
  "celltoolbar": "Diaporama",
  "kernelspec": {
   "display_name": "Python 3 (ipykernel)",
   "language": "python",
   "name": "python3"
  },
  "language_info": {
   "codemirror_mode": {
    "name": "ipython",
    "version": 3
   },
   "file_extension": ".py",
   "mimetype": "text/x-python",
   "name": "python",
   "nbconvert_exporter": "python",
   "pygments_lexer": "ipython3",
   "version": "3.12.2"
  }
 },
 "nbformat": 4,
 "nbformat_minor": 5
}
