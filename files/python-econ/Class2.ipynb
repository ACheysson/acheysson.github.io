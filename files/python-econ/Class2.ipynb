{
 "cells": [
  {
   "cell_type": "markdown",
   "id": "414b1b82",
   "metadata": {
    "slideshow": {
     "slide_type": "slide"
    }
   },
   "source": [
    "## Class 2\n",
    "\n",
    "Today we will:\n",
    "\n",
    "- Review material from yesterday.\n",
    "- Dive deeper into the base functioning of Python.\n",
    "- Start with statistical analysis!"
   ]
  },
  {
   "cell_type": "markdown",
   "id": "94dcdd75",
   "metadata": {
    "slideshow": {
     "slide_type": "slide"
    }
   },
   "source": [
    "### Reviewing yesterday\n",
    "\n",
    "Yesterday we've seen:\n",
    "\n",
    "how to install and use anaconda\n",
    "\n",
    "Some Variable formats:\n",
    "- numbers\n",
    "- string\n",
    "- lists\n",
    "- boolean"
   ]
  },
  {
   "cell_type": "markdown",
   "id": "d1f160f7",
   "metadata": {
    "slideshow": {
     "slide_type": "subslide"
    }
   },
   "source": [
    "Some key python concepts:\n",
    "\n",
    "- inputs\n",
    "- loops\n",
    "- if/else statements"
   ]
  },
  {
   "cell_type": "markdown",
   "id": "e18a1b40",
   "metadata": {
    "slideshow": {
     "slide_type": "subslide"
    }
   },
   "source": [
    "Let us start the review of yesterday's results with one new concept, and an exercise"
   ]
  },
  {
   "cell_type": "code",
   "execution_count": 21,
   "id": "4a13a487",
   "metadata": {},
   "outputs": [
    {
     "name": "stdout",
     "output_type": "stream",
     "text": [
      "0.64\n"
     ]
    }
   ],
   "source": [
    "# Importing a library.\n",
    "import random\n",
    "\n",
    "random.seed(42)\n",
    "# Importing the library, we import new functions that are not in the base python, we can use these functions\n",
    "# only after they are imported\n",
    "# Draw a random number between 0 and 1\n",
    "random_number = random.uniform(0,1)\n",
    "\n",
    "# Round it so it has less decimals\n",
    "random_number = round(random_number, 2)\n",
    "\n",
    "print(random_number)"
   ]
  },
  {
   "cell_type": "markdown",
   "id": "e35ea6ac",
   "metadata": {
    "slideshow": {
     "slide_type": "subslide"
    }
   },
   "source": [
    "The first exercise is the following one: Cointoss\n",
    "\n",
    "Imagine you're about to do 10 cointosses. I want you to compute the mean number of heads for 10 cointosses.\n",
    "\n",
    "0. Create a variable to store the number of heads\n",
    "1. Start a loop that will iterate 10 times\n",
    "2. Within the loop, draw a random number between 0 and 1\n",
    "3. If it's superiod to 0.5, it's heads, add 1 to the variable recording the number of heads\n",
    "4. print the number of heads\n"
   ]
  },
  {
   "cell_type": "code",
   "execution_count": 24,
   "id": "39011f44",
   "metadata": {
    "slideshow": {
     "slide_type": "subslide"
    }
   },
   "outputs": [
    {
     "name": "stdout",
     "output_type": "stream",
     "text": [
      "8\n"
     ]
    }
   ],
   "source": [
    "random.seed(5)\n",
    "# Create a variable to count the number of heads\n",
    "number_of_heads = 0\n",
    "# Create an inner loop, where we play the game\n",
    "for jj in range(10):\n",
    "\n",
    "    # Use a random number generation to reproduce a coin toss\n",
    "    cointoss = random.uniform(0,1)\n",
    "    if cointoss > 0.5:\n",
    "        number_of_heads = number_of_heads + 1\n",
    "    # If it's heads add 1 to var_to_count, otherwise do nothing\n",
    "    \n",
    "# Now that it is over, print the var to count\n",
    "print(number_of_heads)"
   ]
  },
  {
   "cell_type": "markdown",
   "id": "cee568c6",
   "metadata": {
    "slideshow": {
     "slide_type": "subslide"
    }
   },
   "source": [
    "The exercise is still the same: cointoss\n",
    "\n",
    "You will need to repeat the 10 cointosses at least 100 times. I want to know the average number of heads over the 100 times you repeated the game:\n",
    "\n",
    "0. Create an empty list, call it total_results\n",
    "1. Start a first loop, for the 100 times you'll do the experiment\n",
    "2. Create a counter and put it at 0 (number_heads = 0)\n",
    "3. Start a second loop, corresponding to the 10 cointosses\n",
    "4. Flip the coin using random.uniform(0,1). If it's above than 0.5 it's tails\n",
    "5. If it's heads, add 1 to number_heads\n",
    "6. Exit the second loop append number_heads to total_results\n",
    "7. Exit the first loop"
   ]
  },
  {
   "cell_type": "code",
   "execution_count": 37,
   "id": "2d3f7e6d",
   "metadata": {
    "slideshow": {
     "slide_type": "subslide"
    }
   },
   "outputs": [
    {
     "name": "stdout",
     "output_type": "stream",
     "text": [
      "4.996\n"
     ]
    }
   ],
   "source": [
    "# This is to give you an idea of what you want to do\n",
    "random.seed(1)\n",
    "# First write an empty list we'll append\n",
    "my_list_of_results = []\n",
    "# Second start an outer loop, we will repeat the game 100 times\n",
    "for ii in range(10000):\n",
    "    # Create a variable to count the number of heads\n",
    "    var_to_count = 0\n",
    "    # Create an inner loop, where we play the game\n",
    "    for jj in range(10):\n",
    "        \n",
    "        # Use a random number generation to reproduce a coin toss\n",
    "        cointoss = random.uniform(0,1)\n",
    "        # Did we get heads?\n",
    "        if cointoss > 0.5:\n",
    "            var_to_count = var_to_count + 1\n",
    "        \n",
    "        \n",
    "        # If it's heads add 1 to var_to_count, otherwise do nothing\n",
    "    \n",
    "    # Record the number of heads obtained in this experiment in the list at the beginning.\n",
    "    my_list_of_results.append(var_to_count)\n",
    "average_heads = sum(my_list_of_results)/len(my_list_of_results)\n",
    "print(average_heads)"
   ]
  },
  {
   "cell_type": "markdown",
   "id": "95569e24",
   "metadata": {
    "slideshow": {
     "slide_type": "subslide"
    }
   },
   "source": [
    "### Did you manage?\n",
    "\n",
    "A few things to check whether your code is correct."
   ]
  },
  {
   "cell_type": "markdown",
   "id": "13834b18",
   "metadata": {},
   "source": [
    "- What you created is called a binomial distribution https://en.wikipedia.org/wiki/Binomial_distribution of parameters n = 10 (the number of cointosses) and probability p = 0.5\n",
    "\n",
    "- The expectation of such a law is equal to np = 5.\n",
    "\n",
    "- By the law of large numbers, if you repeat your game many many times, your findings should converge to the actual expectation\n",
    "\n",
    "*Increase the number on the outer loops, the higher it is the closer your results should be to 5!*\n",
    "\n",
    "To check whether your solution yields the same solution as mine. Fix the seed."
   ]
  },
  {
   "cell_type": "code",
   "execution_count": 41,
   "id": "36a64c42",
   "metadata": {
    "slideshow": {
     "slide_type": "subslide"
    }
   },
   "outputs": [
    {
     "name": "stdout",
     "output_type": "stream",
     "text": [
      "5.27\n"
     ]
    }
   ],
   "source": [
    "#### SOLUTION\n",
    "random.seed(1)\n",
    "# First instantiate an empty list\n",
    "total_results = []\n",
    "# Start the outer loop, we'll do the 10 cointosses a hundred times\n",
    "for ii in range(100):\n",
    "    # For each exercise, we'll count the number of heads\n",
    "    number_heads = 0\n",
    "    # Start the inner loop, the actual 10 cointosses\n",
    "    for jj in range(10):\n",
    "        # Draw a random number\n",
    "        random_number = random.uniform(0,1)\n",
    "        # If it's superior to 0.5, it's heads\n",
    "        if random_number > 0.5:\n",
    "            # add it to the results\n",
    "            number_heads += 1\n",
    "    # Add the results of this experience to the total_results list   \n",
    "    total_results.append(number_heads)\n",
    "    \n",
    "# Then, the average \n",
    "print(sum(total_results)/len(total_results))"
   ]
  },
  {
   "cell_type": "markdown",
   "id": "3405975a",
   "metadata": {
    "slideshow": {
     "slide_type": "slide"
    }
   },
   "source": [
    "For loops are great, but you have to know the end point. Sometimes you do not.\n",
    "\n",
    "- In this case scenario, you use the while loop.\n",
    "\n",
    "Suppose I want to know how many times I need to divide 10 by 2 for it to be lower than 1."
   ]
  },
  {
   "cell_type": "code",
   "execution_count": 38,
   "id": "1f4967f0",
   "metadata": {
    "slideshow": {
     "slide_type": "subslide"
    }
   },
   "outputs": [
    {
     "name": "stdout",
     "output_type": "stream",
     "text": [
      "4\n"
     ]
    }
   ],
   "source": [
    "# Pre-initialize some variables\n",
    "number = 10\n",
    "number_of_times = 0\n",
    "\n",
    "# Now do a loop\n",
    "while number > 1:\n",
    "    \n",
    "    # Divide it by two\n",
    "    # number = number/2\n",
    "    number /= 2\n",
    "    # number_of_times = number_of_times + 1\n",
    "    number_of_times += 1\n",
    "    \n",
    "print(number_of_times)"
   ]
  },
  {
   "cell_type": "markdown",
   "id": "ed0cd707",
   "metadata": {
    "slideshow": {
     "slide_type": "subslide"
    }
   },
   "source": [
    "You have to be careful with while loop:\n",
    "\n",
    "- They can run indefinitely if the condition is never reached"
   ]
  },
  {
   "cell_type": "markdown",
   "id": "2a3a3f45",
   "metadata": {
    "slideshow": {
     "slide_type": "slide"
    }
   },
   "source": [
    "## Exercise 2 - The Negotiation\n",
    "\n",
    "Imagine a buyer and a seller are negotiating the price of a good. The seller asks for 200€, the buyer starts at 100€. Each period of the game:\n",
    "\n",
    "- The seller reduces its price by 1% each period (of the price it had in this period)\n",
    "- The buyer increases its price by 1€\n",
    "\n",
    "At what price do they end up agreeing?"
   ]
  },
  {
   "cell_type": "code",
   "execution_count": 42,
   "id": "2b39b4f6",
   "metadata": {},
   "outputs": [
    {
     "name": "stdout",
     "output_type": "stream",
     "text": [
      "138\n",
      "136.51091900207743\n"
     ]
    }
   ],
   "source": [
    "# Write the starting prices\n",
    "seller = 200\n",
    "buyer = 100\n",
    "\n",
    "# They stop, whenver the buyer's price, is above the seller's price\n",
    "while buyer<seller:\n",
    "    seller = seller*0.99\n",
    "    buyer = buyer + 1\n",
    "    \n",
    "print(buyer)\n",
    "print(seller)\n",
    "    "
   ]
  },
  {
   "cell_type": "markdown",
   "id": "7238df91",
   "metadata": {
    "slideshow": {
     "slide_type": "subslide"
    }
   },
   "source": [
    "What if we want to study the dynamics of this negotiation and remember the result for each iteration  the loop?\n",
    "\n",
    "    - Rewrite the loop so to store the information of each iteration in a loop\n"
   ]
  },
  {
   "cell_type": "code",
   "execution_count": 46,
   "id": "d540ae9a",
   "metadata": {
    "slideshow": {
     "slide_type": "subslide"
    }
   },
   "outputs": [
    {
     "name": "stdout",
     "output_type": "stream",
     "text": [
      "[100, 101, 102, 103, 104, 105, 106, 107, 108, 109, 110, 111, 112, 113, 114, 115, 116, 117, 118, 119, 120, 121, 122, 123, 124, 125, 126, 127, 128, 129, 130, 131, 132, 133, 134, 135, 136, 137, 138]\n"
     ]
    }
   ],
   "source": [
    "# Write the starting prices\n",
    "seller = list()\n",
    "buyer = list()\n",
    "seller.append(200)\n",
    "buyer.append(100)\n",
    "# Initiate the while loop, it will stop when the buyer's price is above the seller's price\n",
    "ii = 0\n",
    "while seller[ii] > buyer[ii]:\n",
    "    # Add a new value to the list\n",
    "    seller.append(seller[ii]*0.99)\n",
    "    buyer.append(buyer[ii]+1)\n",
    "    \n",
    "    # Make sure the list goes on\n",
    "    ii = ii + 1\n",
    "    \n",
    "print(buyer)"
   ]
  },
  {
   "cell_type": "code",
   "execution_count": 47,
   "id": "21ceb245",
   "metadata": {
    "slideshow": {
     "slide_type": "subslide"
    }
   },
   "outputs": [
    {
     "name": "stdout",
     "output_type": "stream",
     "text": [
      "The negotiation lasted:  39 periods\n",
      "The negotiation lasted:  39 periods\n"
     ]
    }
   ],
   "source": [
    "# Let's get the number of iterations of the loop\n",
    "print('The negotiation lasted: ', ii+1, 'periods')\n",
    "print('The negotiation lasted: ', len(seller), 'periods')"
   ]
  },
  {
   "cell_type": "markdown",
   "id": "8693344a",
   "metadata": {
    "slideshow": {
     "slide_type": "slide"
    }
   },
   "source": [
    "### Plotting - A package to download\n",
    "\n",
    "In python (like in R/Julia), you're gonna use packages for a lot of stuff. You're literally standing on the shoulders of giants."
   ]
  },
  {
   "cell_type": "code",
   "execution_count": 5,
   "id": "555b0e39",
   "metadata": {
    "scrolled": true
   },
   "outputs": [
    {
     "ename": "ModuleNotFoundError",
     "evalue": "No module named 'matplotlib'",
     "output_type": "error",
     "traceback": [
      "\u001b[1;31m---------------------------------------------------------------------------\u001b[0m",
      "\u001b[1;31mModuleNotFoundError\u001b[0m                       Traceback (most recent call last)",
      "Cell \u001b[1;32mIn[5], line 1\u001b[0m\n\u001b[1;32m----> 1\u001b[0m \u001b[38;5;28;01mimport\u001b[39;00m \u001b[38;5;21;01mmatplotlib\u001b[39;00m\u001b[38;5;21;01m.\u001b[39;00m\u001b[38;5;21;01mpyplot\u001b[39;00m \u001b[38;5;28;01mas\u001b[39;00m \u001b[38;5;21;01mplt\u001b[39;00m\n",
      "\u001b[1;31mModuleNotFoundError\u001b[0m: No module named 'matplotlib'"
     ]
    }
   ],
   "source": [
    "import matplotlib.pyplot as plt"
   ]
  },
  {
   "cell_type": "markdown",
   "id": "e116dee0",
   "metadata": {
    "slideshow": {
     "slide_type": "subslide"
    }
   },
   "source": [
    "### Package Installation\n",
    "\n",
    "You need to install packages before you can use them. You have two choices:"
   ]
  },
  {
   "cell_type": "code",
   "execution_count": null,
   "id": "b43bb80c",
   "metadata": {},
   "outputs": [],
   "source": [
    "# Either in the spyder console you type\n",
    "!pip install matplotlib"
   ]
  },
  {
   "cell_type": "markdown",
   "id": "141aee7b",
   "metadata": {},
   "source": [
    "Or the second option"
   ]
  },
  {
   "cell_type": "code",
   "execution_count": null,
   "id": "2fef565e",
   "metadata": {},
   "outputs": [],
   "source": [
    "# Either on anaconda you type\n",
    "conda install matplotlib"
   ]
  },
  {
   "cell_type": "markdown",
   "id": "5fe832f8",
   "metadata": {},
   "source": [
    "The second option is preferred in general. It depends on how lazy you are."
   ]
  },
  {
   "cell_type": "code",
   "execution_count": 48,
   "id": "f70f77e8",
   "metadata": {
    "slideshow": {
     "slide_type": "slide"
    }
   },
   "outputs": [
    {
     "data": {
      "image/png": "[encoded data removed]",
      "text/plain": [
       "<Figure size 640x480 with 1 Axes>"
      ]
     },
     "metadata": {},
     "output_type": "display_data"
    }
   ],
   "source": [
    "import matplotlib.pyplot as plt\n",
    "\n",
    "# Create a figure and axis for the plot\n",
    "fig, ax = plt.subplots()\n",
    "\n",
    "# Plotting both lists\n",
    "ax.plot(seller, label='Seller Price')\n",
    "ax.plot(buyer, label='Buyer Price')\n",
    "\n",
    "# Adding labels and title\n",
    "ax.set_xlabel('Iteration')\n",
    "ax.set_ylabel('Price')\n",
    "ax.set_title('Seller and Buyer Price Comparison')\n",
    "# Add the legend (by default inside of the graph)\n",
    "ax.legend()\n",
    "\n",
    "# Display the plot\n",
    "#plt.savefig('C:/Users/anato/Documents/travail/courses/python-for-economist/class1/first_plot.png') # You'll need to modify that path\n",
    "plt.show()"
   ]
  },
  {
   "cell_type": "markdown",
   "id": "4beb7128",
   "metadata": {
    "slideshow": {
     "slide_type": "slide"
    }
   },
   "source": [
    "### Exercice 3 - Mixing while and for loops\n",
    "\n",
    "Let's go back to the cointoss exercise. Instead of doing 10 cointosses, do as many cointosses as necessary to obtain 3 heads, and record the number of tosses necessary.\n",
    "\n",
    "0. Variable to count the number of tosses. Variable to count the number of heads\n",
    "1. While loops with condition on the number of heads\n",
    "2. Toss a coin\n",
    "3. Record the results\n",
    "4. Exit loop and tell me how many tosses were necessary\n"
   ]
  },
  {
   "cell_type": "code",
   "execution_count": 49,
   "id": "31ff03d1",
   "metadata": {
    "slideshow": {
     "slide_type": "slide"
    }
   },
   "outputs": [
    {
     "name": "stdout",
     "output_type": "stream",
     "text": [
      "7\n"
     ]
    }
   ],
   "source": [
    "import random\n",
    "random.seed(1)\n",
    "tosses = 0\n",
    "heads = 0\n",
    "while heads!=3:\n",
    "    # coin toss\n",
    "    toss = random.uniform(0,1)\n",
    "    if toss>0.5: # I got a head\n",
    "        heads = heads + 1\n",
    "    tosses = tosses + 1\n",
    "    # add 1 to heads if it's a heads\n",
    "print(tosses)"
   ]
  },
  {
   "cell_type": "code",
   "execution_count": 58,
   "id": "04c7c8de",
   "metadata": {},
   "outputs": [
    {
     "name": "stdout",
     "output_type": "stream",
     "text": [
      "5.88\n"
     ]
    }
   ],
   "source": [
    "# We first want to initialize our list of results\n",
    "res = list()\n",
    "# Then we'll want to repeat the exercise a 100\n",
    "for ii in range(100):\n",
    "    tosses = 0\n",
    "    heads = 0\n",
    "    while heads != 3:\n",
    "        toss = random.uniform(0,1)\n",
    "        if toss>0.5:\n",
    "            heads = heads + 1\n",
    "        tosses = tosses + 1\n",
    "     res.append(tosses)\n",
    "print(sum(res)/len(res))"
   ]
  },
  {
   "cell_type": "markdown",
   "id": "ae6650ac",
   "metadata": {
    "slideshow": {
     "slide_type": "slide"
    }
   },
   "source": [
    "### Exercice 3.5 - Mixing while and for\n",
    "\n",
    "Now I want you to compute the average number of cointosses necessary to have 3 heads.\n",
    "\n",
    "0. Create a list to store results\n",
    "1. A for loop, let's say 100 iterations\n",
    "2. A variable to count the number of heads and a variable to record the number of heads\n",
    "3. A while loop, condition being reaching 5 heads\n",
    "4. A coin toss\n",
    "5. Accumulate number of heads variable/number of tosses\n",
    "6. Append the list with the number of tosses\n",
    "7. Exit loops and tell me the average number of tosses"
   ]
  },
  {
   "cell_type": "code",
   "execution_count": null,
   "id": "503bcf70",
   "metadata": {},
   "outputs": [],
   "source": [
    "tosses = \n",
    "heads =\n",
    "while heads...\n",
    "    # coin toss\n",
    "    # add 1 to heads if it's a heads"
   ]
  },
  {
   "cell_type": "markdown",
   "id": "1ccdab1c",
   "metadata": {
    "slideshow": {
     "slide_type": "slide"
    }
   },
   "source": [
    "### Functions\n",
    "\n",
    "In two of the last three exercises, we would have benefitted from functions a lot.\n",
    "In a sense, we've played 100 times the same game: cointoss. What if we could summarize the cointoss game?"
   ]
  },
  {
   "cell_type": "code",
   "execution_count": 60,
   "id": "c2854c53",
   "metadata": {},
   "outputs": [
    {
     "name": "stdout",
     "output_type": "stream",
     "text": [
      "I just ran my first function\n"
     ]
    }
   ],
   "source": [
    "def myfirstfunction():\n",
    "    \n",
    "    print('I just ran my first function')\n",
    "    \n",
    "myfirstfunction()"
   ]
  },
  {
   "cell_type": "code",
   "execution_count": 62,
   "id": "30950883",
   "metadata": {
    "slideshow": {
     "slide_type": "subslide"
    }
   },
   "outputs": [
    {
     "data": {
      "text/plain": [
       "<function __main__.myfirstfunction()>"
      ]
     },
     "execution_count": 62,
     "metadata": {},
     "output_type": "execute_result"
    }
   ],
   "source": [
    "# Functions are objects in themselves\n",
    "myfirstfunction"
   ]
  },
  {
   "cell_type": "markdown",
   "id": "4451470b",
   "metadata": {
    "slideshow": {
     "slide_type": "subslide"
    }
   },
   "source": [
    "Whatever happens in a function, stays in the function.\n",
    "(unless it's returned or printed)"
   ]
  },
  {
   "cell_type": "code",
   "execution_count": 63,
   "id": "2d11e758",
   "metadata": {
    "slideshow": {
     "slide_type": "-"
    }
   },
   "outputs": [
    {
     "name": "stdout",
     "output_type": "stream",
     "text": [
      "I just ran my first function\n"
     ]
    }
   ],
   "source": [
    "def myfirstfunction():\n",
    "    newvariable = 1\n",
    "    print('I just ran my first function')\n",
    "    \n",
    "myfirstfunction()"
   ]
  },
  {
   "cell_type": "code",
   "execution_count": 232,
   "id": "483cdcbd",
   "metadata": {},
   "outputs": [
    {
     "ename": "NameError",
     "evalue": "name 'newvariable' is not defined",
     "output_type": "error",
     "traceback": [
      "\u001b[1;31m---------------------------------------------------------------------------\u001b[0m",
      "\u001b[1;31mNameError\u001b[0m                                 Traceback (most recent call last)",
      "Cell \u001b[1;32mIn[232], line 1\u001b[0m\n\u001b[1;32m----> 1\u001b[0m \u001b[38;5;28mprint\u001b[39m(newvariable)\n",
      "\u001b[1;31mNameError\u001b[0m: name 'newvariable' is not defined"
     ]
    }
   ],
   "source": [
    "print(newvariable)"
   ]
  },
  {
   "cell_type": "markdown",
   "id": "1766afcd",
   "metadata": {},
   "source": [
    "The variable was not created!!"
   ]
  },
  {
   "cell_type": "markdown",
   "id": "3251c16e",
   "metadata": {
    "slideshow": {
     "slide_type": "subslide"
    }
   },
   "source": [
    "Functions can take in inputs"
   ]
  },
  {
   "cell_type": "code",
   "execution_count": 67,
   "id": "5634c519",
   "metadata": {},
   "outputs": [
    {
     "name": "stdout",
     "output_type": "stream",
     "text": [
      "5\n"
     ]
    }
   ],
   "source": [
    "def mythirdfunction(number=5):\n",
    "    print(number)\n",
    "mythirdfunction()"
   ]
  },
  {
   "cell_type": "markdown",
   "id": "5d679692",
   "metadata": {
    "slideshow": {
     "slide_type": "-"
    }
   },
   "source": [
    "We did not give the function the input it wanted"
   ]
  },
  {
   "cell_type": "code",
   "execution_count": 234,
   "id": "190f2cc6",
   "metadata": {
    "scrolled": true,
    "slideshow": {
     "slide_type": "subslide"
    }
   },
   "outputs": [
    {
     "name": "stdout",
     "output_type": "stream",
     "text": [
      "3\n"
     ]
    }
   ],
   "source": [
    "mythirdfunction(3)"
   ]
  },
  {
   "cell_type": "markdown",
   "id": "55739a29",
   "metadata": {},
   "source": [
    "The functions can be defined to have already an input in case you forgot to put one\n"
   ]
  },
  {
   "cell_type": "code",
   "execution_count": 236,
   "id": "ae1558ce",
   "metadata": {},
   "outputs": [
    {
     "name": "stdout",
     "output_type": "stream",
     "text": [
      "5\n",
      "6\n"
     ]
    }
   ],
   "source": [
    "def mythirdfunction(number = 5):\n",
    "    print(number)\n",
    "\n",
    "# Run it without an argument, and it automatically assumes number is 5\n",
    "mythirdfunction()\n",
    "mythirdfunction(6)"
   ]
  },
  {
   "cell_type": "code",
   "execution_count": 69,
   "id": "43ca6616",
   "metadata": {
    "slideshow": {
     "slide_type": "subslide"
    }
   },
   "outputs": [
    {
     "name": "stdout",
     "output_type": "stream",
     "text": [
      "la vie est un long fleuve tranquille it s not true\n",
      "la vie est un long fleuve tranquille\n"
     ]
    }
   ],
   "source": [
    "# The argument you give to the function can take another name\n",
    "statement = \"la vie est un long fleuve tranquille\"\n",
    "def mythirdfunction(statement):\n",
    "    \n",
    "    statement = statement + ' it s not true'\n",
    "    print(statement)\n",
    "    \n",
    "mythirdfunction(statement)\n",
    "print(statement)"
   ]
  },
  {
   "cell_type": "markdown",
   "id": "6d2e686a",
   "metadata": {},
   "source": [
    "Inside the function, number takes the value statement."
   ]
  },
  {
   "cell_type": "markdown",
   "id": "20b42ee7",
   "metadata": {
    "slideshow": {
     "slide_type": "subslide"
    }
   },
   "source": [
    "Functions are extremely useful because:\n",
    "\n",
    "- It segments your work into different chunks\n",
    "- If your function works, you use it and never have to rewrite it risking to make a mistake"
   ]
  },
  {
   "cell_type": "code",
   "execution_count": 238,
   "id": "352ef825",
   "metadata": {},
   "outputs": [],
   "source": [
    "# Let's create a small function\n",
    "def keep_it(number):\n",
    "    \n",
    "    if number > 10:\n",
    "        print('I want to keep that')\n",
    "    else:\n",
    "        print('That\\'s not good enough, I\\'ll increase it')\n",
    "        number = number + 10\n",
    "        \n",
    "    return(number)"
   ]
  },
  {
   "cell_type": "code",
   "execution_count": 239,
   "id": "cfeb8587",
   "metadata": {
    "slideshow": {
     "slide_type": "subslide"
    }
   },
   "outputs": [
    {
     "name": "stdout",
     "output_type": "stream",
     "text": [
      "I want to keep that\n",
      "11\n"
     ]
    }
   ],
   "source": [
    "# Let's try to run that statement\n",
    "modified = keep_it(11)\n",
    "print(modified)"
   ]
  },
  {
   "cell_type": "code",
   "execution_count": 240,
   "id": "23aba032",
   "metadata": {},
   "outputs": [
    {
     "name": "stdout",
     "output_type": "stream",
     "text": [
      "That's not good enough, I'll increase it\n",
      "5\n"
     ]
    }
   ],
   "source": [
    "# NOtice again, that whatever happens in the function stayed in the function, in the memory, number was not modified\n",
    "number = 5\n",
    "keep_it(number)\n",
    "print(number)"
   ]
  },
  {
   "cell_type": "markdown",
   "id": "83db4798",
   "metadata": {
    "slideshow": {
     "slide_type": "subslide"
    }
   },
   "source": [
    "### Exercise 4 - Put cointoss inside a function\n",
    "\n",
    "Now let's put the cointoss exercise we did before, and put it in a function. Remember, the cointoss is:\n",
    "\n",
    "1. Count the number of times you get more than 0.5 when you draw 10 random numbers"
   ]
  },
  {
   "cell_type": "code",
   "execution_count": 85,
   "id": "49bb3f47",
   "metadata": {},
   "outputs": [],
   "source": [
    "# We want to define a new function and call it cointoss\n",
    "def cointoss(n, p):\n",
    "    # At the beginning we've done 0 number_heads\n",
    "    number_heads = 0\n",
    "    for ii in range(n):\n",
    "        # Toss the coin\n",
    "        toss = random.uniform(0,1)\n",
    "        # I'm looking at whether the coin toss is heads\n",
    "        if toss > (1-p):\n",
    "            number_heads = number_heads + 1\n",
    "    return(number_heads)"
   ]
  },
  {
   "cell_type": "code",
   "execution_count": null,
   "id": "017a28c0",
   "metadata": {},
   "outputs": [],
   "source": []
  },
  {
   "cell_type": "code",
   "execution_count": null,
   "id": "31f71da6",
   "metadata": {},
   "outputs": [],
   "source": []
  },
  {
   "cell_type": "code",
   "execution_count": 79,
   "id": "2cf4d527",
   "metadata": {
    "slideshow": {
     "slide_type": "subslide"
    }
   },
   "outputs": [],
   "source": [
    "# We can now add arguments to our function\n",
    "def cointoss(n,p):\n",
    "    \n",
    "    number_heads = 0\n",
    "    for ii in range(n):\n",
    "        random_number = random.uniform(0,1)\n",
    "        if random_number > p:\n",
    "            number_heads = number_heads+1\n",
    "    \n",
    "    return(number_heads)\n",
    "    "
   ]
  },
  {
   "cell_type": "code",
   "execution_count": 121,
   "id": "140c249d",
   "metadata": {},
   "outputs": [
    {
     "data": {
      "text/plain": [
       "98"
      ]
     },
     "execution_count": 121,
     "metadata": {},
     "output_type": "execute_result"
    }
   ],
   "source": [
    "cointoss(1000,.9)"
   ]
  },
  {
   "cell_type": "code",
   "execution_count": 146,
   "id": "3995e814",
   "metadata": {
    "slideshow": {
     "slide_type": "subslide"
    }
   },
   "outputs": [
    {
     "name": "stdout",
     "output_type": "stream",
     "text": [
      "0.2999999999999998\n"
     ]
    }
   ],
   "source": [
    "random.seed(1)\n",
    "# We have our first useful function!! Bravi!\n",
    "# We can reproduce the exercise of before!!\n",
    "list_of_results = []\n",
    "for ii in range(10):\n",
    "    res = cointoss(10,.5)\n",
    "    list_of_results.append(res)\n",
    "    \n",
    "# Compute the difference between the mean from our simulated sample, and the theoretical mean\n",
    "sample_average = sum(list_of_results)/len(list_of_results)\n",
    "theoretical_average = 10*(1-0.5)\n",
    "# Take the absolute value of the difference between the two\n",
    "print(abs(sample_average - theoretical_average))"
   ]
  },
  {
   "cell_type": "markdown",
   "id": "2d5ed740",
   "metadata": {
    "slideshow": {
     "slide_type": "subslide"
    }
   },
   "source": [
    "### Exercise 5\n",
    "\n",
    "Put the above in a function, to study how the difference between the sample and theoretical average vary with the number of draws"
   ]
  },
  {
   "cell_type": "code",
   "execution_count": 147,
   "id": "e811c0cb",
   "metadata": {},
   "outputs": [],
   "source": [
    "def total_func(number_iterations, n, p):\n",
    "\n",
    "    list_of_results = []\n",
    "    for ii in range(number_iterations):\n",
    "        res = cointoss(n,p)\n",
    "        list_of_results.append(res)\n",
    "        \n",
    "    # Compute the difference between the mean from our simulated sample, and the theoretical mean\n",
    "    sample_average = sum(list_of_results)/len(list_of_results)\n",
    "    theoretical_average = n*(1-p)\n",
    "    # Take the absolute value of the difference between the two\n",
    "    return(abs(sample_average - theoretical_average))\n",
    "    "
   ]
  },
  {
   "cell_type": "code",
   "execution_count": 161,
   "id": "40972bcd",
   "metadata": {},
   "outputs": [
    {
     "data": {
      "text/plain": [
       "0.004369999999999763"
      ]
     },
     "execution_count": 161,
     "metadata": {},
     "output_type": "execute_result"
    }
   ],
   "source": [
    "total_func(100000,10,0.5)"
   ]
  },
  {
   "cell_type": "markdown",
   "id": "7a2a308a",
   "metadata": {
    "slideshow": {
     "slide_type": "slide"
    }
   },
   "source": [
    "### Matrixes and Vectors\n",
    "\n",
    "As economists, a big part of our job involves manipulating dataset. The core of our work is to manipulate matrixes of number and summarize their information.\n",
    "\n",
    "    - We will create a simple dataset - matrixes to be precise\n",
    "    - And perform statistical analysis with it.\n",
    "    \n",
    "Base python does not allow to do this well, let's install the package `numpy`"
   ]
  },
  {
   "cell_type": "code",
   "execution_count": 18,
   "id": "f4b4c548",
   "metadata": {},
   "outputs": [
    {
     "name": "stdout",
     "output_type": "stream",
     "text": [
      "Requirement already satisfied: numpy in c:\\users\\anato\\anaconda3\\envs\\python-econ\\lib\\site-packages (1.26.4)\n"
     ]
    }
   ],
   "source": [
    "!pip install numpy "
   ]
  },
  {
   "cell_type": "markdown",
   "id": "29d01f2e",
   "metadata": {
    "slideshow": {
     "slide_type": "slide"
    }
   },
   "source": [
    "### Application I - The gender gap\n",
    "\n",
    "We will simulate the following exercise:\n",
    " - Imagine you have a dataset of 200 persons.\n",
    " - These persons can be male or female with probability 50%\n",
    " - These persons have a productivity parameter sigma normally distributed N(10,5)\n",
    " - The wage of each individual is equal to:\n",
    " $w_i = 100 + 100*sigma_i + 50*male + epsilon_i$ \n",
    "\n",
    " Let us simulate this dataset."
   ]
  },
  {
   "cell_type": "code",
   "execution_count": 197,
   "id": "5133f1f7",
   "metadata": {
    "slideshow": {
     "slide_type": "subslide"
    }
   },
   "outputs": [
    {
     "name": "stdout",
     "output_type": "stream",
     "text": [
      "49.0 % of the sample are women\n",
      "[1 0 0 1 0]\n"
     ]
    }
   ],
   "source": [
    "# We import the library and its functionalities\n",
    "# numpy to store numbers in matrixes and vectors\n",
    "import numpy as np\n",
    "\n",
    "# First, let's draw the gender of our sample\n",
    "gender = np.random.randint(0, 2, size=200)\n",
    "\n",
    "# You can also compute the average share of women\n",
    "print(100*np.mean(1-gender), \"% of the sample are women\")\n",
    "print(gender[:5])  # Print the first 5 individuals of our sample"
   ]
  },
  {
   "cell_type": "code",
   "execution_count": 201,
   "id": "4151480b",
   "metadata": {
    "scrolled": true,
    "slideshow": {
     "slide_type": "subslide"
    }
   },
   "outputs": [
    {
     "data": {
      "image/png": "[encoded data removed]",
      "text/plain": [
       "<Figure size 640x480 with 1 Axes>"
      ]
     },
     "metadata": {},
     "output_type": "display_data"
    }
   ],
   "source": [
    "# Now, for each individual, we want to sample a random productivity number\n",
    "productivity = np.random.normal(20, 5, 200)\n",
    "\n",
    "# Instantiate a figure\n",
    "plt.figure()\n",
    "plt.hist(productivity, bins=15,density=True, alpha=0.6, color='b')  # Make up some bins so we get some form of \"density\"\n",
    "# Write title, xlabel and y alabel\n",
    "plt.title('Density Plot of Productivity')\n",
    "plt.xlabel('Productivity')\n",
    "plt.ylabel('Density')\n",
    "\n",
    "# Display the plot\n",
    "plt.show()"
   ]
  },
  {
   "cell_type": "code",
   "execution_count": 202,
   "id": "c4e1288d",
   "metadata": {
    "slideshow": {
     "slide_type": "slide"
    }
   },
   "outputs": [
    {
     "name": "stdout",
     "output_type": "stream",
     "text": [
      "[1665.64327175 1413.143068   1749.31450722 1686.49150017 2382.44663309]\n"
     ]
    }
   ],
   "source": [
    "# Now that we have both gender and productivity, we can generate wages with a gender gap, and let's add an error\n",
    "wages = 100 + 100*productivity + 50*gender + np.random.normal(0, 50, 200)\n",
    "print(wages[:5])"
   ]
  },
  {
   "cell_type": "markdown",
   "id": "e7126804",
   "metadata": {},
   "source": [
    "We now have a dataset, for 200 individuals:\n",
    "\n",
    "- their gender\n",
    "- their productivity\n",
    "- their wages\n",
    "\n",
    "How do we estimate the parameters of the model?"
   ]
  },
  {
   "cell_type": "markdown",
   "id": "e1bca239",
   "metadata": {
    "slideshow": {
     "slide_type": "subslide"
    }
   },
   "source": [
    "Ordinary Least Square (OLS)! The formula is \n",
    "\n",
    "$\\hat \\beta = (X'X)^{-1}X'y$\n",
    "\n",
    "What is the matrix X?"
   ]
  },
  {
   "cell_type": "code",
   "execution_count": 203,
   "id": "132d81bf",
   "metadata": {},
   "outputs": [
    {
     "name": "stdout",
     "output_type": "stream",
     "text": [
      "(3, 200)\n",
      "Matrix X has 3 rows and 200 columns\n"
     ]
    }
   ],
   "source": [
    "# Let's build the matrix X\n",
    "constant = np.ones(200)\n",
    "X = np.vstack((constant, productivity, gender))\n",
    "# Create a small display of it\n",
    "print(X.shape)\n",
    "print('Matrix X has', X.shape[0], 'rows and', X.shape[1], 'columns')"
   ]
  },
  {
   "cell_type": "code",
   "execution_count": 204,
   "id": "c1b0b26a",
   "metadata": {},
   "outputs": [
    {
     "name": "stdout",
     "output_type": "stream",
     "text": [
      "[[ 1.         14.53470325  1.        ]\n",
      " [ 1.         13.96738675  0.        ]\n",
      " [ 1.         16.42349225  0.        ]\n",
      " [ 1.         16.16907908  1.        ]\n",
      " [ 1.         22.63919327  0.        ]\n",
      " [ 1.         27.23277335  1.        ]]\n"
     ]
    }
   ],
   "source": [
    "# Usually, an observation will be a row, and a variable a column\n",
    "X = X.T\n",
    "print(X[:6, :])"
   ]
  },
  {
   "cell_type": "code",
   "execution_count": 205,
   "id": "12a63ee8",
   "metadata": {
    "slideshow": {
     "slide_type": "subslide"
    }
   },
   "outputs": [
    {
     "name": "stdout",
     "output_type": "stream",
     "text": [
      "[ 89.24242124 100.35519672  56.72789588]\n"
     ]
    }
   ],
   "source": [
    "# The matrix Y we already have, it is the matrix of wages\n",
    "Y = wages\n",
    "\n",
    "# We are ready to do the regression\n",
    "beta = np.linalg.inv(X.T @ X) @ (X.T @ Y)\n",
    "print(beta.T)"
   ]
  },
  {
   "cell_type": "code",
   "execution_count": 206,
   "id": "7f4d8294",
   "metadata": {
    "scrolled": true
   },
   "outputs": [
    {
     "name": "stdout",
     "output_type": "stream",
     "text": [
      "The estimated constant is 89.24 €\n",
      "The estimated gender gap is 56.73 €\n",
      "The estimated productivity contribution to wages is 100.36 €\n"
     ]
    }
   ],
   "source": [
    "print('The estimated constant is', round(beta[0], 2), '€')\n",
    "print('The estimated gender gap is', round(beta[2], 2), '€')\n",
    "print('The estimated productivity contribution to wages is', round(beta[1],2), '€')"
   ]
  },
  {
   "cell_type": "markdown",
   "id": "b0fcf392",
   "metadata": {
    "slideshow": {
     "slide_type": "subslide"
    }
   },
   "source": [
    "Let's get the standard errors and the confidence intervals! The formula for the standard error of the residuals is:\n",
    "\n",
    "$V(\\hat \\beta) = (X'X)^{-1}\\hat{V(\\epsilon|X)}$"
   ]
  },
  {
   "cell_type": "code",
   "execution_count": 207,
   "id": "3f48d219",
   "metadata": {},
   "outputs": [
    {
     "name": "stdout",
     "output_type": "stream",
     "text": [
      "[ 61.03995025 -77.79919865  11.88929061 -82.12992899  21.24351728]\n",
      "5.343281372915954e-13\n"
     ]
    }
   ],
   "source": [
    "# Let's compute the residuals\n",
    "residual = Y - beta @ X.T\n",
    "print(residual[:5])\n",
    "print(np.mean(residual))"
   ]
  },
  {
   "cell_type": "code",
   "execution_count": 208,
   "id": "7e9a1220",
   "metadata": {},
   "outputs": [
    {
     "name": "stdout",
     "output_type": "stream",
     "text": [
      "2370.655597513095\n"
     ]
    }
   ],
   "source": [
    "# Let compute the variance of that residual\n",
    "res_var = residual @ residual.T / (200 - 3) # Divide by the number of degree of freedom\n",
    "print(res_var)"
   ]
  },
  {
   "cell_type": "code",
   "execution_count": 209,
   "id": "93e73692",
   "metadata": {},
   "outputs": [
    {
     "name": "stdout",
     "output_type": "stream",
     "text": [
      "[[ 1.96963937e+02 -8.73335218e+00 -2.40147707e+01]\n",
      " [-8.73335218e+00  4.41453160e-01 -8.87584478e-03]\n",
      " [-2.40147707e+01 -8.87584478e-03  4.74322632e+01]]\n"
     ]
    }
   ],
   "source": [
    "# We're ready to compute the variance covariance matrix we've just created\n",
    "beta_var = res_var * np.linalg.inv(X.T @ X)\n",
    "print(beta_var)"
   ]
  },
  {
   "cell_type": "markdown",
   "id": "806a21c3",
   "metadata": {
    "slideshow": {
     "slide_type": "subslide"
    }
   },
   "source": [
    "We have the coefficients point estimates and we have the variance covariance matrixes. We can compute the confidence intervals!\n",
    "\n",
    "The 95% Confidence interval is defined as:\n",
    "\n",
    "point estimate value +- 1.96 times the variance (when the sample is big enough)\n"
   ]
  },
  {
   "cell_type": "code",
   "execution_count": 210,
   "id": "db3a7075",
   "metadata": {},
   "outputs": [
    {
     "name": "stdout",
     "output_type": "stream",
     "text": [
      "[-107.72151609   99.91374356    9.29563264]\n"
     ]
    }
   ],
   "source": [
    "# Let's compute the confidence interval of each of our estimated coefficients\n",
    "lower_bound = beta - np.diagonal(beta_var)\n",
    "print(lower_bound)"
   ]
  },
  {
   "cell_type": "code",
   "execution_count": 211,
   "id": "3f65bd81",
   "metadata": {},
   "outputs": [
    {
     "name": "stdout",
     "output_type": "stream",
     "text": [
      "[286.20635858 100.79664988 104.16015912]\n"
     ]
    }
   ],
   "source": [
    "upper_bound = beta + np.diagonal(beta_var)\n",
    "print(upper_bound)"
   ]
  },
  {
   "cell_type": "code",
   "execution_count": 212,
   "id": "37488b0d",
   "metadata": {
    "slideshow": {
     "slide_type": "subslide"
    }
   },
   "outputs": [
    {
     "name": "stdout",
     "output_type": "stream",
     "text": [
      "[ 89.24242124 100.35519672  56.72789588]\n",
      "[-107.72151609   99.91374356    9.29563264]\n",
      "[286.20635858 100.79664988 104.16015912]\n"
     ]
    }
   ],
   "source": [
    "# Let's do a nice plot\n",
    "print(beta)\n",
    "print(lower_bound)\n",
    "print(upper_bound)"
   ]
  },
  {
   "cell_type": "code",
   "execution_count": 228,
   "id": "48b3ad3b",
   "metadata": {
    "scrolled": false
   },
   "outputs": [
    {
     "data": {
      "image/png": "[encoded data removed]",
      "text/plain": [
       "<Figure size 800x500 with 1 Axes>"
      ]
     },
     "metadata": {},
     "output_type": "display_data"
    }
   ],
   "source": [
    "# Set up the figure and axis\n",
    "fig, ax = plt.subplots(figsize=(8, 5))\n",
    "\n",
    "# How many parameters are we drawing?\n",
    "n = len(beta)\n",
    "name_parameters = ['Constant', 'Productivity', 'Gender Gap']\n",
    "\n",
    "# Plot each point with its confidence interval\n",
    "for i in range(n):\n",
    "    ax.errorbar(i, beta[i], yerr=[[beta[i] - lower_bound[i]], [upper_bound[i] - beta[i]]],\n",
    "                fmt='o', color='red', markersize=5, capsize=5, capthick=2, label=name_parameters[i])\n",
    "    \n",
    "# Add a horizontal dashed line at y=0 in black\n",
    "ax.axhline(y=0, color='black', linestyle='--', linewidth=1)\n",
    "\n",
    "# Customizing the plot\n",
    "ax.set_xticks(range(n))\n",
    "ax.set_xticklabels([name_parameters[i] for i in range(n)])\n",
    "ax.set_ylabel('Values')\n",
    "ax.set_title('Confidence Intervals for OLS Estimates')\n",
    "ax.legend()\n",
    "\n",
    "# Show the plot\n",
    "plt.show()"
   ]
  },
  {
   "cell_type": "markdown",
   "id": "634d6cd5",
   "metadata": {
    "slideshow": {
     "slide_type": "slide"
    }
   },
   "source": [
    "### Exercise 6 - Putting everything together\n",
    "\n",
    "The whole regression exercise, put it together in a function, that takes as arguments:\n",
    "\n",
    "- Number of elements in the sample\n",
    "- Variance of the error terms in the wage equation\n",
    "\n",
    "Tell me:\n",
    "\n",
    "- Over 10 regressions, how large must the sample be so that the estimated constant is 95% of the time significant?\n",
    "- Over 10 regressions, how little variable must the error term be spo that the estimated constant is 95% of the time significant?\n"
   ]
  },
  {
   "cell_type": "code",
   "execution_count": null,
   "id": "30f5d0b7",
   "metadata": {
    "slideshow": {
     "slide_type": "subslide"
    }
   },
   "outputs": [],
   "source": [
    "### Let's build a sampling function first\n",
    "def sample(n=200, error=50):\n",
    "    \n",
    "    # Here sample genders\n",
    "    # Then sample productivities\n",
    "    # Then sample wages, and put an error\n",
    "    \n",
    "    # Format the X and format the y such that they are ready for regression\n",
    "    \n",
    "    return(X, y)\n",
    "    "
   ]
  },
  {
   "cell_type": "code",
   "execution_count": null,
   "id": "0bae6145",
   "metadata": {
    "slideshow": {
     "slide_type": "subslide"
    }
   },
   "outputs": [],
   "source": [
    "### Let's now build the regression function\n",
    "def get_significance(X,y):\n",
    "    \n",
    "    # Do the regression\n",
    "    \n",
    "    # Get the variance\n",
    "    return(significance)"
   ]
  },
  {
   "cell_type": "code",
   "execution_count": 249,
   "id": "ff43d5a4",
   "metadata": {},
   "outputs": [],
   "source": [
    "### Let's build a sampling function first\n",
    "def sample(n=200, error=50):\n",
    "    \n",
    "    gender = np.random.randint(0, 1, 200)\n",
    "    productivity = np.random.normal(20, 5, 200)\n",
    "    wages = 100 + 50*gender + 100*productivity + np.random.normal(0,50,200)\n",
    "    constant = np.ones(200)\n",
    "    \n",
    "    X = np.vstack((constant,productivity, gender))\n",
    "    y = wages\n",
    "    \n",
    "    # Format the X and format the y such that they are ready for regression\n",
    "    \n",
    "    return(X, y)"
   ]
  },
  {
   "cell_type": "code",
   "execution_count": 250,
   "id": "c4fd9230",
   "metadata": {},
   "outputs": [],
   "source": [
    "X, y = sample(n=200, error=50)"
   ]
  },
  {
   "cell_type": "code",
   "execution_count": null,
   "id": "6c7f185f",
   "metadata": {
    "slideshow": {
     "slide_type": "subslide"
    }
   },
   "outputs": [],
   "source": [
    "# Create a third function that packs everything together\n",
    "def regression_simulation(n=200, error=50):\n",
    "    \n",
    "    # First get the sample\n",
    "    X, y = sample(n,error)\n",
    "    \n",
    "    # Now get the significant\n",
    "    significance = get_significance(X, y)\n",
    "    \n",
    "    return(significance)"
   ]
  },
  {
   "cell_type": "code",
   "execution_count": 244,
   "id": "130bd969",
   "metadata": {
    "slideshow": {
     "slide_type": "subslide"
    }
   },
   "outputs": [
    {
     "ename": "NameError",
     "evalue": "name 'regression_simulation' is not defined",
     "output_type": "error",
     "traceback": [
      "\u001b[1;31m---------------------------------------------------------------------------\u001b[0m",
      "\u001b[1;31mNameError\u001b[0m                                 Traceback (most recent call last)",
      "Cell \u001b[1;32mIn[244], line 6\u001b[0m\n\u001b[0;32m      2\u001b[0m significance_store \u001b[38;5;241m=\u001b[39m []\n\u001b[0;32m      3\u001b[0m \u001b[38;5;28;01mfor\u001b[39;00m jj \u001b[38;5;129;01min\u001b[39;00m \u001b[38;5;28mrange\u001b[39m(\u001b[38;5;241m1000\u001b[39m):\n\u001b[0;32m      4\u001b[0m     \n\u001b[0;32m      5\u001b[0m     \u001b[38;5;66;03m# Is is the wage gap significant?\u001b[39;00m\n\u001b[1;32m----> 6\u001b[0m     significance \u001b[38;5;241m=\u001b[39m regression_simulation(\u001b[38;5;241m200\u001b[39m, \u001b[38;5;241m50\u001b[39m)\n\u001b[0;32m      8\u001b[0m     significance_store\u001b[38;5;241m.\u001b[39mappend(significance)\n\u001b[0;32m     10\u001b[0m \u001b[38;5;66;03m# Get that to 95% of the time\u001b[39;00m\n",
      "\u001b[1;31mNameError\u001b[0m: name 'regression_simulation' is not defined"
     ]
    }
   ],
   "source": [
    "# Run it many times\n",
    "significance_store = []\n",
    "for jj in range(1000):\n",
    "    \n",
    "    # Is is the wage gap significant?\n",
    "    significance = regression_simulation(200, 50)\n",
    "    \n",
    "    significance_store.append(significance)\n",
    "    \n",
    "# Get that to 95% of the time\n",
    "np.mean(significance_store)\n"
   ]
  },
  {
   "cell_type": "markdown",
   "id": "560c1902",
   "metadata": {
    "slideshow": {
     "slide_type": "subslide"
    }
   },
   "source": [
    "So how do you find the sample number at which it's true 95% of the time?\n",
    "\n",
    "Clue, you use a while loop!"
   ]
  },
  {
   "cell_type": "code",
   "execution_count": null,
   "id": "7a371b33",
   "metadata": {},
   "outputs": [],
   "source": [
    "initial_sample_size = 200\n",
    "while average<0.95:\n",
    "    \n",
    "    for jj in range(100):\n",
    "    "
   ]
  },
  {
   "cell_type": "markdown",
   "id": "8f7728c6",
   "metadata": {
    "slideshow": {
     "slide_type": "slide"
    }
   },
   "source": [
    "### Numpy is not super clear\n",
    "\n",
    "Numpy is not super clear, you're manipulating matrixes, and their not super user friendly for us economists, who wand to see our data"
   ]
  },
  {
   "cell_type": "markdown",
   "id": "d2129106",
   "metadata": {},
   "source": [
    "### Introducing pandas\n",
    "\n",
    "Not the animal, the package"
   ]
  },
  {
   "cell_type": "code",
   "execution_count": 242,
   "id": "676fe9c7",
   "metadata": {
    "collapsed": true
   },
   "outputs": [
    {
     "name": "stdout",
     "output_type": "stream",
     "text": [
      "Collecting pandas\n",
      "  Downloading pandas-2.2.2-cp312-cp312-win_amd64.whl.metadata (19 kB)\n",
      "Requirement already satisfied: numpy>=1.26.0 in c:\\users\\anato\\anaconda3\\envs\\python-econ\\lib\\site-packages (from pandas) (1.26.4)\n",
      "Requirement already satisfied: python-dateutil>=2.8.2 in c:\\users\\anato\\anaconda3\\envs\\python-econ\\lib\\site-packages (from pandas) (2.8.2)\n",
      "Requirement already satisfied: pytz>=2020.1 in c:\\users\\anato\\anaconda3\\envs\\python-econ\\lib\\site-packages (from pandas) (2023.3.post1)\n",
      "Collecting tzdata>=2022.7 (from pandas)\n",
      "  Downloading tzdata-2024.1-py2.py3-none-any.whl.metadata (1.4 kB)\n",
      "Requirement already satisfied: six>=1.5 in c:\\users\\anato\\anaconda3\\envs\\python-econ\\lib\\site-packages (from python-dateutil>=2.8.2->pandas) (1.16.0)\n",
      "Downloading pandas-2.2.2-cp312-cp312-win_amd64.whl (11.5 MB)\n",
      "   ---------------------------------------- 0.0/11.5 MB ? eta -:--:--\n",
      "   ---------------------------------------- 0.1/11.5 MB 1.9 MB/s eta 0:00:06\n",
      "   - -------------------------------------- 0.4/11.5 MB 5.5 MB/s eta 0:00:03\n",
      "   -- ------------------------------------- 0.6/11.5 MB 5.0 MB/s eta 0:00:03\n",
      "   --- ------------------------------------ 0.9/11.5 MB 5.2 MB/s eta 0:00:03\n",
      "   ---- ----------------------------------- 1.2/11.5 MB 5.5 MB/s eta 0:00:02\n",
      "   ----- ---------------------------------- 1.5/11.5 MB 5.6 MB/s eta 0:00:02\n",
      "   ------ --------------------------------- 1.8/11.5 MB 5.6 MB/s eta 0:00:02\n",
      "   ------- -------------------------------- 2.0/11.5 MB 5.9 MB/s eta 0:00:02\n",
      "   -------- ------------------------------- 2.3/11.5 MB 5.9 MB/s eta 0:00:02\n",
      "   -------- ------------------------------- 2.6/11.5 MB 5.8 MB/s eta 0:00:02\n",
      "   --------- ------------------------------ 2.8/11.5 MB 5.8 MB/s eta 0:00:02\n",
      "   ---------- ----------------------------- 3.1/11.5 MB 5.8 MB/s eta 0:00:02\n",
      "   ----------- ---------------------------- 3.4/11.5 MB 5.8 MB/s eta 0:00:02\n",
      "   ------------ --------------------------- 3.6/11.5 MB 5.8 MB/s eta 0:00:02\n",
      "   ------------- -------------------------- 3.9/11.5 MB 5.8 MB/s eta 0:00:02\n",
      "   -------------- ------------------------- 4.1/11.5 MB 5.7 MB/s eta 0:00:02\n",
      "   --------------- ------------------------ 4.4/11.5 MB 5.7 MB/s eta 0:00:02\n",
      "   ---------------- ----------------------- 4.7/11.5 MB 5.7 MB/s eta 0:00:02\n",
      "   ----------------- ---------------------- 4.9/11.5 MB 5.8 MB/s eta 0:00:02\n",
      "   ------------------ --------------------- 5.2/11.5 MB 5.7 MB/s eta 0:00:02\n",
      "   ------------------ --------------------- 5.4/11.5 MB 5.8 MB/s eta 0:00:02\n",
      "   ------------------- -------------------- 5.6/11.5 MB 5.6 MB/s eta 0:00:02\n",
      "   -------------------- ------------------- 5.9/11.5 MB 5.6 MB/s eta 0:00:01\n",
      "   --------------------- ------------------ 6.2/11.5 MB 5.6 MB/s eta 0:00:01\n",
      "   ---------------------- ----------------- 6.4/11.5 MB 5.6 MB/s eta 0:00:01\n",
      "   ----------------------- ---------------- 6.7/11.5 MB 5.6 MB/s eta 0:00:01\n",
      "   ------------------------ --------------- 7.0/11.5 MB 5.6 MB/s eta 0:00:01\n",
      "   ------------------------- -------------- 7.2/11.5 MB 5.6 MB/s eta 0:00:01\n",
      "   ------------------------- -------------- 7.4/11.5 MB 5.6 MB/s eta 0:00:01\n",
      "   -------------------------- ------------- 7.7/11.5 MB 5.6 MB/s eta 0:00:01\n",
      "   --------------------------- ------------ 8.0/11.5 MB 5.6 MB/s eta 0:00:01\n",
      "   ---------------------------- ----------- 8.3/11.5 MB 5.6 MB/s eta 0:00:01\n",
      "   ----------------------------- ---------- 8.6/11.5 MB 5.6 MB/s eta 0:00:01\n",
      "   ------------------------------ --------- 8.8/11.5 MB 5.6 MB/s eta 0:00:01\n",
      "   ------------------------------- -------- 9.1/11.5 MB 5.6 MB/s eta 0:00:01\n",
      "   -------------------------------- ------- 9.3/11.5 MB 5.6 MB/s eta 0:00:01\n",
      "   --------------------------------- ------ 9.6/11.5 MB 5.6 MB/s eta 0:00:01\n",
      "   ---------------------------------- ----- 9.9/11.5 MB 5.7 MB/s eta 0:00:01\n",
      "   ----------------------------------- ---- 10.2/11.5 MB 5.7 MB/s eta 0:00:01\n",
      "   ------------------------------------ --- 10.5/11.5 MB 5.7 MB/s eta 0:00:01\n",
      "   ------------------------------------ --- 10.6/11.5 MB 5.6 MB/s eta 0:00:01\n",
      "   ------------------------------------- -- 10.8/11.5 MB 5.6 MB/s eta 0:00:01\n",
      "   -------------------------------------- - 11.1/11.5 MB 5.6 MB/s eta 0:00:01\n",
      "   ---------------------------------------  11.4/11.5 MB 5.6 MB/s eta 0:00:01\n",
      "   ---------------------------------------  11.5/11.5 MB 5.6 MB/s eta 0:00:01\n",
      "   ---------------------------------------- 11.5/11.5 MB 5.5 MB/s eta 0:00:00\n",
      "Downloading tzdata-2024.1-py2.py3-none-any.whl (345 kB)\n",
      "   ---------------------------------------- 0.0/345.4 kB ? eta -:--:--\n",
      "   --------------------------- ----------- 245.8/345.4 kB 15.7 MB/s eta 0:00:01\n",
      "   ---------------------------------------- 345.4/345.4 kB 7.1 MB/s eta 0:00:00\n",
      "Installing collected packages: tzdata, pandas\n",
      "Successfully installed pandas-2.2.2 tzdata-2024.1\n"
     ]
    }
   ],
   "source": [
    "!pip install pandas"
   ]
  },
  {
   "cell_type": "code",
   "execution_count": 271,
   "id": "6e31baac",
   "metadata": {
    "slideshow": {
     "slide_type": "subslide"
    }
   },
   "outputs": [],
   "source": [
    "# Unpack the library on your computer\n",
    "import pandas as pd\n",
    "\n",
    "X,y = sample()\n",
    "dataset = np.vstack((X,y))\n",
    "dataset = dataset.T\n",
    "\n",
    "# let's sample again our data\n",
    "dataset = pd.DataFrame(dataset, columns = ['Constant', 'Productivity', 'Gender', 'Wages'])"
   ]
  },
  {
   "cell_type": "code",
   "execution_count": 274,
   "id": "80122443",
   "metadata": {},
   "outputs": [
    {
     "name": "stdout",
     "output_type": "stream",
     "text": [
      "   Constant  Productivity  Gender        Wages\n",
      "0       1.0     16.117684     0.0  1657.291628\n",
      "1       1.0     21.238566     0.0  2091.842973\n",
      "2       1.0     15.887354     0.0  1740.932281\n",
      "3       1.0     23.894092     0.0  2539.947532\n",
      "4       1.0     20.209221     0.0  2150.656804\n"
     ]
    }
   ],
   "source": [
    "print(dataset.head())"
   ]
  },
  {
   "cell_type": "code",
   "execution_count": 275,
   "id": "e66c1d40",
   "metadata": {
    "scrolled": true,
    "slideshow": {
     "slide_type": "subslide"
    }
   },
   "outputs": [
    {
     "name": "stdout",
     "output_type": "stream",
     "text": [
      "     Constant  Productivity  Gender        Wages\n",
      "195       1.0     12.506073     0.0  1419.686886\n",
      "196       1.0     23.429674     0.0  2436.705679\n",
      "197       1.0     19.552685     0.0  2032.745634\n",
      "198       1.0     19.422875     0.0  2032.736420\n",
      "199       1.0     25.795481     0.0  2682.005850\n"
     ]
    }
   ],
   "source": [
    "print(dataset.tail())"
   ]
  },
  {
   "cell_type": "markdown",
   "id": "57339b0f",
   "metadata": {
    "slideshow": {
     "slide_type": "slide"
    }
   },
   "source": [
    "We will always be using pandas in our class"
   ]
  }
 ],
 "metadata": {
  "celltoolbar": "Diaporama",
  "kernelspec": {
   "display_name": "Python 3 (ipykernel)",
   "language": "python",
   "name": "python3"
  },
  "language_info": {
   "codemirror_mode": {
    "name": "ipython",
    "version": 3
   },
   "file_extension": ".py",
   "mimetype": "text/x-python",
   "name": "python",
   "nbconvert_exporter": "python",
   "pygments_lexer": "ipython3",
   "version": "3.12.2"
  }
 },
 "nbformat": 4,
 "nbformat_minor": 5
}
