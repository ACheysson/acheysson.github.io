{
 "cells": [
  {
   "cell_type": "markdown",
   "id": "13b8ed91",
   "metadata": {
    "slideshow": {
     "slide_type": "slide"
    }
   },
   "source": [
    "### Class 4\n",
    "\n",
    "Last session we covered a lot of ground:\n",
    "\n",
    "    - Numpy\n",
    "    - Power analysis\n",
    "    - Pandas\n",
    "        - Use of outside API (Eurostat) to get data"
   ]
  },
  {
   "cell_type": "markdown",
   "id": "dea09d07",
   "metadata": {
    "slideshow": {
     "slide_type": "slide"
    }
   },
   "source": [
    "Today we'll cover:\n",
    "\n",
    "    - Pandas:\n",
    "        - A bit of econometrics (last bit I swear)\n",
    "    - Webscraping:\n",
    "        - Let's start"
   ]
  },
  {
   "cell_type": "markdown",
   "id": "e1ac7ae3",
   "metadata": {
    "slideshow": {
     "slide_type": "slide"
    }
   },
   "source": [
    "#### Statsmodels\n",
    "\n",
    "So far, we've:\n",
    "\n",
    "- Used numpy to manually do regressions.\n",
    "    - Did some power analysis\n",
    "- Learnt about the existence of pandas to store data.\n",
    "\n",
    "Now we'll learn about the package to use for classical econometrics analysis."
   ]
  },
  {
   "cell_type": "code",
   "execution_count": 1,
   "id": "0bb73239",
   "metadata": {
    "collapsed": true,
    "slideshow": {
     "slide_type": "-"
    }
   },
   "outputs": [
    {
     "name": "stdout",
     "output_type": "stream",
     "text": [
      "Requirement already satisfied: statsmodels in c:\\users\\anato\\anaconda3\\envs\\python-econ\\lib\\site-packages (0.14.2)\n",
      "Requirement already satisfied: numpy>=1.22.3 in c:\\users\\anato\\anaconda3\\envs\\python-econ\\lib\\site-packages (from statsmodels) (1.26.4)\n",
      "Requirement already satisfied: scipy!=1.9.2,>=1.8 in c:\\users\\anato\\anaconda3\\envs\\python-econ\\lib\\site-packages (from statsmodels) (1.13.0)\n",
      "Requirement already satisfied: pandas!=2.1.0,>=1.4 in c:\\users\\anato\\anaconda3\\envs\\python-econ\\lib\\site-packages (from statsmodels) (2.2.2)\n",
      "Requirement already satisfied: patsy>=0.5.6 in c:\\users\\anato\\anaconda3\\envs\\python-econ\\lib\\site-packages (from statsmodels) (0.5.6)\n",
      "Requirement already satisfied: packaging>=21.3 in c:\\users\\anato\\anaconda3\\envs\\python-econ\\lib\\site-packages (from statsmodels) (23.2)\n",
      "Requirement already satisfied: python-dateutil>=2.8.2 in c:\\users\\anato\\anaconda3\\envs\\python-econ\\lib\\site-packages (from pandas!=2.1.0,>=1.4->statsmodels) (2.8.2)\n",
      "Requirement already satisfied: pytz>=2020.1 in c:\\users\\anato\\anaconda3\\envs\\python-econ\\lib\\site-packages (from pandas!=2.1.0,>=1.4->statsmodels) (2023.3.post1)\n",
      "Requirement already satisfied: tzdata>=2022.7 in c:\\users\\anato\\anaconda3\\envs\\python-econ\\lib\\site-packages (from pandas!=2.1.0,>=1.4->statsmodels) (2024.1)\n",
      "Requirement already satisfied: six in c:\\users\\anato\\anaconda3\\envs\\python-econ\\lib\\site-packages (from patsy>=0.5.6->statsmodels) (1.16.0)\n"
     ]
    }
   ],
   "source": [
    "!pip install statsmodels"
   ]
  },
  {
   "cell_type": "markdown",
   "id": "5c654eac",
   "metadata": {
    "slideshow": {
     "slide_type": "subslide"
    }
   },
   "source": [
    "To use the package, we'll first simulate an econometric model.\n",
    "\n",
    "You're trying to value the effect of education on the wage, a very classical exercise in econometrics.\n",
    "\n",
    "Let the setting be such that\n",
    "\n",
    "- Some people have a good network (i.e Social Capital) that increases both the likelihood of doing university and to get a good job.\n",
    "- Social Capital is not measurable. Let's see how it biases our results"
   ]
  },
  {
   "cell_type": "markdown",
   "id": "e79d814d",
   "metadata": {
    "slideshow": {
     "slide_type": "subslide"
    }
   },
   "source": [
    "Kickstart the simulation by drawing the social capital of individuals"
   ]
  },
  {
   "cell_type": "code",
   "execution_count": 3,
   "id": "bd69460d",
   "metadata": {
    "slideshow": {
     "slide_type": "-"
    }
   },
   "outputs": [
    {
     "data": {
      "text/html": [
       "<div>\n",
       "<style scoped>\n",
       "    .dataframe tbody tr th:only-of-type {\n",
       "        vertical-align: middle;\n",
       "    }\n",
       "\n",
       "    .dataframe tbody tr th {\n",
       "        vertical-align: top;\n",
       "    }\n",
       "\n",
       "    .dataframe thead th {\n",
       "        text-align: right;\n",
       "    }\n",
       "</style>\n",
       "<table border=\"1\" class=\"dataframe\">\n",
       "  <thead>\n",
       "    <tr style=\"text-align: right;\">\n",
       "      <th></th>\n",
       "      <th>Social Capital</th>\n",
       "    </tr>\n",
       "  </thead>\n",
       "  <tbody>\n",
       "    <tr>\n",
       "      <th>0</th>\n",
       "      <td>-0.622237</td>\n",
       "    </tr>\n",
       "    <tr>\n",
       "      <th>1</th>\n",
       "      <td>0.748082</td>\n",
       "    </tr>\n",
       "    <tr>\n",
       "      <th>2</th>\n",
       "      <td>0.633870</td>\n",
       "    </tr>\n",
       "    <tr>\n",
       "      <th>3</th>\n",
       "      <td>-0.388517</td>\n",
       "    </tr>\n",
       "    <tr>\n",
       "      <th>4</th>\n",
       "      <td>-0.907830</td>\n",
       "    </tr>\n",
       "    <tr>\n",
       "      <th>5</th>\n",
       "      <td>0.606746</td>\n",
       "    </tr>\n",
       "    <tr>\n",
       "      <th>6</th>\n",
       "      <td>0.707074</td>\n",
       "    </tr>\n",
       "    <tr>\n",
       "      <th>7</th>\n",
       "      <td>-0.279486</td>\n",
       "    </tr>\n",
       "    <tr>\n",
       "      <th>8</th>\n",
       "      <td>0.476827</td>\n",
       "    </tr>\n",
       "    <tr>\n",
       "      <th>9</th>\n",
       "      <td>-0.830952</td>\n",
       "    </tr>\n",
       "  </tbody>\n",
       "</table>\n",
       "</div>"
      ],
      "text/plain": [
       "   Social Capital\n",
       "0       -0.622237\n",
       "1        0.748082\n",
       "2        0.633870\n",
       "3       -0.388517\n",
       "4       -0.907830\n",
       "5        0.606746\n",
       "6        0.707074\n",
       "7       -0.279486\n",
       "8        0.476827\n",
       "9       -0.830952"
      ]
     },
     "execution_count": 3,
     "metadata": {},
     "output_type": "execute_result"
    }
   ],
   "source": [
    "import pandas as pd\n",
    "import numpy as np\n",
    "# First let's generate a fake dataset with the variables that we have\n",
    "dataset = pd.DataFrame(np.random.uniform(low = -1, high = 1, size = 1000), columns = ['Social Capital'])\n",
    "# Look at the first 5\n",
    "dataset.head(10)"
   ]
  },
  {
   "cell_type": "markdown",
   "id": "7625bdd2",
   "metadata": {
    "slideshow": {
     "slide_type": "subslide"
    }
   },
   "source": [
    "Now draw a variable that gives you the propension to go to uni absent the social capital"
   ]
  },
  {
   "cell_type": "code",
   "execution_count": 4,
   "id": "ea4f6a9c",
   "metadata": {
    "slideshow": {
     "slide_type": "-"
    }
   },
   "outputs": [
    {
     "data": {
      "text/html": [
       "<div>\n",
       "<style scoped>\n",
       "    .dataframe tbody tr th:only-of-type {\n",
       "        vertical-align: middle;\n",
       "    }\n",
       "\n",
       "    .dataframe tbody tr th {\n",
       "        vertical-align: top;\n",
       "    }\n",
       "\n",
       "    .dataframe thead th {\n",
       "        text-align: right;\n",
       "    }\n",
       "</style>\n",
       "<table border=\"1\" class=\"dataframe\">\n",
       "  <thead>\n",
       "    <tr style=\"text-align: right;\">\n",
       "      <th></th>\n",
       "      <th>Social Capital</th>\n",
       "      <th>hid_uni</th>\n",
       "    </tr>\n",
       "  </thead>\n",
       "  <tbody>\n",
       "    <tr>\n",
       "      <th>0</th>\n",
       "      <td>-0.622237</td>\n",
       "      <td>0.106809</td>\n",
       "    </tr>\n",
       "    <tr>\n",
       "      <th>1</th>\n",
       "      <td>0.748082</td>\n",
       "      <td>0.642341</td>\n",
       "    </tr>\n",
       "    <tr>\n",
       "      <th>2</th>\n",
       "      <td>0.633870</td>\n",
       "      <td>0.398323</td>\n",
       "    </tr>\n",
       "    <tr>\n",
       "      <th>3</th>\n",
       "      <td>-0.388517</td>\n",
       "      <td>0.598541</td>\n",
       "    </tr>\n",
       "    <tr>\n",
       "      <th>4</th>\n",
       "      <td>-0.907830</td>\n",
       "      <td>0.339244</td>\n",
       "    </tr>\n",
       "  </tbody>\n",
       "</table>\n",
       "</div>"
      ],
      "text/plain": [
       "   Social Capital   hid_uni\n",
       "0       -0.622237  0.106809\n",
       "1        0.748082  0.642341\n",
       "2        0.633870  0.398323\n",
       "3       -0.388517  0.598541\n",
       "4       -0.907830  0.339244"
      ]
     },
     "execution_count": 4,
     "metadata": {},
     "output_type": "execute_result"
    }
   ],
   "source": [
    "# Now draw a variable that is a latent propension to go to uni\n",
    "dataset['hid_uni'] = np.random.uniform(low = 0,  high = 1, size = 1000)\n",
    "dataset.head()"
   ]
  },
  {
   "cell_type": "markdown",
   "id": "235fb9e8",
   "metadata": {
    "slideshow": {
     "slide_type": "subslide"
    }
   },
   "source": [
    "Finally, create the variable that's 0 if an individual has not gone to uni, 1 otherwise"
   ]
  },
  {
   "cell_type": "code",
   "execution_count": 7,
   "id": "be68ec3b",
   "metadata": {
    "slideshow": {
     "slide_type": "-"
    }
   },
   "outputs": [
    {
     "data": {
      "text/html": [
       "<div>\n",
       "<style scoped>\n",
       "    .dataframe tbody tr th:only-of-type {\n",
       "        vertical-align: middle;\n",
       "    }\n",
       "\n",
       "    .dataframe tbody tr th {\n",
       "        vertical-align: top;\n",
       "    }\n",
       "\n",
       "    .dataframe thead th {\n",
       "        text-align: right;\n",
       "    }\n",
       "</style>\n",
       "<table border=\"1\" class=\"dataframe\">\n",
       "  <thead>\n",
       "    <tr style=\"text-align: right;\">\n",
       "      <th></th>\n",
       "      <th>Social Capital</th>\n",
       "      <th>hid_uni</th>\n",
       "      <th>University</th>\n",
       "    </tr>\n",
       "  </thead>\n",
       "  <tbody>\n",
       "    <tr>\n",
       "      <th>0</th>\n",
       "      <td>-0.622237</td>\n",
       "      <td>0.106809</td>\n",
       "      <td>0</td>\n",
       "    </tr>\n",
       "    <tr>\n",
       "      <th>1</th>\n",
       "      <td>0.748082</td>\n",
       "      <td>0.642341</td>\n",
       "      <td>1</td>\n",
       "    </tr>\n",
       "    <tr>\n",
       "      <th>2</th>\n",
       "      <td>0.633870</td>\n",
       "      <td>0.398323</td>\n",
       "      <td>1</td>\n",
       "    </tr>\n",
       "    <tr>\n",
       "      <th>3</th>\n",
       "      <td>-0.388517</td>\n",
       "      <td>0.598541</td>\n",
       "      <td>0</td>\n",
       "    </tr>\n",
       "    <tr>\n",
       "      <th>4</th>\n",
       "      <td>-0.907830</td>\n",
       "      <td>0.339244</td>\n",
       "      <td>0</td>\n",
       "    </tr>\n",
       "  </tbody>\n",
       "</table>\n",
       "</div>"
      ],
      "text/plain": [
       "   Social Capital   hid_uni  University\n",
       "0       -0.622237  0.106809           0\n",
       "1        0.748082  0.642341           1\n",
       "2        0.633870  0.398323           1\n",
       "3       -0.388517  0.598541           0\n",
       "4       -0.907830  0.339244           0"
      ]
     },
     "execution_count": 7,
     "metadata": {},
     "output_type": "execute_result"
    }
   ],
   "source": [
    "dataset['University'] = (dataset['hid_uni'] + dataset['Social Capital'] > 0.5) # Transform it to an integer value\n",
    "dataset['University'] = dataset['University'].apply(lambda x: int(x))\n",
    "dataset.head()"
   ]
  },
  {
   "cell_type": "markdown",
   "id": "4c0e9ec5",
   "metadata": {
    "slideshow": {
     "slide_type": "subslide"
    }
   },
   "source": [
    "Why are we doing this? We're creating correlated variable, and we'll assume that social capital is unobservable to us, economists."
   ]
  },
  {
   "cell_type": "code",
   "execution_count": 8,
   "id": "63bbbc45",
   "metadata": {},
   "outputs": [
    {
     "data": {
      "text/html": [
       "<style type=\"text/css\">\n",
       "#T_5195b_row0_col0, #T_5195b_row1_col1, #T_5195b_row2_col2 {\n",
       "  background-color: #b40426;\n",
       "  color: #f1f1f1;\n",
       "}\n",
       "#T_5195b_row0_col1, #T_5195b_row1_col0, #T_5195b_row1_col2 {\n",
       "  background-color: #3b4cc0;\n",
       "  color: #f1f1f1;\n",
       "}\n",
       "#T_5195b_row0_col2 {\n",
       "  background-color: #f7a688;\n",
       "  color: #000000;\n",
       "}\n",
       "#T_5195b_row2_col0 {\n",
       "  background-color: #ee8669;\n",
       "  color: #f1f1f1;\n",
       "}\n",
       "#T_5195b_row2_col1 {\n",
       "  background-color: #98b9ff;\n",
       "  color: #000000;\n",
       "}\n",
       "</style>\n",
       "<table id=\"T_5195b\">\n",
       "  <thead>\n",
       "    <tr>\n",
       "      <th class=\"blank level0\" >&nbsp;</th>\n",
       "      <th id=\"T_5195b_level0_col0\" class=\"col_heading level0 col0\" >Social Capital</th>\n",
       "      <th id=\"T_5195b_level0_col1\" class=\"col_heading level0 col1\" >hid_uni</th>\n",
       "      <th id=\"T_5195b_level0_col2\" class=\"col_heading level0 col2\" >University</th>\n",
       "    </tr>\n",
       "  </thead>\n",
       "  <tbody>\n",
       "    <tr>\n",
       "      <th id=\"T_5195b_level0_row0\" class=\"row_heading level0 row0\" >Social Capital</th>\n",
       "      <td id=\"T_5195b_row0_col0\" class=\"data row0 col0\" >1.000000</td>\n",
       "      <td id=\"T_5195b_row0_col1\" class=\"data row0 col1\" >-0.024667</td>\n",
       "      <td id=\"T_5195b_row0_col2\" class=\"data row0 col2\" >0.791237</td>\n",
       "    </tr>\n",
       "    <tr>\n",
       "      <th id=\"T_5195b_level0_row1\" class=\"row_heading level0 row1\" >hid_uni</th>\n",
       "      <td id=\"T_5195b_row1_col0\" class=\"data row1 col0\" >-0.024667</td>\n",
       "      <td id=\"T_5195b_row1_col1\" class=\"data row1 col1\" >1.000000</td>\n",
       "      <td id=\"T_5195b_row1_col2\" class=\"data row1 col2\" >0.266297</td>\n",
       "    </tr>\n",
       "    <tr>\n",
       "      <th id=\"T_5195b_level0_row2\" class=\"row_heading level0 row2\" >University</th>\n",
       "      <td id=\"T_5195b_row2_col0\" class=\"data row2 col0\" >0.791237</td>\n",
       "      <td id=\"T_5195b_row2_col1\" class=\"data row2 col1\" >0.266297</td>\n",
       "      <td id=\"T_5195b_row2_col2\" class=\"data row2 col2\" >1.000000</td>\n",
       "    </tr>\n",
       "  </tbody>\n",
       "</table>\n"
      ],
      "text/plain": [
       "<pandas.io.formats.style.Styler at 0x25c1c593da0>"
      ]
     },
     "execution_count": 8,
     "metadata": {},
     "output_type": "execute_result"
    }
   ],
   "source": [
    "corr = dataset.corr()\n",
    "corr.style.background_gradient(cmap='coolwarm')"
   ]
  },
  {
   "cell_type": "markdown",
   "id": "a3ffa0f4",
   "metadata": {
    "slideshow": {
     "slide_type": "subslide"
    }
   },
   "source": [
    "Now let's imagine that for these individuals, we know their wages, and the wage process is given by\n",
    "\n",
    "$wage_i = \\alpha + \\beta * uni_i + \\gamma * social_i + \\epsilon_i$\n",
    "\n",
    " - wage starts at a constant $\\alpha$ and positively depends on both having gone to uni and having a lot of social capital"
   ]
  },
  {
   "cell_type": "code",
   "execution_count": 9,
   "id": "c63941d4",
   "metadata": {},
   "outputs": [
    {
     "data": {
      "text/html": [
       "<style type=\"text/css\">\n",
       "#T_46921_row0_col0, #T_46921_row1_col1, #T_46921_row2_col2, #T_46921_row3_col3 {\n",
       "  background-color: #b40426;\n",
       "  color: #f1f1f1;\n",
       "}\n",
       "#T_46921_row0_col1, #T_46921_row1_col0, #T_46921_row1_col2, #T_46921_row1_col3 {\n",
       "  background-color: #3b4cc0;\n",
       "  color: #f1f1f1;\n",
       "}\n",
       "#T_46921_row0_col2 {\n",
       "  background-color: #f7a688;\n",
       "  color: #000000;\n",
       "}\n",
       "#T_46921_row0_col3 {\n",
       "  background-color: #d75445;\n",
       "  color: #f1f1f1;\n",
       "}\n",
       "#T_46921_row2_col0 {\n",
       "  background-color: #ee8669;\n",
       "  color: #f1f1f1;\n",
       "}\n",
       "#T_46921_row2_col1 {\n",
       "  background-color: #98b9ff;\n",
       "  color: #000000;\n",
       "}\n",
       "#T_46921_row2_col3 {\n",
       "  background-color: #c0282f;\n",
       "  color: #f1f1f1;\n",
       "}\n",
       "#T_46921_row3_col0 {\n",
       "  background-color: #d1493f;\n",
       "  color: #f1f1f1;\n",
       "}\n",
       "#T_46921_row3_col1 {\n",
       "  background-color: #779af7;\n",
       "  color: #f1f1f1;\n",
       "}\n",
       "#T_46921_row3_col2 {\n",
       "  background-color: #c32e31;\n",
       "  color: #f1f1f1;\n",
       "}\n",
       "</style>\n",
       "<table id=\"T_46921\">\n",
       "  <thead>\n",
       "    <tr>\n",
       "      <th class=\"blank level0\" >&nbsp;</th>\n",
       "      <th id=\"T_46921_level0_col0\" class=\"col_heading level0 col0\" >Social Capital</th>\n",
       "      <th id=\"T_46921_level0_col1\" class=\"col_heading level0 col1\" >hid_uni</th>\n",
       "      <th id=\"T_46921_level0_col2\" class=\"col_heading level0 col2\" >University</th>\n",
       "      <th id=\"T_46921_level0_col3\" class=\"col_heading level0 col3\" >wage</th>\n",
       "    </tr>\n",
       "  </thead>\n",
       "  <tbody>\n",
       "    <tr>\n",
       "      <th id=\"T_46921_level0_row0\" class=\"row_heading level0 row0\" >Social Capital</th>\n",
       "      <td id=\"T_46921_row0_col0\" class=\"data row0 col0\" >1.000000</td>\n",
       "      <td id=\"T_46921_row0_col1\" class=\"data row0 col1\" >-0.024667</td>\n",
       "      <td id=\"T_46921_row0_col2\" class=\"data row0 col2\" >0.791237</td>\n",
       "      <td id=\"T_46921_row0_col3\" class=\"data row0 col3\" >0.912836</td>\n",
       "    </tr>\n",
       "    <tr>\n",
       "      <th id=\"T_46921_level0_row1\" class=\"row_heading level0 row1\" >hid_uni</th>\n",
       "      <td id=\"T_46921_row1_col0\" class=\"data row1 col0\" >-0.024667</td>\n",
       "      <td id=\"T_46921_row1_col1\" class=\"data row1 col1\" >1.000000</td>\n",
       "      <td id=\"T_46921_row1_col2\" class=\"data row1 col2\" >0.266297</td>\n",
       "      <td id=\"T_46921_row1_col3\" class=\"data row1 col3\" >0.167871</td>\n",
       "    </tr>\n",
       "    <tr>\n",
       "      <th id=\"T_46921_level0_row2\" class=\"row_heading level0 row2\" >University</th>\n",
       "      <td id=\"T_46921_row2_col0\" class=\"data row2 col0\" >0.791237</td>\n",
       "      <td id=\"T_46921_row2_col1\" class=\"data row2 col1\" >0.266297</td>\n",
       "      <td id=\"T_46921_row2_col2\" class=\"data row2 col2\" >1.000000</td>\n",
       "      <td id=\"T_46921_row2_col3\" class=\"data row2 col3\" >0.971116</td>\n",
       "    </tr>\n",
       "    <tr>\n",
       "      <th id=\"T_46921_level0_row3\" class=\"row_heading level0 row3\" >wage</th>\n",
       "      <td id=\"T_46921_row3_col0\" class=\"data row3 col0\" >0.912836</td>\n",
       "      <td id=\"T_46921_row3_col1\" class=\"data row3 col1\" >0.167871</td>\n",
       "      <td id=\"T_46921_row3_col2\" class=\"data row3 col2\" >0.971116</td>\n",
       "      <td id=\"T_46921_row3_col3\" class=\"data row3 col3\" >1.000000</td>\n",
       "    </tr>\n",
       "  </tbody>\n",
       "</table>\n"
      ],
      "text/plain": [
       "<pandas.io.formats.style.Styler at 0x25c1d758da0>"
      ]
     },
     "execution_count": 9,
     "metadata": {},
     "output_type": "execute_result"
    }
   ],
   "source": [
    "# Now let's create the wage variable\n",
    "dataset['wage'] = 12000 + dataset['University']*2000 + dataset['Social Capital']*1000 + np.random.normal(loc = 0, scale = 50, size = 1000)\n",
    "corr = dataset.corr()\n",
    "corr.style.background_gradient(cmap='coolwarm')"
   ]
  },
  {
   "cell_type": "code",
   "execution_count": 10,
   "id": "a0c93a43",
   "metadata": {
    "slideshow": {
     "slide_type": "-"
    }
   },
   "outputs": [
    {
     "data": {
      "image/png": "[encoded data removed]",
      "text/plain": [
       "<Figure size 1200x500 with 2 Axes>"
      ]
     },
     "metadata": {},
     "output_type": "display_data"
    }
   ],
   "source": [
    "import matplotlib.pyplot as plt\n",
    "# Create a figure and a set of subplots\n",
    "fig, ax = plt.subplots(1, 2, figsize=(12, 5))  # 1 row, 2 columns, and optionally set the figure size\n",
    "\n",
    "# Plot for University vs Wage on the left subplot\n",
    "ax[0].scatter(dataset['University'], dataset['wage'])\n",
    "ax[0].set_title('University vs Wage')\n",
    "ax[0].set_xlabel('University')\n",
    "ax[0].set_ylabel('Wage')\n",
    "ax[0].grid(False)\n",
    "# Plot for Social Capital vs Wage on the right subplot\n",
    "ax[1].scatter(dataset['Social Capital'], dataset['wage'])\n",
    "ax[1].set_title('Social Capital vs Wage')\n",
    "ax[1].set_xlabel('Social Capital')\n",
    "ax[1].set_ylabel('Wage')\n",
    "ax[1].grid(False)\n",
    "\n",
    "# Display the plots\n",
    "plt.show()"
   ]
  },
  {
   "cell_type": "markdown",
   "id": "3eb3ad4b",
   "metadata": {
    "slideshow": {
     "slide_type": "subslide"
    }
   },
   "source": [
    "### Statsmodels\n",
    "\n",
    "Let's start with regression on python"
   ]
  },
  {
   "cell_type": "code",
   "execution_count": null,
   "id": "066b3f2a",
   "metadata": {},
   "outputs": [],
   "source": [
    "!pip install statsmodels"
   ]
  },
  {
   "cell_type": "code",
   "execution_count": 12,
   "id": "b87e4940",
   "metadata": {
    "slideshow": {
     "slide_type": "-"
    }
   },
   "outputs": [
    {
     "name": "stdout",
     "output_type": "stream",
     "text": [
      "<class 'statsmodels.regression.linear_model.OLS'>\n"
     ]
    }
   ],
   "source": [
    "import statsmodels.api as sm\n",
    "\n",
    "# Add a constant\n",
    "dataset['constant'] = 1\n",
    "\n",
    "reg1 = sm.OLS(endog=dataset['wage'], exog=dataset[['constant', 'University']], missing='drop')\n",
    "print(type(reg1))"
   ]
  },
  {
   "cell_type": "markdown",
   "id": "8b4ae180",
   "metadata": {
    "slideshow": {
     "slide_type": "-"
    }
   },
   "source": [
    "With this package, you create a model object, and on this model you can implement various commands."
   ]
  },
  {
   "cell_type": "markdown",
   "id": "1e4f901a",
   "metadata": {
    "slideshow": {
     "slide_type": "subslide"
    }
   },
   "source": [
    "The most interesting command for us is often going to be `fit` - perform the regression"
   ]
  },
  {
   "cell_type": "code",
   "execution_count": 13,
   "id": "f98d737f",
   "metadata": {
    "slideshow": {
     "slide_type": "-"
    }
   },
   "outputs": [
    {
     "name": "stdout",
     "output_type": "stream",
     "text": [
      "                            OLS Regression Results                            \n",
      "==============================================================================\n",
      "Dep. Variable:                   wage   R-squared:                       0.943\n",
      "Model:                            OLS   Adj. R-squared:                  0.943\n",
      "Method:                 Least Squares   F-statistic:                 1.653e+04\n",
      "Date:                Thu, 02 May 2024   Prob (F-statistic):               0.00\n",
      "Time:                        08:25:18   Log-Likelihood:                -7301.9\n",
      "No. Observations:                1000   AIC:                         1.461e+04\n",
      "Df Residuals:                     998   BIC:                         1.462e+04\n",
      "Df Model:                           1                                         \n",
      "Covariance Type:            nonrobust                                         \n",
      "==============================================================================\n",
      "                 coef    std err          t      P>|t|      [0.025      0.975]\n",
      "------------------------------------------------------------------------------\n",
      "constant    1.154e+04     15.938    724.282      0.000    1.15e+04    1.16e+04\n",
      "University  2921.4228     22.722    128.573      0.000    2876.835    2966.011\n",
      "==============================================================================\n",
      "Omnibus:                       80.946   Durbin-Watson:                   2.000\n",
      "Prob(Omnibus):                  0.000   Jarque-Bera (JB):               26.647\n",
      "Skew:                           0.009   Prob(JB):                     1.64e-06\n",
      "Kurtosis:                       2.201   Cond. No.                         2.60\n",
      "==============================================================================\n",
      "\n",
      "Notes:\n",
      "[1] Standard Errors assume that the covariance matrix of the errors is correctly specified.\n"
     ]
    }
   ],
   "source": [
    "reg1 = reg1.fit()\n",
    "print(reg1.summary())"
   ]
  },
  {
   "cell_type": "markdown",
   "id": "4b75bb39",
   "metadata": {
    "slideshow": {
     "slide_type": "subslide"
    }
   },
   "source": [
    "We are overestimating the effect of university. The error we're making is called an `omitted variable bias`. In general there can be three categories of errors:\n",
    "\n",
    "- Omitted variable bias\n",
    "- Double Causality\n",
    "- Measurement errors"
   ]
  },
  {
   "cell_type": "markdown",
   "id": "82afb0a8",
   "metadata": {
    "slideshow": {
     "slide_type": "subslide"
    }
   },
   "source": [
    "In the case of an `omitted variable bias`, the bias on the coefficient estimated depends on the sign of the correlation between variables included and variables omitted"
   ]
  },
  {
   "cell_type": "code",
   "execution_count": 14,
   "id": "9fa4e203",
   "metadata": {},
   "outputs": [
    {
     "data": {
      "text/html": [
       "<style type=\"text/css\">\n",
       "#T_69d30_row0_col0, #T_69d30_row1_col1, #T_69d30_row2_col2, #T_69d30_row3_col3 {\n",
       "  background-color: #b40426;\n",
       "  color: #f1f1f1;\n",
       "}\n",
       "#T_69d30_row0_col1, #T_69d30_row1_col0, #T_69d30_row1_col2, #T_69d30_row1_col3 {\n",
       "  background-color: #3b4cc0;\n",
       "  color: #f1f1f1;\n",
       "}\n",
       "#T_69d30_row0_col2 {\n",
       "  background-color: #f7a688;\n",
       "  color: #000000;\n",
       "}\n",
       "#T_69d30_row0_col3 {\n",
       "  background-color: #d75445;\n",
       "  color: #f1f1f1;\n",
       "}\n",
       "#T_69d30_row2_col0 {\n",
       "  background-color: #ee8669;\n",
       "  color: #f1f1f1;\n",
       "}\n",
       "#T_69d30_row2_col1 {\n",
       "  background-color: #98b9ff;\n",
       "  color: #000000;\n",
       "}\n",
       "#T_69d30_row2_col3 {\n",
       "  background-color: #c0282f;\n",
       "  color: #f1f1f1;\n",
       "}\n",
       "#T_69d30_row3_col0 {\n",
       "  background-color: #d1493f;\n",
       "  color: #f1f1f1;\n",
       "}\n",
       "#T_69d30_row3_col1 {\n",
       "  background-color: #779af7;\n",
       "  color: #f1f1f1;\n",
       "}\n",
       "#T_69d30_row3_col2 {\n",
       "  background-color: #c32e31;\n",
       "  color: #f1f1f1;\n",
       "}\n",
       "</style>\n",
       "<table id=\"T_69d30\">\n",
       "  <thead>\n",
       "    <tr>\n",
       "      <th class=\"blank level0\" >&nbsp;</th>\n",
       "      <th id=\"T_69d30_level0_col0\" class=\"col_heading level0 col0\" >Social Capital</th>\n",
       "      <th id=\"T_69d30_level0_col1\" class=\"col_heading level0 col1\" >hid_uni</th>\n",
       "      <th id=\"T_69d30_level0_col2\" class=\"col_heading level0 col2\" >University</th>\n",
       "      <th id=\"T_69d30_level0_col3\" class=\"col_heading level0 col3\" >wage</th>\n",
       "    </tr>\n",
       "  </thead>\n",
       "  <tbody>\n",
       "    <tr>\n",
       "      <th id=\"T_69d30_level0_row0\" class=\"row_heading level0 row0\" >Social Capital</th>\n",
       "      <td id=\"T_69d30_row0_col0\" class=\"data row0 col0\" >1.000000</td>\n",
       "      <td id=\"T_69d30_row0_col1\" class=\"data row0 col1\" >-0.024667</td>\n",
       "      <td id=\"T_69d30_row0_col2\" class=\"data row0 col2\" >0.791237</td>\n",
       "      <td id=\"T_69d30_row0_col3\" class=\"data row0 col3\" >0.912836</td>\n",
       "    </tr>\n",
       "    <tr>\n",
       "      <th id=\"T_69d30_level0_row1\" class=\"row_heading level0 row1\" >hid_uni</th>\n",
       "      <td id=\"T_69d30_row1_col0\" class=\"data row1 col0\" >-0.024667</td>\n",
       "      <td id=\"T_69d30_row1_col1\" class=\"data row1 col1\" >1.000000</td>\n",
       "      <td id=\"T_69d30_row1_col2\" class=\"data row1 col2\" >0.266297</td>\n",
       "      <td id=\"T_69d30_row1_col3\" class=\"data row1 col3\" >0.167871</td>\n",
       "    </tr>\n",
       "    <tr>\n",
       "      <th id=\"T_69d30_level0_row2\" class=\"row_heading level0 row2\" >University</th>\n",
       "      <td id=\"T_69d30_row2_col0\" class=\"data row2 col0\" >0.791237</td>\n",
       "      <td id=\"T_69d30_row2_col1\" class=\"data row2 col1\" >0.266297</td>\n",
       "      <td id=\"T_69d30_row2_col2\" class=\"data row2 col2\" >1.000000</td>\n",
       "      <td id=\"T_69d30_row2_col3\" class=\"data row2 col3\" >0.971116</td>\n",
       "    </tr>\n",
       "    <tr>\n",
       "      <th id=\"T_69d30_level0_row3\" class=\"row_heading level0 row3\" >wage</th>\n",
       "      <td id=\"T_69d30_row3_col0\" class=\"data row3 col0\" >0.912836</td>\n",
       "      <td id=\"T_69d30_row3_col1\" class=\"data row3 col1\" >0.167871</td>\n",
       "      <td id=\"T_69d30_row3_col2\" class=\"data row3 col2\" >0.971116</td>\n",
       "      <td id=\"T_69d30_row3_col3\" class=\"data row3 col3\" >1.000000</td>\n",
       "    </tr>\n",
       "  </tbody>\n",
       "</table>\n"
      ],
      "text/plain": [
       "<pandas.io.formats.style.Styler at 0x25c1cdb7da0>"
      ]
     },
     "execution_count": 14,
     "metadata": {},
     "output_type": "execute_result"
    }
   ],
   "source": [
    "corr = dataset.drop(columns = 'constant').corr()\n",
    "corr.style.background_gradient(cmap='coolwarm')"
   ]
  },
  {
   "cell_type": "markdown",
   "id": "726af997",
   "metadata": {
    "slideshow": {
     "slide_type": "fragment"
    }
   },
   "source": [
    "Social capital is both positively correlated with university and wages: the bias overestimate the impact of university"
   ]
  },
  {
   "cell_type": "markdown",
   "id": "08ef0f8b",
   "metadata": {
    "slideshow": {
     "slide_type": "subslide"
    }
   },
   "source": [
    "There are two ways to go about this problem:\n",
    "\n",
    "- Find a proxy for Social Capital and put it in the model.\n",
    "- Find an instrument that pushes people into university and does not impact wage through any other channel"
   ]
  },
  {
   "cell_type": "markdown",
   "id": "26404677",
   "metadata": {
    "slideshow": {
     "slide_type": "subslide"
    }
   },
   "source": [
    "Let's do the proxy route. Imagine we can have a measure of Social Capital.\n",
    "\n",
    "- Let's say we have a variable about social class, that tells us the following:\n",
    "    - Social capital < -0.5 : 0\n",
    "    - Social capital < 0: 1\n",
    "    - Social capital > 0: 2\n",
    "- Or imagine we can measure social capital, but imprecisely"
   ]
  },
  {
   "cell_type": "code",
   "execution_count": 15,
   "id": "bd5af66c",
   "metadata": {},
   "outputs": [
    {
     "data": {
      "text/html": [
       "<style type=\"text/css\">\n",
       "#T_e357e_row0_col0, #T_e357e_row1_col1, #T_e357e_row2_col2 {\n",
       "  background-color: #b40426;\n",
       "  color: #f1f1f1;\n",
       "}\n",
       "#T_e357e_row0_col1 {\n",
       "  background-color: #e4d9d2;\n",
       "  color: #000000;\n",
       "}\n",
       "#T_e357e_row0_col2 {\n",
       "  background-color: #c1d4f4;\n",
       "  color: #000000;\n",
       "}\n",
       "#T_e357e_row1_col0 {\n",
       "  background-color: #7ea1fa;\n",
       "  color: #f1f1f1;\n",
       "}\n",
       "#T_e357e_row1_col2, #T_e357e_row2_col0, #T_e357e_row2_col1 {\n",
       "  background-color: #3b4cc0;\n",
       "  color: #f1f1f1;\n",
       "}\n",
       "</style>\n",
       "<table id=\"T_e357e\">\n",
       "  <thead>\n",
       "    <tr>\n",
       "      <th class=\"blank level0\" >&nbsp;</th>\n",
       "      <th id=\"T_e357e_level0_col0\" class=\"col_heading level0 col0\" >Social Capital</th>\n",
       "      <th id=\"T_e357e_level0_col1\" class=\"col_heading level0 col1\" >class</th>\n",
       "      <th id=\"T_e357e_level0_col2\" class=\"col_heading level0 col2\" >wealth</th>\n",
       "    </tr>\n",
       "  </thead>\n",
       "  <tbody>\n",
       "    <tr>\n",
       "      <th id=\"T_e357e_level0_row0\" class=\"row_heading level0 row0\" >Social Capital</th>\n",
       "      <td id=\"T_e357e_row0_col0\" class=\"data row0 col0\" >1.000000</td>\n",
       "      <td id=\"T_e357e_row0_col1\" class=\"data row0 col1\" >0.913380</td>\n",
       "      <td id=\"T_e357e_row0_col2\" class=\"data row0 col2\" >0.890579</td>\n",
       "    </tr>\n",
       "    <tr>\n",
       "      <th id=\"T_e357e_level0_row1\" class=\"row_heading level0 row1\" >class</th>\n",
       "      <td id=\"T_e357e_row1_col0\" class=\"data row1 col0\" >0.913380</td>\n",
       "      <td id=\"T_e357e_row1_col1\" class=\"data row1 col1\" >1.000000</td>\n",
       "      <td id=\"T_e357e_row1_col2\" class=\"data row1 col2\" >0.816451</td>\n",
       "    </tr>\n",
       "    <tr>\n",
       "      <th id=\"T_e357e_level0_row2\" class=\"row_heading level0 row2\" >wealth</th>\n",
       "      <td id=\"T_e357e_row2_col0\" class=\"data row2 col0\" >0.890579</td>\n",
       "      <td id=\"T_e357e_row2_col1\" class=\"data row2 col1\" >0.816451</td>\n",
       "      <td id=\"T_e357e_row2_col2\" class=\"data row2 col2\" >1.000000</td>\n",
       "    </tr>\n",
       "  </tbody>\n",
       "</table>\n"
      ],
      "text/plain": [
       "<pandas.io.formats.style.Styler at 0x25c3e585e50>"
      ]
     },
     "execution_count": 15,
     "metadata": {},
     "output_type": "execute_result"
    }
   ],
   "source": [
    "dataset['class'] = dataset['Social Capital'].apply(lambda x: 0 if x < -0.5 else (1 if x <0 else 2))\n",
    "dataset['wealth'] = dataset['Social Capital'] + np.random.normal(loc = 0, scale = 0.3, size = 1000)\n",
    "\n",
    "corr = dataset[['Social Capital', 'class', 'wealth']].corr()\n",
    "corr.style.background_gradient(cmap='coolwarm')"
   ]
  },
  {
   "cell_type": "code",
   "execution_count": 17,
   "id": "15fa9bac",
   "metadata": {
    "scrolled": true,
    "slideshow": {
     "slide_type": "subslide"
    }
   },
   "outputs": [
    {
     "data": {
      "image/png": "[encoded data removed]",
      "text/plain": [
       "<Figure size 1200x500 with 2 Axes>"
      ]
     },
     "metadata": {},
     "output_type": "display_data"
    }
   ],
   "source": [
    "X = dataset['Social Capital']\n",
    "y1 = dataset['class']\n",
    "y2 = dataset['wealth']\n",
    "\n",
    "# Create a figure and a set of subplots\n",
    "fig, ax = plt.subplots(1, 2, figsize=(12, 5))  # 1 row, 2 columns, and optionally set the figure size\n",
    "\n",
    "# Plot for University vs Wage on the left subplot\n",
    "ax[0].scatter(dataset['Social Capital'], dataset['class'])\n",
    "ax[0].set_title('Dummy Proxy')\n",
    "ax[0].set_xlabel('Social Capital')\n",
    "ax[0].set_ylabel('Proxy level')\n",
    "ax[0].plot(np.unique(X),\n",
    "         np.poly1d(np.polyfit(X, y1, 1))(np.unique(X)),\n",
    "         color='black')\n",
    "ax[0].grid(False)\n",
    "\n",
    "# Plot for Social Capital vs Wage on the right subplot\n",
    "ax[1].scatter(dataset['Social Capital'], dataset['wealth'])\n",
    "ax[1].set_title('Imprecise Proxy')\n",
    "ax[1].set_xlabel('Social Capital')\n",
    "ax[1].set_ylabel('Proxy level')\n",
    "ax[1].plot(np.unique(X),\n",
    "         np.poly1d(np.polyfit(X, y2, 1))(np.unique(X)),\n",
    "         color='black')\n",
    "ax[1].grid(False)\n",
    "\n",
    "# Display the plots\n",
    "plt.show()"
   ]
  },
  {
   "cell_type": "markdown",
   "id": "78ffb209",
   "metadata": {
    "slideshow": {
     "slide_type": "subslide"
    }
   },
   "source": [
    "Now we can perform a bunch of regressions:\n",
    "\n",
    "    - One regression including our proxy number 1 - the dummy one\n",
    "    - One regression including our proxy number 2 - the noisy one\n",
    "    - One regression assuming we can actually observe social capital"
   ]
  },
  {
   "cell_type": "code",
   "execution_count": 19,
   "id": "f622be74",
   "metadata": {
    "slideshow": {
     "slide_type": "-"
    }
   },
   "outputs": [],
   "source": [
    "reg2 = sm.OLS(endog=dataset['wage'], exog=dataset[['constant', 'University', 'class']], missing='drop').fit()\n",
    "reg3 = sm.OLS(endog=dataset['wage'], exog=dataset[['constant', 'University', 'wealth']], missing='drop').fit()\n",
    "truth = sm.OLS(endog=dataset['wage'], exog=dataset[['constant', 'University', 'Social Capital']], missing='drop').fit()"
   ]
  },
  {
   "cell_type": "markdown",
   "id": "2a01c774",
   "metadata": {
    "slideshow": {
     "slide_type": "subslide"
    }
   },
   "source": [
    "Looking at these results, we want to compare them with the previous ones. Hence we use another part of the library of statsmodels."
   ]
  },
  {
   "cell_type": "code",
   "execution_count": 20,
   "id": "85db7cee",
   "metadata": {},
   "outputs": [
    {
     "name": "stdout",
     "output_type": "stream",
     "text": [
      "\n",
      "====================================================================\n",
      "                    Truth     Base Model Dummy Proxy Imprecise Proxy\n",
      "--------------------------------------------------------------------\n",
      "constant         12002.18*** 11543.41*** 11229.64*** 11806.98***    \n",
      "                 (3.06)      (15.94)     (12.51)     (12.44)        \n",
      "University       2001.92***  2921.42***  2283.97***  2376.92***     \n",
      "                 (5.24)      (22.72)     (21.07)     (20.61)        \n",
      "Social Capital   1001.51***                                         \n",
      "                 (4.52)                                             \n",
      "class                                    509.25***                  \n",
      "                                         (12.59)                    \n",
      "wealth                                               584.89***      \n",
      "                                                     (15.59)        \n",
      "R-squared        1.00        0.94        0.98        0.98           \n",
      "R-squared Adj.   1.00        0.94        0.98        0.98           \n",
      "No. observations 1000        1000        1000        1000           \n",
      "R-squared        1.00        0.94        0.98        0.98           \n",
      "====================================================================\n",
      "Standard errors in parentheses.\n",
      "* p<.1, ** p<.05, ***p<.01\n"
     ]
    }
   ],
   "source": [
    "# Import the packages for regression visualisation\n",
    "from statsmodels.iolib.summary2 import summary_col\n",
    "\n",
    "info_dict={'R-squared' : lambda x: f\"{x.rsquared:.2f}\",\n",
    "           'No. observations' : lambda x: f\"{int(x.nobs):d}\"}\n",
    "\n",
    "results_table = summary_col(results=[truth, reg1,reg2,reg3],\n",
    "                            float_format='%0.2f',\n",
    "                            stars = True,\n",
    "                            info_dict = info_dict,\n",
    "                            model_names=['Truth',\n",
    "                                         'Base Model',\n",
    "                                         'Dummy Proxy',\n",
    "                                         'Imprecise Proxy'])\n",
    "print(results_table)"
   ]
  },
  {
   "cell_type": "markdown",
   "id": "de09a7bf",
   "metadata": {
    "slideshow": {
     "slide_type": "subslide"
    }
   },
   "source": [
    "It might work well, but in some cases it will be next to impossible to measure that unobservable, or indeed even to know what it is.\n",
    "\n",
    "So in this case you find an exogenous source of variation in your variable of interest.\n",
    "\n",
    "Assume the state gives a grant randomly to a random 15% of individuals to go to university. And that receiving this grant increases the probability to go to university."
   ]
  },
  {
   "cell_type": "code",
   "execution_count": 22,
   "id": "ee175054",
   "metadata": {},
   "outputs": [],
   "source": [
    "# First let's generate a fake dataset with the variables that we have\n",
    "dataset = pd.DataFrame(np.random.uniform(low = -1, high = 1, size = 1000), columns = ['Social Capital'])\n",
    "\n",
    "dataset['Grant'] = np.random.uniform(low = 0, high = 1, size = 1000) < 0.15\n",
    "dataset['Grant'] = dataset['Grant'].apply(lambda x: int(x))\n",
    "\n",
    "\n",
    "# Now draw a random integer and sum it with the social capital, if it's superior to 0.5 we not \"university educated\"\n",
    "dataset['hid_uni'] = np.random.uniform(low = 0,  high = 1, size = 1000)"
   ]
  },
  {
   "cell_type": "markdown",
   "id": "50eac868",
   "metadata": {
    "slideshow": {
     "slide_type": "subslide"
    }
   },
   "source": [
    "The rest of the data generating process is kind of the same, but now I say that one goes to uni if\n",
    "\n",
    "`hid_uni` + `social capital` + `grant` > 0.5\n",
    "\n",
    "What this does is data generating process is the same for all individuals as before. Except for who got the grant that goes to university for sure!"
   ]
  },
  {
   "cell_type": "code",
   "execution_count": 23,
   "id": "09204caf",
   "metadata": {},
   "outputs": [
    {
     "data": {
      "text/html": [
       "<style type=\"text/css\">\n",
       "#T_4d58f_row0_col0, #T_4d58f_row1_col1, #T_4d58f_row2_col2, #T_4d58f_row3_col3 {\n",
       "  background-color: #b40426;\n",
       "  color: #f1f1f1;\n",
       "}\n",
       "#T_4d58f_row0_col1 {\n",
       "  background-color: #4257c9;\n",
       "  color: #f1f1f1;\n",
       "}\n",
       "#T_4d58f_row0_col2, #T_4d58f_row2_col0, #T_4d58f_row2_col1, #T_4d58f_row2_col3 {\n",
       "  background-color: #3b4cc0;\n",
       "  color: #f1f1f1;\n",
       "}\n",
       "#T_4d58f_row0_col3 {\n",
       "  background-color: #f2cbb7;\n",
       "  color: #000000;\n",
       "}\n",
       "#T_4d58f_row1_col0 {\n",
       "  background-color: #485fd1;\n",
       "  color: #f1f1f1;\n",
       "}\n",
       "#T_4d58f_row1_col2 {\n",
       "  background-color: #3f53c6;\n",
       "  color: #f1f1f1;\n",
       "}\n",
       "#T_4d58f_row1_col3 {\n",
       "  background-color: #5a78e4;\n",
       "  color: #f1f1f1;\n",
       "}\n",
       "#T_4d58f_row3_col0 {\n",
       "  background-color: #f7a889;\n",
       "  color: #000000;\n",
       "}\n",
       "#T_4d58f_row3_col1 {\n",
       "  background-color: #abc8fd;\n",
       "  color: #000000;\n",
       "}\n",
       "#T_4d58f_row3_col2 {\n",
       "  background-color: #96b7ff;\n",
       "  color: #000000;\n",
       "}\n",
       "</style>\n",
       "<table id=\"T_4d58f\">\n",
       "  <thead>\n",
       "    <tr>\n",
       "      <th class=\"blank level0\" >&nbsp;</th>\n",
       "      <th id=\"T_4d58f_level0_col0\" class=\"col_heading level0 col0\" >Social Capital</th>\n",
       "      <th id=\"T_4d58f_level0_col1\" class=\"col_heading level0 col1\" >Grant</th>\n",
       "      <th id=\"T_4d58f_level0_col2\" class=\"col_heading level0 col2\" >hid_uni</th>\n",
       "      <th id=\"T_4d58f_level0_col3\" class=\"col_heading level0 col3\" >University</th>\n",
       "    </tr>\n",
       "  </thead>\n",
       "  <tbody>\n",
       "    <tr>\n",
       "      <th id=\"T_4d58f_level0_row0\" class=\"row_heading level0 row0\" >Social Capital</th>\n",
       "      <td id=\"T_4d58f_row0_col0\" class=\"data row0 col0\" >1.000000</td>\n",
       "      <td id=\"T_4d58f_row0_col1\" class=\"data row0 col1\" >0.024487</td>\n",
       "      <td id=\"T_4d58f_row0_col2\" class=\"data row0 col2\" >-0.022823</td>\n",
       "      <td id=\"T_4d58f_row0_col3\" class=\"data row0 col3\" >0.705094</td>\n",
       "    </tr>\n",
       "    <tr>\n",
       "      <th id=\"T_4d58f_level0_row1\" class=\"row_heading level0 row1\" >Grant</th>\n",
       "      <td id=\"T_4d58f_row1_col0\" class=\"data row1 col0\" >0.024487</td>\n",
       "      <td id=\"T_4d58f_row1_col1\" class=\"data row1 col1\" >1.000000</td>\n",
       "      <td id=\"T_4d58f_row1_col2\" class=\"data row1 col2\" >-0.002874</td>\n",
       "      <td id=\"T_4d58f_row1_col3\" class=\"data row1 col3\" >0.337472</td>\n",
       "    </tr>\n",
       "    <tr>\n",
       "      <th id=\"T_4d58f_level0_row2\" class=\"row_heading level0 row2\" >hid_uni</th>\n",
       "      <td id=\"T_4d58f_row2_col0\" class=\"data row2 col0\" >-0.022823</td>\n",
       "      <td id=\"T_4d58f_row2_col1\" class=\"data row2 col1\" >-0.002874</td>\n",
       "      <td id=\"T_4d58f_row2_col2\" class=\"data row2 col2\" >1.000000</td>\n",
       "      <td id=\"T_4d58f_row2_col3\" class=\"data row2 col3\" >0.260819</td>\n",
       "    </tr>\n",
       "    <tr>\n",
       "      <th id=\"T_4d58f_level0_row3\" class=\"row_heading level0 row3\" >University</th>\n",
       "      <td id=\"T_4d58f_row3_col0\" class=\"data row3 col0\" >0.705094</td>\n",
       "      <td id=\"T_4d58f_row3_col1\" class=\"data row3 col1\" >0.337472</td>\n",
       "      <td id=\"T_4d58f_row3_col2\" class=\"data row3 col2\" >0.260819</td>\n",
       "      <td id=\"T_4d58f_row3_col3\" class=\"data row3 col3\" >1.000000</td>\n",
       "    </tr>\n",
       "  </tbody>\n",
       "</table>\n"
      ],
      "text/plain": [
       "<pandas.io.formats.style.Styler at 0x25c40a0d9a0>"
      ]
     },
     "execution_count": 23,
     "metadata": {},
     "output_type": "execute_result"
    }
   ],
   "source": [
    "dataset['University'] = (dataset['hid_uni'] + dataset['Social Capital'] + dataset['Grant'] > 0.5)\n",
    "dataset['University'] = dataset['University'].apply(lambda x: int(x))\n",
    "\n",
    "corr = dataset.corr()\n",
    "corr.style.background_gradient(cmap='coolwarm')"
   ]
  },
  {
   "cell_type": "markdown",
   "id": "ceef23b6",
   "metadata": {
    "slideshow": {
     "slide_type": "subslide"
    }
   },
   "source": [
    "And now I compute the wage as before"
   ]
  },
  {
   "cell_type": "code",
   "execution_count": 24,
   "id": "1ae39e87",
   "metadata": {},
   "outputs": [
    {
     "data": {
      "text/html": [
       "<style type=\"text/css\">\n",
       "#T_72d94_row0_col0, #T_72d94_row1_col1, #T_72d94_row2_col2, #T_72d94_row3_col3, #T_72d94_row4_col4 {\n",
       "  background-color: #b40426;\n",
       "  color: #f1f1f1;\n",
       "}\n",
       "#T_72d94_row0_col1 {\n",
       "  background-color: #4257c9;\n",
       "  color: #f1f1f1;\n",
       "}\n",
       "#T_72d94_row0_col2, #T_72d94_row2_col0, #T_72d94_row2_col1, #T_72d94_row2_col3, #T_72d94_row2_col4 {\n",
       "  background-color: #3b4cc0;\n",
       "  color: #f1f1f1;\n",
       "}\n",
       "#T_72d94_row0_col3 {\n",
       "  background-color: #f2cbb7;\n",
       "  color: #000000;\n",
       "}\n",
       "#T_72d94_row0_col4 {\n",
       "  background-color: #e36c55;\n",
       "  color: #f1f1f1;\n",
       "}\n",
       "#T_72d94_row1_col0 {\n",
       "  background-color: #485fd1;\n",
       "  color: #f1f1f1;\n",
       "}\n",
       "#T_72d94_row1_col2 {\n",
       "  background-color: #3f53c6;\n",
       "  color: #f1f1f1;\n",
       "}\n",
       "#T_72d94_row1_col3 {\n",
       "  background-color: #5a78e4;\n",
       "  color: #f1f1f1;\n",
       "}\n",
       "#T_72d94_row1_col4 {\n",
       "  background-color: #5572df;\n",
       "  color: #f1f1f1;\n",
       "}\n",
       "#T_72d94_row3_col0 {\n",
       "  background-color: #f7a889;\n",
       "  color: #000000;\n",
       "}\n",
       "#T_72d94_row3_col1 {\n",
       "  background-color: #abc8fd;\n",
       "  color: #000000;\n",
       "}\n",
       "#T_72d94_row3_col2 {\n",
       "  background-color: #96b7ff;\n",
       "  color: #000000;\n",
       "}\n",
       "#T_72d94_row3_col4 {\n",
       "  background-color: #c53334;\n",
       "  color: #f1f1f1;\n",
       "}\n",
       "#T_72d94_row4_col0 {\n",
       "  background-color: #dd5f4b;\n",
       "  color: #f1f1f1;\n",
       "}\n",
       "#T_72d94_row4_col1 {\n",
       "  background-color: #8badfd;\n",
       "  color: #000000;\n",
       "}\n",
       "#T_72d94_row4_col2 {\n",
       "  background-color: #7699f6;\n",
       "  color: #f1f1f1;\n",
       "}\n",
       "#T_72d94_row4_col3 {\n",
       "  background-color: #c73635;\n",
       "  color: #f1f1f1;\n",
       "}\n",
       "</style>\n",
       "<table id=\"T_72d94\">\n",
       "  <thead>\n",
       "    <tr>\n",
       "      <th class=\"blank level0\" >&nbsp;</th>\n",
       "      <th id=\"T_72d94_level0_col0\" class=\"col_heading level0 col0\" >Social Capital</th>\n",
       "      <th id=\"T_72d94_level0_col1\" class=\"col_heading level0 col1\" >Grant</th>\n",
       "      <th id=\"T_72d94_level0_col2\" class=\"col_heading level0 col2\" >hid_uni</th>\n",
       "      <th id=\"T_72d94_level0_col3\" class=\"col_heading level0 col3\" >University</th>\n",
       "      <th id=\"T_72d94_level0_col4\" class=\"col_heading level0 col4\" >wage</th>\n",
       "    </tr>\n",
       "  </thead>\n",
       "  <tbody>\n",
       "    <tr>\n",
       "      <th id=\"T_72d94_level0_row0\" class=\"row_heading level0 row0\" >Social Capital</th>\n",
       "      <td id=\"T_72d94_row0_col0\" class=\"data row0 col0\" >1.000000</td>\n",
       "      <td id=\"T_72d94_row0_col1\" class=\"data row0 col1\" >0.024487</td>\n",
       "      <td id=\"T_72d94_row0_col2\" class=\"data row0 col2\" >-0.022823</td>\n",
       "      <td id=\"T_72d94_row0_col3\" class=\"data row0 col3\" >0.705094</td>\n",
       "      <td id=\"T_72d94_row0_col4\" class=\"data row0 col4\" >0.874273</td>\n",
       "    </tr>\n",
       "    <tr>\n",
       "      <th id=\"T_72d94_level0_row1\" class=\"row_heading level0 row1\" >Grant</th>\n",
       "      <td id=\"T_72d94_row1_col0\" class=\"data row1 col0\" >0.024487</td>\n",
       "      <td id=\"T_72d94_row1_col1\" class=\"data row1 col1\" >1.000000</td>\n",
       "      <td id=\"T_72d94_row1_col2\" class=\"data row1 col2\" >-0.002874</td>\n",
       "      <td id=\"T_72d94_row1_col3\" class=\"data row1 col3\" >0.337472</td>\n",
       "      <td id=\"T_72d94_row1_col4\" class=\"data row1 col4\" >0.241888</td>\n",
       "    </tr>\n",
       "    <tr>\n",
       "      <th id=\"T_72d94_level0_row2\" class=\"row_heading level0 row2\" >hid_uni</th>\n",
       "      <td id=\"T_72d94_row2_col0\" class=\"data row2 col0\" >-0.022823</td>\n",
       "      <td id=\"T_72d94_row2_col1\" class=\"data row2 col1\" >-0.002874</td>\n",
       "      <td id=\"T_72d94_row2_col2\" class=\"data row2 col2\" >1.000000</td>\n",
       "      <td id=\"T_72d94_row2_col3\" class=\"data row2 col3\" >0.260819</td>\n",
       "      <td id=\"T_72d94_row2_col4\" class=\"data row2 col4\" >0.167748</td>\n",
       "    </tr>\n",
       "    <tr>\n",
       "      <th id=\"T_72d94_level0_row3\" class=\"row_heading level0 row3\" >University</th>\n",
       "      <td id=\"T_72d94_row3_col0\" class=\"data row3 col0\" >0.705094</td>\n",
       "      <td id=\"T_72d94_row3_col1\" class=\"data row3 col1\" >0.337472</td>\n",
       "      <td id=\"T_72d94_row3_col2\" class=\"data row3 col2\" >0.260819</td>\n",
       "      <td id=\"T_72d94_row3_col3\" class=\"data row3 col3\" >1.000000</td>\n",
       "      <td id=\"T_72d94_row3_col4\" class=\"data row3 col4\" >0.959798</td>\n",
       "    </tr>\n",
       "    <tr>\n",
       "      <th id=\"T_72d94_level0_row4\" class=\"row_heading level0 row4\" >wage</th>\n",
       "      <td id=\"T_72d94_row4_col0\" class=\"data row4 col0\" >0.874273</td>\n",
       "      <td id=\"T_72d94_row4_col1\" class=\"data row4 col1\" >0.241888</td>\n",
       "      <td id=\"T_72d94_row4_col2\" class=\"data row4 col2\" >0.167748</td>\n",
       "      <td id=\"T_72d94_row4_col3\" class=\"data row4 col3\" >0.959798</td>\n",
       "      <td id=\"T_72d94_row4_col4\" class=\"data row4 col4\" >1.000000</td>\n",
       "    </tr>\n",
       "  </tbody>\n",
       "</table>\n"
      ],
      "text/plain": [
       "<pandas.io.formats.style.Styler at 0x25c40a0c410>"
      ]
     },
     "execution_count": 24,
     "metadata": {},
     "output_type": "execute_result"
    }
   ],
   "source": [
    "dataset['wage'] = 12000 + dataset['University']*2000 + dataset['Social Capital']*1000 + np.random.normal(loc = 0, scale = 50, size = 1000)\n",
    "corr = dataset.corr()\n",
    "corr.style.background_gradient(cmap='coolwarm')"
   ]
  },
  {
   "cell_type": "markdown",
   "id": "48de2998",
   "metadata": {
    "slideshow": {
     "slide_type": "subslide"
    }
   },
   "source": [
    "We perform what is called an instrumental variable regressions, where we first predict the probability to go to university as a function of receiving the grant, so as to \"purge\" the effect of university from its correlation with social capital.\n",
    "\n",
    "For this regression we first perform the first step of regression going to university on having the grant."
   ]
  },
  {
   "cell_type": "code",
   "execution_count": 25,
   "id": "7f37a15f",
   "metadata": {},
   "outputs": [
    {
     "name": "stdout",
     "output_type": "stream",
     "text": [
      "\n",
      "============================\n",
      "                 First Stage\n",
      "----------------------------\n",
      "Constant         0.46***    \n",
      "                 (0.02)     \n",
      "Grant            0.47***    \n",
      "                 (0.04)     \n",
      "R-squared        0.11       \n",
      "R-squared Adj.   0.11       \n",
      "R-squared        0.11       \n",
      "No. observations 1000       \n",
      "============================\n",
      "Standard errors in\n",
      "parentheses.\n",
      "* p<.1, ** p<.05, ***p<.01\n"
     ]
    }
   ],
   "source": [
    "# Estimate the first stage\n",
    "dataset['Constant'] = 1\n",
    "first_stage = sm.OLS(endog=dataset['University'], exog=dataset[['Constant', 'Grant']]).fit()\n",
    "\n",
    "results_table = summary_col(results=[first_stage],\n",
    "                            float_format='%0.2f',\n",
    "                            stars = True,\n",
    "                            info_dict = info_dict,\n",
    "                            model_names=['First Stage'])\n",
    "print(results_table)"
   ]
  },
  {
   "cell_type": "code",
   "execution_count": 28,
   "id": "211cab9d",
   "metadata": {
    "slideshow": {
     "slide_type": "subslide"
    }
   },
   "outputs": [
    {
     "data": {
      "text/html": [
       "<style type=\"text/css\">\n",
       "#T_56d4a_row0_col0, #T_56d4a_row1_col1, #T_56d4a_row1_col5, #T_56d4a_row2_col2, #T_56d4a_row3_col3, #T_56d4a_row4_col4, #T_56d4a_row5_col1, #T_56d4a_row5_col5 {\n",
       "  background-color: #b40426;\n",
       "  color: #f1f1f1;\n",
       "}\n",
       "#T_56d4a_row0_col1, #T_56d4a_row0_col5 {\n",
       "  background-color: #4257c9;\n",
       "  color: #f1f1f1;\n",
       "}\n",
       "#T_56d4a_row0_col2, #T_56d4a_row2_col0, #T_56d4a_row2_col1, #T_56d4a_row2_col3, #T_56d4a_row2_col4, #T_56d4a_row2_col5 {\n",
       "  background-color: #3b4cc0;\n",
       "  color: #f1f1f1;\n",
       "}\n",
       "#T_56d4a_row0_col3 {\n",
       "  background-color: #f2cbb7;\n",
       "  color: #000000;\n",
       "}\n",
       "#T_56d4a_row0_col4 {\n",
       "  background-color: #e36c55;\n",
       "  color: #f1f1f1;\n",
       "}\n",
       "#T_56d4a_row1_col0, #T_56d4a_row5_col0 {\n",
       "  background-color: #485fd1;\n",
       "  color: #f1f1f1;\n",
       "}\n",
       "#T_56d4a_row1_col2, #T_56d4a_row5_col2 {\n",
       "  background-color: #3f53c6;\n",
       "  color: #f1f1f1;\n",
       "}\n",
       "#T_56d4a_row1_col3, #T_56d4a_row5_col3 {\n",
       "  background-color: #5a78e4;\n",
       "  color: #f1f1f1;\n",
       "}\n",
       "#T_56d4a_row1_col4, #T_56d4a_row5_col4 {\n",
       "  background-color: #5572df;\n",
       "  color: #f1f1f1;\n",
       "}\n",
       "#T_56d4a_row3_col0 {\n",
       "  background-color: #f7a889;\n",
       "  color: #000000;\n",
       "}\n",
       "#T_56d4a_row3_col1, #T_56d4a_row3_col5 {\n",
       "  background-color: #abc8fd;\n",
       "  color: #000000;\n",
       "}\n",
       "#T_56d4a_row3_col2 {\n",
       "  background-color: #96b7ff;\n",
       "  color: #000000;\n",
       "}\n",
       "#T_56d4a_row3_col4 {\n",
       "  background-color: #c53334;\n",
       "  color: #f1f1f1;\n",
       "}\n",
       "#T_56d4a_row4_col0 {\n",
       "  background-color: #dd5f4b;\n",
       "  color: #f1f1f1;\n",
       "}\n",
       "#T_56d4a_row4_col1, #T_56d4a_row4_col5 {\n",
       "  background-color: #8badfd;\n",
       "  color: #000000;\n",
       "}\n",
       "#T_56d4a_row4_col2 {\n",
       "  background-color: #7699f6;\n",
       "  color: #f1f1f1;\n",
       "}\n",
       "#T_56d4a_row4_col3 {\n",
       "  background-color: #c73635;\n",
       "  color: #f1f1f1;\n",
       "}\n",
       "</style>\n",
       "<table id=\"T_56d4a\">\n",
       "  <thead>\n",
       "    <tr>\n",
       "      <th class=\"blank level0\" >&nbsp;</th>\n",
       "      <th id=\"T_56d4a_level0_col0\" class=\"col_heading level0 col0\" >Social Capital</th>\n",
       "      <th id=\"T_56d4a_level0_col1\" class=\"col_heading level0 col1\" >Grant</th>\n",
       "      <th id=\"T_56d4a_level0_col2\" class=\"col_heading level0 col2\" >hid_uni</th>\n",
       "      <th id=\"T_56d4a_level0_col3\" class=\"col_heading level0 col3\" >University</th>\n",
       "      <th id=\"T_56d4a_level0_col4\" class=\"col_heading level0 col4\" >wage</th>\n",
       "      <th id=\"T_56d4a_level0_col5\" class=\"col_heading level0 col5\" >predicted_uni</th>\n",
       "    </tr>\n",
       "  </thead>\n",
       "  <tbody>\n",
       "    <tr>\n",
       "      <th id=\"T_56d4a_level0_row0\" class=\"row_heading level0 row0\" >Social Capital</th>\n",
       "      <td id=\"T_56d4a_row0_col0\" class=\"data row0 col0\" >1.000000</td>\n",
       "      <td id=\"T_56d4a_row0_col1\" class=\"data row0 col1\" >0.024487</td>\n",
       "      <td id=\"T_56d4a_row0_col2\" class=\"data row0 col2\" >-0.022823</td>\n",
       "      <td id=\"T_56d4a_row0_col3\" class=\"data row0 col3\" >0.705094</td>\n",
       "      <td id=\"T_56d4a_row0_col4\" class=\"data row0 col4\" >0.874273</td>\n",
       "      <td id=\"T_56d4a_row0_col5\" class=\"data row0 col5\" >0.024487</td>\n",
       "    </tr>\n",
       "    <tr>\n",
       "      <th id=\"T_56d4a_level0_row1\" class=\"row_heading level0 row1\" >Grant</th>\n",
       "      <td id=\"T_56d4a_row1_col0\" class=\"data row1 col0\" >0.024487</td>\n",
       "      <td id=\"T_56d4a_row1_col1\" class=\"data row1 col1\" >1.000000</td>\n",
       "      <td id=\"T_56d4a_row1_col2\" class=\"data row1 col2\" >-0.002874</td>\n",
       "      <td id=\"T_56d4a_row1_col3\" class=\"data row1 col3\" >0.337472</td>\n",
       "      <td id=\"T_56d4a_row1_col4\" class=\"data row1 col4\" >0.241888</td>\n",
       "      <td id=\"T_56d4a_row1_col5\" class=\"data row1 col5\" >1.000000</td>\n",
       "    </tr>\n",
       "    <tr>\n",
       "      <th id=\"T_56d4a_level0_row2\" class=\"row_heading level0 row2\" >hid_uni</th>\n",
       "      <td id=\"T_56d4a_row2_col0\" class=\"data row2 col0\" >-0.022823</td>\n",
       "      <td id=\"T_56d4a_row2_col1\" class=\"data row2 col1\" >-0.002874</td>\n",
       "      <td id=\"T_56d4a_row2_col2\" class=\"data row2 col2\" >1.000000</td>\n",
       "      <td id=\"T_56d4a_row2_col3\" class=\"data row2 col3\" >0.260819</td>\n",
       "      <td id=\"T_56d4a_row2_col4\" class=\"data row2 col4\" >0.167748</td>\n",
       "      <td id=\"T_56d4a_row2_col5\" class=\"data row2 col5\" >-0.002874</td>\n",
       "    </tr>\n",
       "    <tr>\n",
       "      <th id=\"T_56d4a_level0_row3\" class=\"row_heading level0 row3\" >University</th>\n",
       "      <td id=\"T_56d4a_row3_col0\" class=\"data row3 col0\" >0.705094</td>\n",
       "      <td id=\"T_56d4a_row3_col1\" class=\"data row3 col1\" >0.337472</td>\n",
       "      <td id=\"T_56d4a_row3_col2\" class=\"data row3 col2\" >0.260819</td>\n",
       "      <td id=\"T_56d4a_row3_col3\" class=\"data row3 col3\" >1.000000</td>\n",
       "      <td id=\"T_56d4a_row3_col4\" class=\"data row3 col4\" >0.959798</td>\n",
       "      <td id=\"T_56d4a_row3_col5\" class=\"data row3 col5\" >0.337472</td>\n",
       "    </tr>\n",
       "    <tr>\n",
       "      <th id=\"T_56d4a_level0_row4\" class=\"row_heading level0 row4\" >wage</th>\n",
       "      <td id=\"T_56d4a_row4_col0\" class=\"data row4 col0\" >0.874273</td>\n",
       "      <td id=\"T_56d4a_row4_col1\" class=\"data row4 col1\" >0.241888</td>\n",
       "      <td id=\"T_56d4a_row4_col2\" class=\"data row4 col2\" >0.167748</td>\n",
       "      <td id=\"T_56d4a_row4_col3\" class=\"data row4 col3\" >0.959798</td>\n",
       "      <td id=\"T_56d4a_row4_col4\" class=\"data row4 col4\" >1.000000</td>\n",
       "      <td id=\"T_56d4a_row4_col5\" class=\"data row4 col5\" >0.241888</td>\n",
       "    </tr>\n",
       "    <tr>\n",
       "      <th id=\"T_56d4a_level0_row5\" class=\"row_heading level0 row5\" >predicted_uni</th>\n",
       "      <td id=\"T_56d4a_row5_col0\" class=\"data row5 col0\" >0.024487</td>\n",
       "      <td id=\"T_56d4a_row5_col1\" class=\"data row5 col1\" >1.000000</td>\n",
       "      <td id=\"T_56d4a_row5_col2\" class=\"data row5 col2\" >-0.002874</td>\n",
       "      <td id=\"T_56d4a_row5_col3\" class=\"data row5 col3\" >0.337472</td>\n",
       "      <td id=\"T_56d4a_row5_col4\" class=\"data row5 col4\" >0.241888</td>\n",
       "      <td id=\"T_56d4a_row5_col5\" class=\"data row5 col5\" >1.000000</td>\n",
       "    </tr>\n",
       "  </tbody>\n",
       "</table>\n"
      ],
      "text/plain": [
       "<pandas.io.formats.style.Styler at 0x25c409f7830>"
      ]
     },
     "execution_count": 28,
     "metadata": {},
     "output_type": "execute_result"
    }
   ],
   "source": [
    "# Now we need to take the prediction and put it in the main regression, input the regression in the pandas dataset\n",
    "dataset['predicted_uni'] = first_stage.predict()\n",
    "dataset.head()\n",
    "corr = dataset.drop(columns = ['Constant']).corr()\n",
    "corr.style.background_gradient(cmap='coolwarm')"
   ]
  },
  {
   "cell_type": "code",
   "execution_count": 29,
   "id": "b54bcf4d",
   "metadata": {},
   "outputs": [
    {
     "name": "stdout",
     "output_type": "stream",
     "text": [
      "\n",
      "================================================================================\n",
      "                    Truth       Naive     Instrument Dummy Proxy Imprecise Proxy\n",
      "--------------------------------------------------------------------------------\n",
      "constant         12002.18*** 11543.41***             11229.64*** 11806.98***    \n",
      "                 (3.06)      (15.94)                 (12.51)     (12.44)        \n",
      "University       2001.92***  2921.42***              2283.97***  2376.92***     \n",
      "                 (5.24)      (22.72)                 (21.07)     (20.61)        \n",
      "Social Capital   1001.51***                                                     \n",
      "                 (4.52)                                                         \n",
      "Constant                                 11921.90***                            \n",
      "                                         (149.17)                               \n",
      "predicted_uni                            2098.15***                             \n",
      "                                         (266.42)                               \n",
      "class                                                509.25***                  \n",
      "                                                     (12.59)                    \n",
      "wealth                                                           584.89***      \n",
      "                                                                 (15.59)        \n",
      "R-squared        1.00        0.94        0.06        0.98        0.98           \n",
      "R-squared Adj.   1.00        0.94        0.06        0.98        0.98           \n",
      "No. observations 1000        1000        1000        1000        1000           \n",
      "R-squared        1.00        0.94        0.06        0.98        0.98           \n",
      "================================================================================\n",
      "Standard errors in parentheses.\n",
      "* p<.1, ** p<.05, ***p<.01\n"
     ]
    }
   ],
   "source": [
    "second_stage = sm.OLS(endog=dataset['wage'], exog=dataset[['Constant', 'predicted_uni']]).fit()\n",
    "\n",
    "\n",
    "results_table = summary_col(results=[truth, reg1, second_stage, reg2, reg3], float_format='%0.2f',\n",
    "                            stars = True, info_dict = info_dict, \n",
    "                            model_names=['Truth',\n",
    "                                         'Naive',\n",
    "                                         'Instrument',\n",
    "                                         'Dummy Proxy',\n",
    "                                         'Imprecise Proxy'])\n",
    "print(results_table)"
   ]
  },
  {
   "cell_type": "markdown",
   "id": "990be8b0",
   "metadata": {
    "slideshow": {
     "slide_type": "slide"
    }
   },
   "source": [
    "The way we did things above is not a correct way to use IV regressions because we're not correcting the standard deviation as we should - we should use a package that takes care of doing so for us.\n",
    "\n",
    "- Use `linearmodels`, an extention of statsmodels"
   ]
  },
  {
   "cell_type": "code",
   "execution_count": null,
   "id": "7a0fe86a",
   "metadata": {},
   "outputs": [],
   "source": [
    "!pip install linearmodels"
   ]
  },
  {
   "cell_type": "code",
   "execution_count": 30,
   "id": "0421bf90",
   "metadata": {
    "scrolled": true,
    "slideshow": {
     "slide_type": "subslide"
    }
   },
   "outputs": [
    {
     "name": "stdout",
     "output_type": "stream",
     "text": [
      "                          IV-2SLS Estimation Summary                          \n",
      "==============================================================================\n",
      "Dep. Variable:                   wage   R-squared:                      0.8621\n",
      "Estimator:                    IV-2SLS   Adj. R-squared:                 0.8620\n",
      "No. Observations:                1000   F-statistic:                    407.13\n",
      "Date:                Thu, May 02 2024   P-value (F-stat)                0.0000\n",
      "Time:                        09:08:47   Distribution:                  chi2(1)\n",
      "Cov. Estimator:                robust                                         \n",
      "                                                                              \n",
      "                             Parameter Estimates                              \n",
      "==============================================================================\n",
      "            Parameter  Std. Err.     T-stat    P-value    Lower CI    Upper CI\n",
      "------------------------------------------------------------------------------\n",
      "Constant    1.192e+04     57.758     206.41     0.0000   1.181e+04   1.204e+04\n",
      "University     2098.1     103.98     20.177     0.0000      1894.3      2302.0\n",
      "==============================================================================\n",
      "\n",
      "Endogenous: University\n",
      "Instruments: Grant\n",
      "Robust Covariance (Heteroskedastic)\n",
      "Debiased: False\n"
     ]
    }
   ],
   "source": [
    "from linearmodels.iv import IV2SLS\n",
    "\n",
    "# Let's run our IV regression\n",
    "iv = IV2SLS(dependent=dataset['wage'],\n",
    "            exog=dataset['Constant'],\n",
    "            endog=dataset['University'],\n",
    "            instruments=dataset['Grant']).fit()\n",
    "\n",
    "\n",
    "print(iv.summary)"
   ]
  },
  {
   "cell_type": "markdown",
   "id": "25812054",
   "metadata": {
    "slideshow": {
     "slide_type": "slide"
    }
   },
   "source": [
    "### Exercise 11 - Which one is consistent?\n",
    "\n",
    "Put in a function the five regressions we just performed. The function takes as input the number of individuals in the sample.\n",
    "\n",
    "Increase progressively the sample and let me know which one of the regressors for university is consistent (i.e converges to the true parameter's value)."
   ]
  },
  {
   "cell_type": "code",
   "execution_count": 83,
   "id": "58e8a694",
   "metadata": {
    "slideshow": {
     "slide_type": "subslide"
    }
   },
   "outputs": [],
   "source": [
    "def create_sample(n = 200):\n",
    "    \n",
    "    # First let's generate a fake dataset with the variables that we have\n",
    "    dataset = pd.DataFrame(np.random.uniform(low = -1, high =1, size = n), columns = ['Social Capital'])\n",
    "    \n",
    "    # Create our proxies for social capital\n",
    "    dataset['soc_1'] = dataset['Social Capital'].apply(lambda x: 0 if x < -.2 else (1 if x <0.2 else 2))\n",
    "    dataset['soc_2'] = dataset['Social Capital'] + np.random.normal(loc = 0, scale = 0.5, size = n)\n",
    "    \n",
    "    # Create our grant instrument\n",
    "    dataset['Grant'] = np.random.uniform(low = 0, high = 1, size = n) < 0.15\n",
    "    dataset['Grant'] = dataset['Grant'].apply(lambda x: int(x))\n",
    "    \n",
    "    dataset['hid_uni'] = np.random.uniform(low = 0,  high = 1, size = n)\n",
    "\n",
    "\n",
    "    # Now draw a random integer and sum it with the social capital, if it's superior to 0.5 we not \"university educated\"\n",
    "    dataset['University'] = dataset['Social Capital']  + dataset['hid_uni'] + dataset['Grant'] > 0.5\n",
    "    dataset['University'] = dataset['University'].apply(lambda x: int(x))\n",
    "    \n",
    "    # Add the constant\n",
    "    dataset['constant'] = 1\n",
    "\n",
    "    # Compute the wages\n",
    "    dataset['wage'] = 12000 + dataset['University']*2000 + dataset['Social Capital']*1000 + np.random.normal(loc = 0, scale = 50, size = n)\n",
    "\n",
    "    return(dataset)\n",
    "    \n",
    "    "
   ]
  },
  {
   "cell_type": "code",
   "execution_count": 89,
   "id": "97b7aa05",
   "metadata": {
    "slideshow": {
     "slide_type": "subslide"
    }
   },
   "outputs": [
    {
     "data": {
      "text/plain": [
       "(3000, 8)"
      ]
     },
     "execution_count": 89,
     "metadata": {},
     "output_type": "execute_result"
    }
   ],
   "source": [
    "df_test = create_sample(3000)\n",
    "df_test.shape"
   ]
  },
  {
   "cell_type": "code",
   "execution_count": 90,
   "id": "bcc9cfdf",
   "metadata": {
    "slideshow": {
     "slide_type": "subslide"
    }
   },
   "outputs": [],
   "source": [
    "def perform_regressions(dataset):\n",
    "    \n",
    "    # That's the naive regression\n",
    "    reg1 = sm.OLS(endog=dataset['wage'], exog=dataset[['constant', 'University']], missing='drop').fit()\n",
    "    \n",
    "    # Those are the proxy regressions\n",
    "    reg2 = sm.OLS(endog=dataset['wage'], exog=dataset[['constant', 'University', 'soc_1']], missing='drop').fit()\n",
    "    reg3 = sm.OLS(endog=dataset['wage'], exog=dataset[['constant', 'University', 'soc_2']], missing='drop').fit()\n",
    "    \n",
    "    # Now do the instrumental variable regression\n",
    "    # First stage and prediction\n",
    "    first_stage = sm.OLS(endog=dataset['University'], exog=dataset[['constant', 'Grant']]).fit()\n",
    "    dataset['predicted_uni'] = first_stage.predict()\n",
    "    \n",
    "    # Perform the second stage\n",
    "    second_stage = sm.OLS(endog=dataset['wage'], exog=dataset[['constant', 'predicted_uni']]).fit()\n",
    "    \n",
    "    # Measure the distance between point estimate and actual values for each of these settings\n",
    "    list_results = [\n",
    "        dataset.shape[0], # That's the number of sampled individuals\n",
    "        reg1.params['University']-2000,\n",
    "        reg2.params['University']-2000,\n",
    "        reg3.params['University']-2000,\n",
    "        second_stage.params['predicted_uni']-2000\n",
    "    ]\n",
    "    \n",
    "    return(list_results)\n",
    "    "
   ]
  },
  {
   "cell_type": "code",
   "execution_count": 91,
   "id": "abc166d2",
   "metadata": {},
   "outputs": [
    {
     "data": {
      "text/plain": [
       "array([  200.,   400.,   600.,   800.,  1000.,  1200.,  1400.,  1600.,\n",
       "        1800.,  2000.,  2200.,  2400.,  2600.,  2800.,  3000.,  3200.,\n",
       "        3400.,  3600.,  3800.,  4000.,  4200.,  4400.,  4600.,  4800.,\n",
       "        5000.,  5200.,  5400.,  5600.,  5800.,  6000.,  6200.,  6400.,\n",
       "        6600.,  6800.,  7000.,  7200.,  7400.,  7600.,  7800.,  8000.,\n",
       "        8200.,  8400.,  8600.,  8800.,  9000.,  9200.,  9400.,  9600.,\n",
       "        9800., 10000.])"
      ]
     },
     "execution_count": 91,
     "metadata": {},
     "output_type": "execute_result"
    }
   ],
   "source": [
    "sample_to_test = np.linspace(start = 200, stop = 10000, num = int((10000 - 200)/200 + 1))\n",
    "sample_to_test"
   ]
  },
  {
   "cell_type": "code",
   "execution_count": 92,
   "id": "ef32ddf9",
   "metadata": {
    "slideshow": {
     "slide_type": "subslide"
    }
   },
   "outputs": [],
   "source": [
    "# Let's now do our loop at multiple sample size\n",
    "sample_to_test = np.linspace(start = 200, stop = 10000, num = int((10000 - 200)/200 + 1))\n",
    "record_results = list()\n",
    "for sample_size in sample_to_test:\n",
    "    \n",
    "    # Do the experiment at least 10 times\n",
    "    for ii in range(10):\n",
    "        \n",
    "        # Perform the regressions\n",
    "        dataset = create_sample(n = int(sample_size))\n",
    "        reg_results = perform_regressions(dataset)\n",
    "        \n",
    "        # Store them\n",
    "        record_results.append(reg_results)\n",
    "    "
   ]
  },
  {
   "cell_type": "markdown",
   "id": "b4fdcbfe",
   "metadata": {
    "slideshow": {
     "slide_type": "subslide"
    }
   },
   "source": [
    "We want to put this into a pandas dataframe, and plot the results"
   ]
  },
  {
   "cell_type": "code",
   "execution_count": 94,
   "id": "6c165f48",
   "metadata": {
    "scrolled": true
   },
   "outputs": [
    {
     "name": "stdout",
     "output_type": "stream",
     "text": [
      "     sample       naive       soc_1       soc_2          iv\n",
      "0       200  951.182080  236.418200  631.907927  595.356806\n",
      "1       200  807.520275  141.183883  475.977944 -228.817012\n",
      "2       200  824.010328   99.551394  505.196466  -33.330880\n",
      "3       200  798.264897   62.619387  415.393077 -257.474547\n",
      "4       200  808.290203  172.263844  451.272024   37.433657\n",
      "..      ...         ...         ...         ...         ...\n",
      "495   10000  827.371544  124.736699  490.866323   -0.800521\n",
      "496   10000  822.547164  128.010646  492.127619  -13.844631\n",
      "497   10000  825.442292  139.256182  488.332253  -10.266698\n",
      "498   10000  824.552667  124.945487  498.115155  -23.836744\n",
      "499   10000  830.368024  118.013673  497.308371    3.149451\n",
      "\n",
      "[500 rows x 5 columns]\n"
     ]
    }
   ],
   "source": [
    "dataset_exp = pd.DataFrame(record_results, columns = ['sample', 'naive', 'soc_1', 'soc_2', 'iv'])\n",
    "print(dataset_exp)"
   ]
  },
  {
   "cell_type": "markdown",
   "id": "f3e65f6a",
   "metadata": {
    "slideshow": {
     "slide_type": "subslide"
    }
   },
   "source": [
    "Let's take the average for each experiment across the sample, to do so, start by melting the dataset"
   ]
  },
  {
   "cell_type": "code",
   "execution_count": 95,
   "id": "5c6d2ffe",
   "metadata": {},
   "outputs": [
    {
     "name": "stdout",
     "output_type": "stream",
     "text": [
      "      sample  model    distance\n",
      "0        200  naive  951.182080\n",
      "1        200  naive  807.520275\n",
      "2        200  naive  824.010328\n",
      "3        200  naive  798.264897\n",
      "4        200  naive  808.290203\n",
      "...      ...    ...         ...\n",
      "1995   10000     iv   -0.800521\n",
      "1996   10000     iv  -13.844631\n",
      "1997   10000     iv  -10.266698\n",
      "1998   10000     iv  -23.836744\n",
      "1999   10000     iv    3.149451\n",
      "\n",
      "[2000 rows x 3 columns]\n"
     ]
    }
   ],
   "source": [
    "dataset_exp = dataset_exp.melt(id_vars = \"sample\", var_name = 'model', value_name = 'distance')\n",
    "print(dataset_exp)"
   ]
  },
  {
   "cell_type": "markdown",
   "id": "df7a58e9",
   "metadata": {
    "slideshow": {
     "slide_type": "subslide"
    }
   },
   "source": [
    "Let's take the average over sample size and experiment\n"
   ]
  },
  {
   "cell_type": "code",
   "execution_count": 96,
   "id": "a26a700a",
   "metadata": {},
   "outputs": [
    {
     "data": {
      "text/html": [
       "<div>\n",
       "<style scoped>\n",
       "    .dataframe tbody tr th:only-of-type {\n",
       "        vertical-align: middle;\n",
       "    }\n",
       "\n",
       "    .dataframe tbody tr th {\n",
       "        vertical-align: top;\n",
       "    }\n",
       "\n",
       "    .dataframe thead th {\n",
       "        text-align: right;\n",
       "    }\n",
       "</style>\n",
       "<table border=\"1\" class=\"dataframe\">\n",
       "  <thead>\n",
       "    <tr style=\"text-align: right;\">\n",
       "      <th></th>\n",
       "      <th>sample</th>\n",
       "      <th>model</th>\n",
       "      <th>distance</th>\n",
       "    </tr>\n",
       "  </thead>\n",
       "  <tbody>\n",
       "    <tr>\n",
       "      <th>0</th>\n",
       "      <td>200</td>\n",
       "      <td>iv</td>\n",
       "      <td>97.395506</td>\n",
       "    </tr>\n",
       "    <tr>\n",
       "      <th>1</th>\n",
       "      <td>200</td>\n",
       "      <td>naive</td>\n",
       "      <td>838.653571</td>\n",
       "    </tr>\n",
       "    <tr>\n",
       "      <th>2</th>\n",
       "      <td>200</td>\n",
       "      <td>soc_1</td>\n",
       "      <td>136.990700</td>\n",
       "    </tr>\n",
       "    <tr>\n",
       "      <th>3</th>\n",
       "      <td>200</td>\n",
       "      <td>soc_2</td>\n",
       "      <td>506.509736</td>\n",
       "    </tr>\n",
       "    <tr>\n",
       "      <th>4</th>\n",
       "      <td>400</td>\n",
       "      <td>iv</td>\n",
       "      <td>11.787897</td>\n",
       "    </tr>\n",
       "  </tbody>\n",
       "</table>\n",
       "</div>"
      ],
      "text/plain": [
       "   sample  model    distance\n",
       "0     200     iv   97.395506\n",
       "1     200  naive  838.653571\n",
       "2     200  soc_1  136.990700\n",
       "3     200  soc_2  506.509736\n",
       "4     400     iv   11.787897"
      ]
     },
     "execution_count": 96,
     "metadata": {},
     "output_type": "execute_result"
    }
   ],
   "source": [
    "# THis is our dataset that will be ready for plotting\n",
    "dataset_exp = dataset_exp.groupby(['sample', 'model'])['distance'].mean().reset_index()\n",
    "dataset_exp.head()"
   ]
  },
  {
   "cell_type": "code",
   "execution_count": 103,
   "id": "66b88a3e",
   "metadata": {
    "slideshow": {
     "slide_type": "subslide"
    }
   },
   "outputs": [
    {
     "data": {
      "image/png": "[encoded data removed]",
      "text/plain": [
       "<Figure size 1000x600 with 1 Axes>"
      ]
     },
     "metadata": {},
     "output_type": "display_data"
    }
   ],
   "source": [
    "# Let's now plot it\n",
    "\n",
    "plt.figure(figsize=(10, 6))  # Set the figure size as desired\n",
    "for label, df in dataset_exp.groupby('model'):\n",
    "    plt.plot(df['sample'], df['distance'], label=label)\n",
    "\n",
    "# Set x-axis tick frequency: show every third tick\n",
    "ax = plt.gca()  # Get the current axis\n",
    "\n",
    "plt.xlim([0, 10000])\n",
    "plt.title('Distance to reality by model specification')\n",
    "plt.xlabel('Sample Size')\n",
    "plt.ylabel('Distance')\n",
    "plt.legend(title='Model:')\n",
    "plt.axhline(y=0, color='r', linestyle='--')\n",
    "plt.tight_layout()  # Adjusts plot to ensure everything fits without overlap\n",
    "plt.show()"
   ]
  },
  {
   "cell_type": "markdown",
   "id": "87a5d87d",
   "metadata": {
    "slideshow": {
     "slide_type": "slide"
    }
   },
   "source": [
    "### Webscraping\n",
    "\n",
    "Let's start with webscraping. We all have quite of an idea of what webscraping is, but let's review it.\n",
    "\n",
    "    - Write a code on python\n",
    "    - the code \"goes on a webpage\"\n",
    "    - it extracts information"
   ]
  },
  {
   "cell_type": "markdown",
   "id": "27c560e9",
   "metadata": {
    "slideshow": {
     "slide_type": "subslide"
    }
   },
   "source": [
    "Before we can use webscraping, it's important to know how a website is built.\n",
    "\n",
    "    - HTML\n",
    "    - CSS\n",
    "    - Javascript\n",
    "    - Server-side language (Node.js, Python, PHP)\n",
    "    \n",
    "For today, we'll focus on HTML and CSS."
   ]
  },
  {
   "cell_type": "markdown",
   "id": "7cbf7b6d",
   "metadata": {
    "slideshow": {
     "slide_type": "subslide"
    }
   },
   "source": [
    "Is it legal to webscrape?\n",
    "\n",
    "    - No, publicly available data is not illegal to scrape.\n",
    "    - If you log into a website, you might have signed some terms of service - often it forbids automatic data collection, but can they prove it was automatic?\n",
    "    - The website lets you know what's its stance on webscraping: robots.txt\n",
    "    \n",
    "https://www.unibo.it/robots.txt\n",
    "\n",
    "To most websites add, the \"/robots.txt\" at the end, all the information is there."
   ]
  },
  {
   "cell_type": "markdown",
   "id": "be4cc198",
   "metadata": {
    "slideshow": {
     "slide_type": "subslide"
    }
   },
   "source": [
    "This means \"for all user-agents, it's forbidden to scrape any part of the website\"\n",
    "\n",
    "``` \n",
    "User-agent: * \n",
    "Disallow: / \n",
    "``` \n",
    "\n",
    "This means \"for all user-agents, nothing is forbidden\"\n",
    "\n",
    "```\n",
    "User-agent: * \n",
    "Disallow: \n",
    "``` \n",
    "\n",
    "But again, it's hard to prove you used a scraper, and it's unlikely anyone will be mad at the non-commercial applications you'll do."
   ]
  },
  {
   "cell_type": "markdown",
   "id": "6d04bc00",
   "metadata": {
    "slideshow": {
     "slide_type": "subslide"
    }
   },
   "source": [
    "Some websites even use the robots.txt as a job offer:\n",
    "\n",
    "https://www.booking.com/robots.txt"
   ]
  },
  {
   "cell_type": "code",
   "execution_count": 2,
   "id": "250d60fe",
   "metadata": {
    "scrolled": true,
    "slideshow": {
     "slide_type": "-"
    }
   },
   "outputs": [
    {
     "data": {
      "text/html": [
       "<iframe src=\"https://www.booking.com/robots.txt\" width=\"100%\" height=\"500\"></iframe>"
      ],
      "text/plain": [
       "<IPython.core.display.HTML object>"
      ]
     },
     "metadata": {},
     "output_type": "display_data"
    }
   ],
   "source": [
    "from IPython.display import display, HTML\n",
    "\n",
    "# The URL of the website you want to embed\n",
    "url = \"https://www.booking.com/robots.txt\"\n",
    "# Define the HTML for the iframe\n",
    "iframe = f'<iframe src=\"{url}\" width=\"100%\" height=\"500\"></iframe>'\n",
    "# Display the iframe in the notebook\n",
    "display(HTML(iframe))"
   ]
  },
  {
   "cell_type": "markdown",
   "id": "7226b2ed",
   "metadata": {
    "slideshow": {
     "slide_type": "slide"
    }
   },
   "source": [
    "But before moving to real life examples, let's start with a simpler one.\n",
    "\n",
    "https://quotes.toscrape.com/"
   ]
  },
  {
   "cell_type": "code",
   "execution_count": 97,
   "id": "bf291142",
   "metadata": {},
   "outputs": [
    {
     "name": "stderr",
     "output_type": "stream",
     "text": [
      "C:\\Users\\anato\\anaconda3\\envs\\python-econ\\Lib\\site-packages\\IPython\\core\\display.py:431: UserWarning: Consider using IPython.display.IFrame instead\n",
      "  warnings.warn(\"Consider using IPython.display.IFrame instead\")\n"
     ]
    },
    {
     "data": {
      "text/html": [
       "<iframe src=\"https://quotes.toscrape.com/\" width=\"100%\" height=\"800\"></iframe>"
      ],
      "text/plain": [
       "<IPython.core.display.HTML object>"
      ]
     },
     "metadata": {},
     "output_type": "display_data"
    }
   ],
   "source": [
    "from IPython.display import display, HTML\n",
    "# The URL of the website you want to embed\n",
    "url = \"https://quotes.toscrape.com/\"\n",
    "# Define the HTML for the iframe\n",
    "iframe = f'<iframe src=\"{url}\" width=\"100%\" height=\"800\"></iframe>'\n",
    "# Display the iframe in the notebook\n",
    "display(HTML(iframe))"
   ]
  },
  {
   "cell_type": "markdown",
   "id": "ade0ce5a",
   "metadata": {
    "slideshow": {
     "slide_type": "subslide"
    }
   },
   "source": [
    "Let's say we build a pandas dataframe that contain all the quotes on this website, how would we proceed?\n",
    "\n",
    "        - First, we need to import the HTML code on our machine"
   ]
  },
  {
   "cell_type": "code",
   "execution_count": null,
   "id": "cec12cd4",
   "metadata": {},
   "outputs": [],
   "source": [
    "!pip install requests"
   ]
  },
  {
   "cell_type": "code",
   "execution_count": 108,
   "id": "c9c8e020",
   "metadata": {},
   "outputs": [
    {
     "name": "stdout",
     "output_type": "stream",
     "text": [
      "<Response [200]>\n"
     ]
    }
   ],
   "source": [
    "import requests\n",
    "\n",
    "link = \"https://quotes.toscrape.com/\"\n",
    "# Make a request to the website\n",
    "website = requests.get(link)\n",
    "print(website)"
   ]
  },
  {
   "cell_type": "markdown",
   "id": "56c329b5",
   "metadata": {},
   "source": [
    "Response 200 is good, it means everything went well! - (why 200? I checked, actually arbitrary)"
   ]
  },
  {
   "cell_type": "markdown",
   "id": "b174a58a",
   "metadata": {
    "slideshow": {
     "slide_type": "subslide"
    }
   },
   "source": [
    "Now we can open up the responses and see what's inside"
   ]
  },
  {
   "cell_type": "code",
   "execution_count": 109,
   "id": "7907730e",
   "metadata": {
    "scrolled": true
   },
   "outputs": [
    {
     "name": "stdout",
     "output_type": "stream",
     "text": [
      "<class 'bytes'>\n"
     ]
    }
   ],
   "source": [
    "print(type(website.content))"
   ]
  },
  {
   "cell_type": "markdown",
   "id": "5b10634f",
   "metadata": {},
   "source": [
    "A sequence of bytes is basically encoded strings - for example to make sure you can read any characters on your computer (accentuated letters, or even non-alphabetic characters)"
   ]
  },
  {
   "cell_type": "code",
   "execution_count": 110,
   "id": "f8d73342",
   "metadata": {
    "scrolled": true,
    "slideshow": {
     "slide_type": "subslide"
    }
   },
   "outputs": [
    {
     "name": "stdout",
     "output_type": "stream",
     "text": [
      "b'<!DOCTYPE html>\\n<html lang=\"en\">\\n<head>\\n\\t<meta charset=\"UTF-8\">\\n\\t<title>Quotes to Scrape</title>\\n    <link rel=\"stylesheet\" href=\"/static/bootstrap.min.css\">\\n    <link rel=\"stylesheet\" href=\"/static/main.css\">\\n</head>\\n<body>\\n    <div class=\"container\">\\n        <div class=\"row header-box\">\\n            <div class=\"col-md-8\">\\n                <h1>\\n                    <a href=\"/\" style=\"text-decoration: none\">Quotes to Scrape</a>\\n                </h1>\\n            </div>\\n            <div class=\"col-md-4\">\\n                <p>\\n                \\n                    <a href=\"/login\">Login</a>\\n                \\n                </p>\\n            </div>\\n        </div>\\n    \\n\\n<div class=\"row\">\\n    <div class=\"col-md-8\">\\n\\n    <div class=\"quote\" itemscope itemtype=\"http://schema.org/CreativeWork\">\\n        <span class=\"text\" itemprop=\"text\">\\xe2\\x80\\x9cThe world as we have created it is a process of our thinking. It cannot be changed without changing our thinking.\\xe2\\x80\\x9d</span>\\n        <span>by <small class=\"author\" itemprop=\"author\">Albert Einstein</small>\\n        <a href=\"/author/Albert-Einstein\">(about)</a>\\n        </span>\\n        <div class=\"tags\">\\n            Tags:\\n            <meta class=\"keywords\" itemprop=\"keywords\" content=\"change,deep-thoughts,thinking,world\" /    > \\n            \\n            <a class=\"tag\" href=\"/tag/change/page/1/\">change</a>\\n            \\n            <a class=\"tag\" href=\"/tag/deep-thoughts/page/1/\">deep-thoughts</a>\\n            \\n            <a class=\"tag\" href=\"/tag/thinking/page/1/\">thinking</a>\\n            \\n            <a class=\"tag\" href=\"/tag/world/page/1/\">world</a>\\n            \\n        </div>\\n    </div>\\n\\n    <div class=\"quote\" itemscope itemtype=\"http://schema.org/CreativeWork\">\\n        <span class=\"text\" itemprop=\"text\">\\xe2\\x80\\x9cIt is our choices, Harry, that show what we truly are, far more than our abilities.\\xe2\\x80\\x9d</span>\\n        <span>by <small class=\"author\" itemprop=\"author\">J.K. Rowling</small>\\n        <a href=\"/author/J-K-Rowling\">(about)</a>\\n        </span>\\n        <div class=\"tags\">\\n            Tags:\\n            <meta class=\"keywords\" itemprop=\"keywords\" content=\"abilities,choices\" /    > \\n            \\n            <a class=\"tag\" href=\"/tag/abilities/page/1/\">abilities</a>\\n            \\n            <a class=\"tag\" href=\"/tag/choices/page/1/\">choices</a>\\n            \\n        </div>\\n    </div>\\n\\n    <div class=\"quote\" itemscope itemtype=\"http://schema.org/CreativeWork\">\\n        <span class=\"text\" itemprop=\"text\">\\xe2\\x80\\x9cThere are only two ways to live your life. One is as though nothing is a miracle. The other is as though everything is a miracle.\\xe2\\x80\\x9d</span>\\n        <span>by <small class=\"author\" itemprop=\"author\">Albert Einstein</small>\\n        <a href=\"/author/Albert-Einstein\">(about)</a>\\n        </span>\\n        <div class=\"tags\">\\n            Tags:\\n            <meta class=\"keywords\" itemprop=\"keywords\" content=\"inspirational,life,live,miracle,miracles\" /    > \\n            \\n            <a class=\"tag\" href=\"/tag/inspirational/page/1/\">inspirational</a>\\n            \\n            <a class=\"tag\" href=\"/tag/life/page/1/\">life</a>\\n            \\n            <a class=\"tag\" href=\"/tag/live/page/1/\">live</a>\\n            \\n            <a class=\"tag\" href=\"/tag/miracle/page/1/\">miracle</a>\\n            \\n            <a class=\"tag\" href=\"/tag/miracles/page/1/\">miracles</a>\\n            \\n        </div>\\n    </div>\\n\\n    <div class=\"quote\" itemscope itemtype=\"http://schema.org/CreativeWork\">\\n        <span class=\"text\" itemprop=\"text\">\\xe2\\x80\\x9cThe person, be it gentleman or lady, who has not pleasure in a good novel, must be intolerably stupid.\\xe2\\x80\\x9d</span>\\n        <span>by <small class=\"author\" itemprop=\"author\">Jane Austen</small>\\n        <a href=\"/author/Jane-Austen\">(about)</a>\\n        </span>\\n        <div class=\"tags\">\\n            Tags:\\n            <meta class=\"keywords\" itemprop=\"keywords\" content=\"aliteracy,books,classic,humor\" /    > \\n            \\n            <a class=\"tag\" href=\"/tag/aliteracy/page/1/\">aliteracy</a>\\n            \\n            <a class=\"tag\" href=\"/tag/books/page/1/\">books</a>\\n            \\n            <a class=\"tag\" href=\"/tag/classic/page/1/\">classic</a>\\n            \\n            <a class=\"tag\" href=\"/tag/humor/page/1/\">humor</a>\\n            \\n        </div>\\n    </div>\\n\\n    <div class=\"quote\" itemscope itemtype=\"http://schema.org/CreativeWork\">\\n        <span class=\"text\" itemprop=\"text\">\\xe2\\x80\\x9cImperfection is beauty, madness is genius and it&#39;s better to be absolutely ridiculous than absolutely boring.\\xe2\\x80\\x9d</span>\\n        <span>by <small class=\"author\" itemprop=\"author\">Marilyn Monroe</small>\\n        <a href=\"/author/Marilyn-Monroe\">(about)</a>\\n        </span>\\n        <div class=\"tags\">\\n            Tags:\\n            <meta class=\"keywords\" itemprop=\"keywords\" content=\"be-yourself,inspirational\" /    > \\n            \\n            <a class=\"tag\" href=\"/tag/be-yourself/page/1/\">be-yourself</a>\\n            \\n            <a class=\"tag\" href=\"/tag/inspirational/page/1/\">inspirational</a>\\n            \\n        </div>\\n    </div>\\n\\n    <div class=\"quote\" itemscope itemtype=\"http://schema.org/CreativeWork\">\\n        <span class=\"text\" itemprop=\"text\">\\xe2\\x80\\x9cTry not to become a man of success. Rather become a man of value.\\xe2\\x80\\x9d</span>\\n        <span>by <small class=\"author\" itemprop=\"author\">Albert Einstein</small>\\n        <a href=\"/author/Albert-Einstein\">(about)</a>\\n        </span>\\n        <div class=\"tags\">\\n            Tags:\\n            <meta class=\"keywords\" itemprop=\"keywords\" content=\"adulthood,success,value\" /    > \\n            \\n            <a class=\"tag\" href=\"/tag/adulthood/page/1/\">adulthood</a>\\n            \\n            <a class=\"tag\" href=\"/tag/success/page/1/\">success</a>\\n            \\n            <a class=\"tag\" href=\"/tag/value/page/1/\">value</a>\\n            \\n        </div>\\n    </div>\\n\\n    <div class=\"quote\" itemscope itemtype=\"http://schema.org/CreativeWork\">\\n        <span class=\"text\" itemprop=\"text\">\\xe2\\x80\\x9cIt is better to be hated for what you are than to be loved for what you are not.\\xe2\\x80\\x9d</span>\\n        <span>by <small class=\"author\" itemprop=\"author\">Andr\\xc3\\xa9 Gide</small>\\n        <a href=\"/author/Andre-Gide\">(about)</a>\\n        </span>\\n        <div class=\"tags\">\\n            Tags:\\n            <meta class=\"keywords\" itemprop=\"keywords\" content=\"life,love\" /    > \\n            \\n            <a class=\"tag\" href=\"/tag/life/page/1/\">life</a>\\n            \\n            <a class=\"tag\" href=\"/tag/love/page/1/\">love</a>\\n            \\n        </div>\\n    </div>\\n\\n    <div class=\"quote\" itemscope itemtype=\"http://schema.org/CreativeWork\">\\n        <span class=\"text\" itemprop=\"text\">\\xe2\\x80\\x9cI have not failed. I&#39;ve just found 10,000 ways that won&#39;t work.\\xe2\\x80\\x9d</span>\\n        <span>by <small class=\"author\" itemprop=\"author\">Thomas A. Edison</small>\\n        <a href=\"/author/Thomas-A-Edison\">(about)</a>\\n        </span>\\n        <div class=\"tags\">\\n            Tags:\\n            <meta class=\"keywords\" itemprop=\"keywords\" content=\"edison,failure,inspirational,paraphrased\" /    > \\n            \\n            <a class=\"tag\" href=\"/tag/edison/page/1/\">edison</a>\\n            \\n            <a class=\"tag\" href=\"/tag/failure/page/1/\">failure</a>\\n            \\n            <a class=\"tag\" href=\"/tag/inspirational/page/1/\">inspirational</a>\\n            \\n            <a class=\"tag\" href=\"/tag/paraphrased/page/1/\">paraphrased</a>\\n            \\n        </div>\\n    </div>\\n\\n    <div class=\"quote\" itemscope itemtype=\"http://schema.org/CreativeWork\">\\n        <span class=\"text\" itemprop=\"text\">\\xe2\\x80\\x9cA woman is like a tea bag; you never know how strong it is until it&#39;s in hot water.\\xe2\\x80\\x9d</span>\\n        <span>by <small class=\"author\" itemprop=\"author\">Eleanor Roosevelt</small>\\n        <a href=\"/author/Eleanor-Roosevelt\">(about)</a>\\n        </span>\\n        <div class=\"tags\">\\n            Tags:\\n            <meta class=\"keywords\" itemprop=\"keywords\" content=\"misattributed-eleanor-roosevelt\" /    > \\n            \\n            <a class=\"tag\" href=\"/tag/misattributed-eleanor-roosevelt/page/1/\">misattributed-eleanor-roosevelt</a>\\n            \\n        </div>\\n    </div>\\n\\n    <div class=\"quote\" itemscope itemtype=\"http://schema.org/CreativeWork\">\\n        <span class=\"text\" itemprop=\"text\">\\xe2\\x80\\x9cA day without sunshine is like, you know, night.\\xe2\\x80\\x9d</span>\\n        <span>by <small class=\"author\" itemprop=\"author\">Steve Martin</small>\\n        <a href=\"/author/Steve-Martin\">(about)</a>\\n        </span>\\n        <div class=\"tags\">\\n            Tags:\\n            <meta class=\"keywords\" itemprop=\"keywords\" content=\"humor,obvious,simile\" /    > \\n            \\n            <a class=\"tag\" href=\"/tag/humor/page/1/\">humor</a>\\n            \\n            <a class=\"tag\" href=\"/tag/obvious/page/1/\">obvious</a>\\n            \\n            <a class=\"tag\" href=\"/tag/simile/page/1/\">simile</a>\\n            \\n        </div>\\n    </div>\\n\\n    <nav>\\n        <ul class=\"pager\">\\n            \\n            \\n            <li class=\"next\">\\n                <a href=\"/page/2/\">Next <span aria-hidden=\"true\">&rarr;</span></a>\\n            </li>\\n            \\n        </ul>\\n    </nav>\\n    </div>\\n    <div class=\"col-md-4 tags-box\">\\n        \\n            <h2>Top Ten tags</h2>\\n            \\n            <span class=\"tag-item\">\\n            <a class=\"tag\" style=\"font-size: 28px\" href=\"/tag/love/\">love</a>\\n            </span>\\n            \\n            <span class=\"tag-item\">\\n            <a class=\"tag\" style=\"font-size: 26px\" href=\"/tag/inspirational/\">inspirational</a>\\n            </span>\\n            \\n            <span class=\"tag-item\">\\n            <a class=\"tag\" style=\"font-size: 26px\" href=\"/tag/life/\">life</a>\\n            </span>\\n            \\n            <span class=\"tag-item\">\\n            <a class=\"tag\" style=\"font-size: 24px\" href=\"/tag/humor/\">humor</a>\\n            </span>\\n            \\n            <span class=\"tag-item\">\\n            <a class=\"tag\" style=\"font-size: 22px\" href=\"/tag/books/\">books</a>\\n            </span>\\n            \\n            <span class=\"tag-item\">\\n            <a class=\"tag\" style=\"font-size: 14px\" href=\"/tag/reading/\">reading</a>\\n            </span>\\n            \\n            <span class=\"tag-item\">\\n            <a class=\"tag\" style=\"font-size: 10px\" href=\"/tag/friendship/\">friendship</a>\\n            </span>\\n            \\n            <span class=\"tag-item\">\\n            <a class=\"tag\" style=\"font-size: 8px\" href=\"/tag/friends/\">friends</a>\\n            </span>\\n            \\n            <span class=\"tag-item\">\\n            <a class=\"tag\" style=\"font-size: 8px\" href=\"/tag/truth/\">truth</a>\\n            </span>\\n            \\n            <span class=\"tag-item\">\\n            <a class=\"tag\" style=\"font-size: 6px\" href=\"/tag/simile/\">simile</a>\\n            </span>\\n            \\n        \\n    </div>\\n</div>\\n\\n    </div>\\n    <footer class=\"footer\">\\n        <div class=\"container\">\\n            <p class=\"text-muted\">\\n                Quotes by: <a href=\"https://www.goodreads.com/quotes\">GoodReads.com</a>\\n            </p>\\n            <p class=\"copyright\">\\n                Made with <span class=\\'zyte\\'>\\xe2\\x9d\\xa4</span> by <a class=\\'zyte\\' href=\"https://www.zyte.com\">Zyte</a>\\n            </p>\\n        </div>\\n    </footer>\\n</body>\\n</html>'\n"
     ]
    }
   ],
   "source": [
    "# It looks a lot like one unique string though\n",
    "print(website.content)"
   ]
  },
  {
   "cell_type": "markdown",
   "id": "d509c1fb",
   "metadata": {
    "slideshow": {
     "slide_type": "subslide"
    }
   },
   "source": [
    "To read html content, we `parse` it using:\n",
    "\n",
    "    - BeautifulSoup"
   ]
  },
  {
   "cell_type": "code",
   "execution_count": 15,
   "id": "567ffbde",
   "metadata": {
    "collapsed": true
   },
   "outputs": [
    {
     "name": "stdout",
     "output_type": "stream",
     "text": [
      "Requirement already satisfied: beautifulsoup4 in c:\\users\\anato\\anaconda3\\envs\\python-econ\\lib\\site-packages (4.12.2)\n",
      "Requirement already satisfied: soupsieve>1.2 in c:\\users\\anato\\anaconda3\\envs\\python-econ\\lib\\site-packages (from beautifulsoup4) (2.5)\n"
     ]
    }
   ],
   "source": [
    "!pip install beautifulsoup4"
   ]
  },
  {
   "cell_type": "code",
   "execution_count": 111,
   "id": "fdeebe52",
   "metadata": {},
   "outputs": [
    {
     "name": "stdout",
     "output_type": "stream",
     "text": [
      "<class 'bs4.BeautifulSoup'>\n"
     ]
    }
   ],
   "source": [
    "from bs4 import BeautifulSoup\n",
    "\n",
    "# Get the parsed content using the html parser\n",
    "page_content = BeautifulSoup(website.content, \"html.parser\")\n",
    "\n",
    "print(type(page_content))"
   ]
  },
  {
   "cell_type": "markdown",
   "id": "3f032fc7",
   "metadata": {
    "slideshow": {
     "slide_type": "-"
    }
   },
   "source": [
    "We get a new object! a beautiful soup object."
   ]
  },
  {
   "cell_type": "markdown",
   "id": "40f487c9",
   "metadata": {
    "slideshow": {
     "slide_type": "subslide"
    }
   },
   "source": [
    "What does it look like?"
   ]
  },
  {
   "cell_type": "code",
   "execution_count": 112,
   "id": "bb112b3d",
   "metadata": {},
   "outputs": [
    {
     "name": "stdout",
     "output_type": "stream",
     "text": [
      "<!DOCTYPE html>\n",
      "\n",
      "<html lang=\"en\">\n",
      "<head>\n",
      "<meta charset=\"utf-8\"/>\n",
      "<title>Quotes to Scrape</title>\n",
      "<link href=\"/static/bootstrap.min.css\" rel=\"stylesheet\"/>\n",
      "<link href=\"/static/main.css\" rel=\"stylesheet\"/>\n",
      "</head>\n",
      "<body>\n",
      "<div class=\"container\">\n",
      "<div class=\"row header-box\">\n",
      "<div class=\"col-md-8\">\n",
      "<h1>\n",
      "<a href=\"/\" style=\"text-decoration: none\">Quotes to Scrape</a>\n",
      "</h1>\n",
      "</div>\n",
      "<div class=\"col-md-4\">\n",
      "<p>\n",
      "<a href=\"/login\">Login</a>\n",
      "</p>\n",
      "</div>\n",
      "</div>\n",
      "<div class=\"row\">\n",
      "<div class=\"col-md-8\">\n",
      "<div class=\"quote\" itemscope=\"\" itemtype=\"http://schema.org/CreativeWork\">\n",
      "<span class=\"text\" itemprop=\"text\">“The world as we have created it is a process of our thinking. It cannot be changed without changing our thinking.”</span>\n",
      "<span>by <small class=\"author\" itemprop=\"author\">Albert Einstein</small>\n",
      "<a href=\"/author/Albert-Einstein\">(about)</a>\n",
      "</span>\n",
      "<div class=\"tags\">\n",
      "            Tags:\n",
      "            <meta class=\"keywords\" content=\"change,deep-thoughts,thinking,world\" itemprop=\"keywords\"/>\n",
      "<a class=\"tag\" href=\"/tag/change/page/1/\">change</a>\n",
      "<a class=\"tag\" href=\"/tag/deep-thoughts/page/1/\">deep-thoughts</a>\n",
      "<a class=\"tag\" href=\"/tag/thinking/page/1/\">thinking</a>\n",
      "<a class=\"tag\" href=\"/tag/world/page/1/\">world</a>\n",
      "</div>\n",
      "</div>\n",
      "<div class=\"quote\" itemscope=\"\" itemtype=\"http://schema.org/CreativeWork\">\n",
      "<span class=\"text\" itemprop=\"text\">“It is our choices, Harry, that show what we truly are, far more than our abilities.”</span>\n",
      "<span>by <small class=\"author\" itemprop=\"author\">J.K. Rowling</small>\n",
      "<a href=\"/author/J-K-Rowling\">(about)</a>\n",
      "</span>\n",
      "<div class=\"tags\">\n",
      "            Tags:\n",
      "            <meta class=\"keywords\" content=\"abilities,choices\" itemprop=\"keywords\"/>\n",
      "<a class=\"tag\" href=\"/tag/abilities/page/1/\">abilities</a>\n",
      "<a class=\"tag\" href=\"/tag/choices/page/1/\">choices</a>\n",
      "</div>\n",
      "</div>\n",
      "<div class=\"quote\" itemscope=\"\" itemtype=\"http://schema.org/CreativeWork\">\n",
      "<span class=\"text\" itemprop=\"text\">“There are only two ways to live your life. One is as though nothing is a miracle. The other is as though everything is a miracle.”</span>\n",
      "<span>by <small class=\"author\" itemprop=\"author\">Albert Einstein</small>\n",
      "<a href=\"/author/Albert-Einstein\">(about)</a>\n",
      "</span>\n",
      "<div class=\"tags\">\n",
      "            Tags:\n",
      "            <meta class=\"keywords\" content=\"inspirational,life,live,miracle,miracles\" itemprop=\"keywords\"/>\n",
      "<a class=\"tag\" href=\"/tag/inspirational/page/1/\">inspirational</a>\n",
      "<a class=\"tag\" href=\"/tag/life/page/1/\">life</a>\n",
      "<a class=\"tag\" href=\"/tag/live/page/1/\">live</a>\n",
      "<a class=\"tag\" href=\"/tag/miracle/page/1/\">miracle</a>\n",
      "<a class=\"tag\" href=\"/tag/miracles/page/1/\">miracles</a>\n",
      "</div>\n",
      "</div>\n",
      "<div class=\"quote\" itemscope=\"\" itemtype=\"http://schema.org/CreativeWork\">\n",
      "<span class=\"text\" itemprop=\"text\">“The person, be it gentleman or lady, who has not pleasure in a good novel, must be intolerably stupid.”</span>\n",
      "<span>by <small class=\"author\" itemprop=\"author\">Jane Austen</small>\n",
      "<a href=\"/author/Jane-Austen\">(about)</a>\n",
      "</span>\n",
      "<div class=\"tags\">\n",
      "            Tags:\n",
      "            <meta class=\"keywords\" content=\"aliteracy,books,classic,humor\" itemprop=\"keywords\"/>\n",
      "<a class=\"tag\" href=\"/tag/aliteracy/page/1/\">aliteracy</a>\n",
      "<a class=\"tag\" href=\"/tag/books/page/1/\">books</a>\n",
      "<a class=\"tag\" href=\"/tag/classic/page/1/\">classic</a>\n",
      "<a class=\"tag\" href=\"/tag/humor/page/1/\">humor</a>\n",
      "</div>\n",
      "</div>\n",
      "<div class=\"quote\" itemscope=\"\" itemtype=\"http://schema.org/CreativeWork\">\n",
      "<span class=\"text\" itemprop=\"text\">“Imperfection is beauty, madness is genius and it's better to be absolutely ridiculous than absolutely boring.”</span>\n",
      "<span>by <small class=\"author\" itemprop=\"author\">Marilyn Monroe</small>\n",
      "<a href=\"/author/Marilyn-Monroe\">(about)</a>\n",
      "</span>\n",
      "<div class=\"tags\">\n",
      "            Tags:\n",
      "            <meta class=\"keywords\" content=\"be-yourself,inspirational\" itemprop=\"keywords\"/>\n",
      "<a class=\"tag\" href=\"/tag/be-yourself/page/1/\">be-yourself</a>\n",
      "<a class=\"tag\" href=\"/tag/inspirational/page/1/\">inspirational</a>\n",
      "</div>\n",
      "</div>\n",
      "<div class=\"quote\" itemscope=\"\" itemtype=\"http://schema.org/CreativeWork\">\n",
      "<span class=\"text\" itemprop=\"text\">“Try not to become a man of success. Rather become a man of value.”</span>\n",
      "<span>by <small class=\"author\" itemprop=\"author\">Albert Einstein</small>\n",
      "<a href=\"/author/Albert-Einstein\">(about)</a>\n",
      "</span>\n",
      "<div class=\"tags\">\n",
      "            Tags:\n",
      "            <meta class=\"keywords\" content=\"adulthood,success,value\" itemprop=\"keywords\"/>\n",
      "<a class=\"tag\" href=\"/tag/adulthood/page/1/\">adulthood</a>\n",
      "<a class=\"tag\" href=\"/tag/success/page/1/\">success</a>\n",
      "<a class=\"tag\" href=\"/tag/value/page/1/\">value</a>\n",
      "</div>\n",
      "</div>\n",
      "<div class=\"quote\" itemscope=\"\" itemtype=\"http://schema.org/CreativeWork\">\n",
      "<span class=\"text\" itemprop=\"text\">“It is better to be hated for what you are than to be loved for what you are not.”</span>\n",
      "<span>by <small class=\"author\" itemprop=\"author\">André Gide</small>\n",
      "<a href=\"/author/Andre-Gide\">(about)</a>\n",
      "</span>\n",
      "<div class=\"tags\">\n",
      "            Tags:\n",
      "            <meta class=\"keywords\" content=\"life,love\" itemprop=\"keywords\"/>\n",
      "<a class=\"tag\" href=\"/tag/life/page/1/\">life</a>\n",
      "<a class=\"tag\" href=\"/tag/love/page/1/\">love</a>\n",
      "</div>\n",
      "</div>\n",
      "<div class=\"quote\" itemscope=\"\" itemtype=\"http://schema.org/CreativeWork\">\n",
      "<span class=\"text\" itemprop=\"text\">“I have not failed. I've just found 10,000 ways that won't work.”</span>\n",
      "<span>by <small class=\"author\" itemprop=\"author\">Thomas A. Edison</small>\n",
      "<a href=\"/author/Thomas-A-Edison\">(about)</a>\n",
      "</span>\n",
      "<div class=\"tags\">\n",
      "            Tags:\n",
      "            <meta class=\"keywords\" content=\"edison,failure,inspirational,paraphrased\" itemprop=\"keywords\"/>\n",
      "<a class=\"tag\" href=\"/tag/edison/page/1/\">edison</a>\n",
      "<a class=\"tag\" href=\"/tag/failure/page/1/\">failure</a>\n",
      "<a class=\"tag\" href=\"/tag/inspirational/page/1/\">inspirational</a>\n",
      "<a class=\"tag\" href=\"/tag/paraphrased/page/1/\">paraphrased</a>\n",
      "</div>\n",
      "</div>\n",
      "<div class=\"quote\" itemscope=\"\" itemtype=\"http://schema.org/CreativeWork\">\n",
      "<span class=\"text\" itemprop=\"text\">“A woman is like a tea bag; you never know how strong it is until it's in hot water.”</span>\n",
      "<span>by <small class=\"author\" itemprop=\"author\">Eleanor Roosevelt</small>\n",
      "<a href=\"/author/Eleanor-Roosevelt\">(about)</a>\n",
      "</span>\n",
      "<div class=\"tags\">\n",
      "            Tags:\n",
      "            <meta class=\"keywords\" content=\"misattributed-eleanor-roosevelt\" itemprop=\"keywords\"/>\n",
      "<a class=\"tag\" href=\"/tag/misattributed-eleanor-roosevelt/page/1/\">misattributed-eleanor-roosevelt</a>\n",
      "</div>\n",
      "</div>\n",
      "<div class=\"quote\" itemscope=\"\" itemtype=\"http://schema.org/CreativeWork\">\n",
      "<span class=\"text\" itemprop=\"text\">“A day without sunshine is like, you know, night.”</span>\n",
      "<span>by <small class=\"author\" itemprop=\"author\">Steve Martin</small>\n",
      "<a href=\"/author/Steve-Martin\">(about)</a>\n",
      "</span>\n",
      "<div class=\"tags\">\n",
      "            Tags:\n",
      "            <meta class=\"keywords\" content=\"humor,obvious,simile\" itemprop=\"keywords\"/>\n",
      "<a class=\"tag\" href=\"/tag/humor/page/1/\">humor</a>\n",
      "<a class=\"tag\" href=\"/tag/obvious/page/1/\">obvious</a>\n",
      "<a class=\"tag\" href=\"/tag/simile/page/1/\">simile</a>\n",
      "</div>\n",
      "</div>\n",
      "<nav>\n",
      "<ul class=\"pager\">\n",
      "<li class=\"next\">\n",
      "<a href=\"/page/2/\">Next <span aria-hidden=\"true\">→</span></a>\n",
      "</li>\n",
      "</ul>\n",
      "</nav>\n",
      "</div>\n",
      "<div class=\"col-md-4 tags-box\">\n",
      "<h2>Top Ten tags</h2>\n",
      "<span class=\"tag-item\">\n",
      "<a class=\"tag\" href=\"/tag/love/\" style=\"font-size: 28px\">love</a>\n",
      "</span>\n",
      "<span class=\"tag-item\">\n",
      "<a class=\"tag\" href=\"/tag/inspirational/\" style=\"font-size: 26px\">inspirational</a>\n",
      "</span>\n",
      "<span class=\"tag-item\">\n",
      "<a class=\"tag\" href=\"/tag/life/\" style=\"font-size: 26px\">life</a>\n",
      "</span>\n",
      "<span class=\"tag-item\">\n",
      "<a class=\"tag\" href=\"/tag/humor/\" style=\"font-size: 24px\">humor</a>\n",
      "</span>\n",
      "<span class=\"tag-item\">\n",
      "<a class=\"tag\" href=\"/tag/books/\" style=\"font-size: 22px\">books</a>\n",
      "</span>\n",
      "<span class=\"tag-item\">\n",
      "<a class=\"tag\" href=\"/tag/reading/\" style=\"font-size: 14px\">reading</a>\n",
      "</span>\n",
      "<span class=\"tag-item\">\n",
      "<a class=\"tag\" href=\"/tag/friendship/\" style=\"font-size: 10px\">friendship</a>\n",
      "</span>\n",
      "<span class=\"tag-item\">\n",
      "<a class=\"tag\" href=\"/tag/friends/\" style=\"font-size: 8px\">friends</a>\n",
      "</span>\n",
      "<span class=\"tag-item\">\n",
      "<a class=\"tag\" href=\"/tag/truth/\" style=\"font-size: 8px\">truth</a>\n",
      "</span>\n",
      "<span class=\"tag-item\">\n",
      "<a class=\"tag\" href=\"/tag/simile/\" style=\"font-size: 6px\">simile</a>\n",
      "</span>\n",
      "</div>\n",
      "</div>\n",
      "</div>\n",
      "<footer class=\"footer\">\n",
      "<div class=\"container\">\n",
      "<p class=\"text-muted\">\n",
      "                Quotes by: <a href=\"https://www.goodreads.com/quotes\">GoodReads.com</a>\n",
      "</p>\n",
      "<p class=\"copyright\">\n",
      "                Made with <span class=\"zyte\">❤</span> by <a class=\"zyte\" href=\"https://www.zyte.com\">Zyte</a>\n",
      "</p>\n",
      "</div>\n",
      "</footer>\n",
      "</body>\n",
      "</html>\n"
     ]
    }
   ],
   "source": [
    "print(page_content)"
   ]
  },
  {
   "cell_type": "markdown",
   "id": "96b55faa",
   "metadata": {
    "slideshow": {
     "slide_type": "subslide"
    }
   },
   "source": [
    "How is information organized?"
   ]
  },
  {
   "cell_type": "code",
   "execution_count": 98,
   "id": "2cde5eaa",
   "metadata": {
    "slideshow": {
     "slide_type": "-"
    }
   },
   "outputs": [],
   "source": [
    "cell_with_info = \"\"\"\n",
    "<div class=\"quote\" itemscope itemtype=\"http://schema.org/CreativeWork\">\n",
    "    <span class=\"text\" itemprop=\"text\">“The world as we have created it is a process of our thinking. It cannot be changed without changing our thinking.”</span>\n",
    "    <span>by <small class=\"author\" itemprop=\"author\">Albert Einstein</small>\n",
    "    <a href=\"/author/Albert-Einstein\">(about)</a>\n",
    "    </span>\n",
    "    <div class=\"tags\">\n",
    "        Tags:\n",
    "        <meta class=\"keywords\" itemprop=\"keywords\" content=\"change,deep-thoughts,thinking,world\" /    > \n",
    "\n",
    "        <a class=\"tag\" href=\"/tag/change/page/1/\">change</a>\n",
    "\n",
    "        <a class=\"tag\" href=\"/tag/deep-thoughts/page/1/\">deep-thoughts</a>\n",
    "\n",
    "        <a class=\"tag\" href=\"/tag/thinking/page/1/\">thinking</a>\n",
    "\n",
    "        <a class=\"tag\" href=\"/tag/world/page/1/\">world</a>\n",
    "\n",
    "    </div>\n",
    "</div>\n",
    "\"\"\""
   ]
  },
  {
   "cell_type": "markdown",
   "id": "a4745b62",
   "metadata": {},
   "source": [
    "What happens if I copy paste the chunk of code and asks python to interpret it as HTML?"
   ]
  },
  {
   "cell_type": "code",
   "execution_count": 99,
   "id": "3b2ada46",
   "metadata": {
    "scrolled": false,
    "slideshow": {
     "slide_type": "subslide"
    }
   },
   "outputs": [
    {
     "data": {
      "text/html": [
       "\n",
       "<div class=\"quote\" itemscope itemtype=\"http://schema.org/CreativeWork\">\n",
       "    <span class=\"text\" itemprop=\"text\">“The world as we have created it is a process of our thinking. It cannot be changed without changing our thinking.”</span>\n",
       "    <span>by <small class=\"author\" itemprop=\"author\">Albert Einstein</small>\n",
       "    <a href=\"/author/Albert-Einstein\">(about)</a>\n",
       "    </span>\n",
       "    <div class=\"tags\">\n",
       "        Tags:\n",
       "        <meta class=\"keywords\" itemprop=\"keywords\" content=\"change,deep-thoughts,thinking,world\" /    > \n",
       "\n",
       "        <a class=\"tag\" href=\"/tag/change/page/1/\">change</a>\n",
       "\n",
       "        <a class=\"tag\" href=\"/tag/deep-thoughts/page/1/\">deep-thoughts</a>\n",
       "\n",
       "        <a class=\"tag\" href=\"/tag/thinking/page/1/\">thinking</a>\n",
       "\n",
       "        <a class=\"tag\" href=\"/tag/world/page/1/\">world</a>\n",
       "\n",
       "    </div>\n",
       "</div>\n"
      ],
      "text/plain": [
       "<IPython.core.display.HTML object>"
      ]
     },
     "metadata": {},
     "output_type": "display_data"
    }
   ],
   "source": [
    "from IPython.display import display, HTML\n",
    "display(HTML(cell_with_info))"
   ]
  },
  {
   "cell_type": "markdown",
   "id": "669f74be",
   "metadata": {},
   "source": [
    "You get the skeleton of the website, but without the styling."
   ]
  },
  {
   "cell_type": "markdown",
   "id": "e4baae30",
   "metadata": {
    "slideshow": {
     "slide_type": "subslide"
    }
   },
   "source": [
    "Just for the sake of exposition, let's add back the styling to the above. - We go and get it from their website"
   ]
  },
  {
   "cell_type": "code",
   "execution_count": 101,
   "id": "9f2bb99c",
   "metadata": {
    "scrolled": true
   },
   "outputs": [
    {
     "name": "stdout",
     "output_type": "stream",
     "text": [
      "/* Custom page CSS */\n",
      "body {\n",
      "  font-family: sans-serif;\n",
      "}\n",
      "\n",
      ".container .text-muted {\n",
      "  margin: 20px 0;\n",
      "}\n",
      "\n",
      ".tags-box {\n",
      "  text-align: right;\n",
      "}\n",
      "\n",
      ".tags-box h2 {\n",
      "  margin-top: 0px;\n",
      "}\n",
      "\n",
      ".tag-item {\n",
      "  display: block;\n",
      "  margin: 4px;\n",
      "}\n",
      "\n",
      ".quote {\n",
      "  padding: 10px;\n",
      "  margin-bottom: 30px;\n",
      "  border: 1px solid #333333;\n",
      "  border-radius: 5px;\n",
      "  box-shadow: 2px 2px 3px #333333;\n",
      "}\n",
      "\n",
      ".quote small.author {\n",
      "  font-weight: bold;\n",
      "  color: #3677E8;\n",
      "}\n",
      "\n",
      ".quote span.text {\n",
      "  display: block;\n",
      "  margin-bottom: 5px;\n",
      "  font-size: large;\n",
      "  font-style: italic;\n",
      "}\n",
      "\n",
      ".quote .tags {\n",
      "  margin-top: 10px;\n",
      "}\n",
      "\n",
      ".tag {\n",
      "  padding: 2px 5px;\n",
      "  border-radius: 5px;\n",
      "  color: white;\n",
      "  font-size: small;\n",
      "  background-color: #7CA3E6;\n",
      "}\n",
      "\n",
      "a.tag:hover {\n",
      "  text-decoration: none;\n",
      "}\n",
      "\n",
      "/* Sticky footer styles */\n",
      "html {\n",
      "  position: relative;\n",
      "  min-height: 100%;\n",
      "}\n",
      "\n",
      "body {\n",
      "  /* Margin bottom by footer height */\n",
      "  margin-bottom: 60px;\n",
      "}\n",
      "\n",
      ".footer {\n",
      "  position: absolute;\n",
      "  bottom: 0;\n",
      "  width: 100%;\n",
      "  /* Set the fixed height of the footer here */\n",
      "  height: 6em;\n",
      "  background-color: #f5f5f5;\n",
      "}\n",
      "\n",
      ".error {\n",
      "  color: red;\n",
      "}\n",
      "\n",
      ".header-box {\n",
      "  padding-bottom: 40px;\n",
      "}\n",
      "\n",
      ".header-box p {\n",
      "  margin-top: 30px;\n",
      "  float: right;\n",
      "}\n",
      "\n",
      ".author-details  {\n",
      "  width: 80%;\n",
      "}\n",
      "\n",
      ".author-description {\n",
      "  text-align: justify;\n",
      "  margin-bottom: 20px;\n",
      "}\n",
      "\n",
      "ul.pager {\n",
      "  margin-bottom: 100px;\n",
      "}\n",
      "\n",
      ".copyright {\n",
      "  text-align: center;\n",
      "}\n",
      "\n",
      ".zyte {\n",
      "  color: #b02cce;\n",
      "}\n",
      "\n"
     ]
    }
   ],
   "source": [
    "import requests\n",
    "css_url = \"http://quotes.toscrape.com/static/main.css\"\n",
    "\n",
    "css_file = requests.get(css_url)\n",
    "print(css_file.text)"
   ]
  },
  {
   "cell_type": "markdown",
   "id": "d56173db",
   "metadata": {
    "slideshow": {
     "slide_type": "subslide"
    }
   },
   "source": [
    "Now let's put the two together and display it with the styling"
   ]
  },
  {
   "cell_type": "code",
   "execution_count": 102,
   "id": "a3e0b9ef",
   "metadata": {},
   "outputs": [
    {
     "data": {
      "text/html": [
       "<style>/* Custom page CSS */\n",
       "body {\n",
       "  font-family: sans-serif;\n",
       "}\n",
       "\n",
       ".container .text-muted {\n",
       "  margin: 20px 0;\n",
       "}\n",
       "\n",
       ".tags-box {\n",
       "  text-align: right;\n",
       "}\n",
       "\n",
       ".tags-box h2 {\n",
       "  margin-top: 0px;\n",
       "}\n",
       "\n",
       ".tag-item {\n",
       "  display: block;\n",
       "  margin: 4px;\n",
       "}\n",
       "\n",
       ".quote {\n",
       "  padding: 10px;\n",
       "  margin-bottom: 30px;\n",
       "  border: 1px solid #333333;\n",
       "  border-radius: 5px;\n",
       "  box-shadow: 2px 2px 3px #333333;\n",
       "}\n",
       "\n",
       ".quote small.author {\n",
       "  font-weight: bold;\n",
       "  color: #3677E8;\n",
       "}\n",
       "\n",
       ".quote span.text {\n",
       "  display: block;\n",
       "  margin-bottom: 5px;\n",
       "  font-size: large;\n",
       "  font-style: italic;\n",
       "}\n",
       "\n",
       ".quote .tags {\n",
       "  margin-top: 10px;\n",
       "}\n",
       "\n",
       ".tag {\n",
       "  padding: 2px 5px;\n",
       "  border-radius: 5px;\n",
       "  color: white;\n",
       "  font-size: small;\n",
       "  background-color: #7CA3E6;\n",
       "}\n",
       "\n",
       "a.tag:hover {\n",
       "  text-decoration: none;\n",
       "}\n",
       "\n",
       "/* Sticky footer styles */\n",
       "html {\n",
       "  position: relative;\n",
       "  min-height: 100%;\n",
       "}\n",
       "\n",
       "body {\n",
       "  /* Margin bottom by footer height */\n",
       "  margin-bottom: 60px;\n",
       "}\n",
       "\n",
       ".footer {\n",
       "  position: absolute;\n",
       "  bottom: 0;\n",
       "  width: 100%;\n",
       "  /* Set the fixed height of the footer here */\n",
       "  height: 6em;\n",
       "  background-color: #f5f5f5;\n",
       "}\n",
       "\n",
       ".error {\n",
       "  color: red;\n",
       "}\n",
       "\n",
       ".header-box {\n",
       "  padding-bottom: 40px;\n",
       "}\n",
       "\n",
       ".header-box p {\n",
       "  margin-top: 30px;\n",
       "  float: right;\n",
       "}\n",
       "\n",
       ".author-details  {\n",
       "  width: 80%;\n",
       "}\n",
       "\n",
       ".author-description {\n",
       "  text-align: justify;\n",
       "  margin-bottom: 20px;\n",
       "}\n",
       "\n",
       "ul.pager {\n",
       "  margin-bottom: 100px;\n",
       "}\n",
       "\n",
       ".copyright {\n",
       "  text-align: center;\n",
       "}\n",
       "\n",
       ".zyte {\n",
       "  color: #b02cce;\n",
       "}\n",
       "</style>\n",
       "<div class=\"quote\" itemscope itemtype=\"http://schema.org/CreativeWork\">\n",
       "    <span class=\"text\" itemprop=\"text\">“The world as we have created it is a process of our thinking. It cannot be changed without changing our thinking.”</span>\n",
       "    <span>by <small class=\"author\" itemprop=\"author\">Albert Einstein</small>\n",
       "    <a href=\"/author/Albert-Einstein\">(about)</a>\n",
       "    </span>\n",
       "    <div class=\"tags\">\n",
       "        Tags:\n",
       "        <meta class=\"keywords\" itemprop=\"keywords\" content=\"change,deep-thoughts,thinking,world\" /    > \n",
       "\n",
       "        <a class=\"tag\" href=\"/tag/change/page/1/\">change</a>\n",
       "\n",
       "        <a class=\"tag\" href=\"/tag/deep-thoughts/page/1/\">deep-thoughts</a>\n",
       "\n",
       "        <a class=\"tag\" href=\"/tag/thinking/page/1/\">thinking</a>\n",
       "\n",
       "        <a class=\"tag\" href=\"/tag/world/page/1/\">world</a>\n",
       "\n",
       "    </div>\n",
       "</div>\n"
      ],
      "text/plain": [
       "<IPython.core.display.HTML object>"
      ]
     },
     "metadata": {},
     "output_type": "display_data"
    }
   ],
   "source": [
    "full_content = f\"<style>{css_file.text}</style>{cell_with_info}\"\n",
    "display(HTML(full_content))"
   ]
  },
  {
   "cell_type": "markdown",
   "id": "6836424c",
   "metadata": {
    "slideshow": {
     "slide_type": "-"
    }
   },
   "source": [
    "I've recreated exactly their display:\n",
    "\n",
    "    - HTML + CSS = Most of what you see online"
   ]
  },
  {
   "cell_type": "markdown",
   "id": "56009fb2",
   "metadata": {
    "slideshow": {
     "slide_type": "subslide"
    }
   },
   "source": [
    "To extract the information, we don't really use CSS styling\n",
    "\n",
    "    - but we use the fact that the website was thought of using CSS.\n",
    "\n",
    "The quote is in a `div` which has the attribute that its class is called `quote`"
   ]
  },
  {
   "cell_type": "code",
   "execution_count": 24,
   "id": "7c355c89",
   "metadata": {},
   "outputs": [],
   "source": [
    "information = \"\"\"\n",
    "<div class=\"quote\" itemscope itemtype=\"http://schema.org/CreativeWork\">\n",
    "    <span class=\"text\" itemprop=\"text\">“The world as we have created it is a process of our thinking. It cannot be changed without changing our thinking.”</span>\n",
    "    <span>by <small class=\"author\" itemprop=\"author\">Albert Einstein</small>\n",
    "    <a href=\"/author/Albert-Einstein\">(about)</a>\n",
    "    </span>\n",
    "    <div class=\"tags\">\n",
    "        Tags:\n",
    "        <meta class=\"keywords\" itemprop=\"keywords\" content=\"change,deep-thoughts,thinking,world\" /    > \n",
    "\n",
    "        <a class=\"tag\" href=\"/tag/change/page/1/\">change</a>\n",
    "\n",
    "        <a class=\"tag\" href=\"/tag/deep-thoughts/page/1/\">deep-thoughts</a>\n",
    "\n",
    "        <a class=\"tag\" href=\"/tag/thinking/page/1/\">thinking</a>\n",
    "\n",
    "        <a class=\"tag\" href=\"/tag/world/page/1/\">world</a>\n",
    "\n",
    "    </div>\n",
    "</div>\n",
    "\"\"\""
   ]
  },
  {
   "cell_type": "markdown",
   "id": "bb8210ec",
   "metadata": {
    "slideshow": {
     "slide_type": "subslide"
    }
   },
   "source": [
    "We just have to select the first object that's a `div` and named `quote`"
   ]
  },
  {
   "cell_type": "code",
   "execution_count": 104,
   "id": "bd30bebc",
   "metadata": {
    "scrolled": true
   },
   "outputs": [
    {
     "name": "stdout",
     "output_type": "stream",
     "text": [
      "\n",
      "“The world as we have created it is a process of our thinking. It cannot be changed without changing our thinking.”\n",
      "by Albert Einstein\n",
      "(about)\n",
      "\n",
      "\n",
      "            Tags:\n",
      "            \n",
      "change\n",
      "deep-thoughts\n",
      "thinking\n",
      "world\n",
      "\n",
      "\n"
     ]
    }
   ],
   "source": [
    "from bs4 import BeautifulSoup\n",
    "\n",
    "# Rewrite the link\n",
    "link = \"https://quotes.toscrape.com/\"\n",
    "\n",
    "# Make a request to the website\n",
    "website = requests.get(link)\n",
    "\n",
    "# Get the parsed content using the html parser\n",
    "page_content = BeautifulSoup(website.content, \"html.parser\")\n",
    "\n",
    "# And now leverage on the power of beautifulsoup\n",
    "albert_quote = page_content.find('div', attrs = {'class':'quote'})\n",
    "print(albert_quote.text)"
   ]
  },
  {
   "cell_type": "markdown",
   "id": "32bf2e10",
   "metadata": {
    "slideshow": {
     "slide_type": "subslide"
    }
   },
   "source": [
    "We're actually not so happy about that, we took too much text"
   ]
  },
  {
   "cell_type": "code",
   "execution_count": null,
   "id": "4fe60b4a",
   "metadata": {},
   "outputs": [],
   "source": [
    "information = \"\"\"\n",
    "<div class=\"quote\" itemscope itemtype=\"http://schema.org/CreativeWork\">\n",
    "    <span class=\"text\" itemprop=\"text\">“The world as we have created it is a process of our thinking. It cannot be changed without changing our thinking.”</span>\n",
    "    <span>by <small class=\"author\" itemprop=\"author\">Albert Einstein</small>\n",
    "    <a href=\"/author/Albert-Einstein\">(about)</a>\n",
    "    </span>\n",
    "    <div class=\"tags\">\n",
    "        Tags:\n",
    "        <meta class=\"keywords\" itemprop=\"keywords\" content=\"change,deep-thoughts,thinking,world\" /    > \n",
    "\n",
    "        <a class=\"tag\" href=\"/tag/change/page/1/\">change</a>\n",
    "\n",
    "        <a class=\"tag\" href=\"/tag/deep-thoughts/page/1/\">deep-thoughts</a>\n",
    "\n",
    "        <a class=\"tag\" href=\"/tag/thinking/page/1/\">thinking</a>\n",
    "\n",
    "        <a class=\"tag\" href=\"/tag/world/page/1/\">world</a>\n",
    "\n",
    "    </div>\n",
    "</div>\n",
    "\"\"\""
   ]
  },
  {
   "cell_type": "markdown",
   "id": "b13b1d5a",
   "metadata": {
    "slideshow": {
     "slide_type": "subslide"
    }
   },
   "source": [
    "We can be more precise and access the `span` that of `class` `text`"
   ]
  },
  {
   "cell_type": "code",
   "execution_count": 107,
   "id": "ac419394",
   "metadata": {},
   "outputs": [
    {
     "name": "stdout",
     "output_type": "stream",
     "text": [
      "Albert Einstein\n"
     ]
    }
   ],
   "source": [
    "albert_name = page_content.find('small', attrs = {'class':'author'})\n",
    "print(albert_name.text)"
   ]
  },
  {
   "cell_type": "code",
   "execution_count": 106,
   "id": "d22c7463",
   "metadata": {
    "scrolled": true
   },
   "outputs": [
    {
     "name": "stdout",
     "output_type": "stream",
     "text": [
      "“The world as we have created it is a process of our thinking. It cannot be changed without changing our thinking.”\n"
     ]
    }
   ],
   "source": [
    "# And now leverage on the power of beautifulsoup\n",
    "albert_quote = page_content.find('span', attrs = {'itemprop':'text', 'class':'text'})\n",
    "print(albert_quote.text)"
   ]
  },
  {
   "cell_type": "code",
   "execution_count": null,
   "id": "21017bee",
   "metadata": {
    "slideshow": {
     "slide_type": "subslide"
    }
   },
   "outputs": [],
   "source": [
    "<div class=\"quote\" itemscope itemtype=\"http://schema.org/CreativeWork\">\n",
    "    <span class=\"text\" itemprop=\"text\">“The world as we have created it is a process of our thinking. It cannot be changed without changing our thinking.”</span>\n",
    "    <span>by <small class=\"author\" itemprop=\"author\">Albert Einstein</small>\n",
    "    <a href=\"/author/Albert-Einstein\">(about)</a>\n",
    "    </span>\n",
    "    <div class=\"tags\">\n",
    "        Tags:\n",
    "        <meta class=\"keywords\" itemprop=\"keywords\" content=\"change,deep-thoughts,thinking,world\" /    > \n",
    "\n",
    "        <a class=\"tag\" href=\"/tag/change/page/1/\">change</a>\n",
    "\n",
    "        <a class=\"tag\" href=\"/tag/deep-thoughts/page/1/\">deep-thoughts</a>\n",
    "\n",
    "        <a class=\"tag\" href=\"/tag/thinking/page/1/\">thinking</a>\n",
    "\n",
    "        <a class=\"tag\" href=\"/tag/world/page/1/\">world</a>\n",
    "\n",
    "    </div>\n",
    "</div>"
   ]
  },
  {
   "cell_type": "markdown",
   "id": "de94213e",
   "metadata": {
    "slideshow": {
     "slide_type": "subslide"
    }
   },
   "source": [
    "Let's access the author, in the `tag` `small` of `class` `author` "
   ]
  },
  {
   "cell_type": "code",
   "execution_count": 29,
   "id": "c24c06b4",
   "metadata": {},
   "outputs": [
    {
     "name": "stdout",
     "output_type": "stream",
     "text": [
      "Albert Einstein\n"
     ]
    }
   ],
   "source": [
    "# And now leverage on the power of beautifulsoup\n",
    "quote_of = page_content.find('small', attrs = {'class':'author'})\n",
    "print(quote_of.text)"
   ]
  },
  {
   "cell_type": "code",
   "execution_count": null,
   "id": "4d4d26cd",
   "metadata": {
    "slideshow": {
     "slide_type": "subslide"
    }
   },
   "outputs": [],
   "source": [
    "<div class=\"quote\" itemscope itemtype=\"http://schema.org/CreativeWork\">\n",
    "    <span class=\"text\" itemprop=\"text\">“The world as we have created it is a process of our thinking. It cannot be changed without changing our thinking.”</span>\n",
    "    <span>by <small class=\"author\" itemprop=\"author\">Albert Einstein</small>\n",
    "    <a href=\"/author/Albert-Einstein\">(about)</a>\n",
    "    </span>\n",
    "    <div class=\"tags\">\n",
    "        Tags:\n",
    "        <meta class=\"keywords\" itemprop=\"keywords\" content=\"change,deep-thoughts,thinking,world\" /    > \n",
    "\n",
    "        <a class=\"tag\" href=\"/tag/change/page/1/\">change</a>\n",
    "\n",
    "        <a class=\"tag\" href=\"/tag/deep-thoughts/page/1/\">deep-thoughts</a>\n",
    "\n",
    "        <a class=\"tag\" href=\"/tag/thinking/page/1/\">thinking</a>\n",
    "\n",
    "        <a class=\"tag\" href=\"/tag/world/page/1/\">world</a>\n",
    "\n",
    "    </div>\n",
    "</div>"
   ]
  },
  {
   "cell_type": "markdown",
   "id": "531968c6",
   "metadata": {
    "slideshow": {
     "slide_type": "-"
    }
   },
   "source": [
    "What if I want all the tags? Let's proceed in two stages, let's first access the `div` of `class` `tags` and then take all the `a` of class `tag`"
   ]
  },
  {
   "cell_type": "code",
   "execution_count": 112,
   "id": "92c2ca0d",
   "metadata": {
    "collapsed": true,
    "slideshow": {
     "slide_type": "subslide"
    }
   },
   "outputs": [
    {
     "name": "stdout",
     "output_type": "stream",
     "text": [
      "[<a class=\"tag\" href=\"/tag/change/page/1/\">change</a>, <a class=\"tag\" href=\"/tag/deep-thoughts/page/1/\">deep-thoughts</a>, <a class=\"tag\" href=\"/tag/thinking/page/1/\">thinking</a>, <a class=\"tag\" href=\"/tag/world/page/1/\">world</a>, <a class=\"tag\" href=\"/tag/abilities/page/1/\">abilities</a>, <a class=\"tag\" href=\"/tag/choices/page/1/\">choices</a>, <a class=\"tag\" href=\"/tag/inspirational/page/1/\">inspirational</a>, <a class=\"tag\" href=\"/tag/life/page/1/\">life</a>, <a class=\"tag\" href=\"/tag/live/page/1/\">live</a>, <a class=\"tag\" href=\"/tag/miracle/page/1/\">miracle</a>, <a class=\"tag\" href=\"/tag/miracles/page/1/\">miracles</a>, <a class=\"tag\" href=\"/tag/aliteracy/page/1/\">aliteracy</a>, <a class=\"tag\" href=\"/tag/books/page/1/\">books</a>, <a class=\"tag\" href=\"/tag/classic/page/1/\">classic</a>, <a class=\"tag\" href=\"/tag/humor/page/1/\">humor</a>, <a class=\"tag\" href=\"/tag/be-yourself/page/1/\">be-yourself</a>, <a class=\"tag\" href=\"/tag/inspirational/page/1/\">inspirational</a>, <a class=\"tag\" href=\"/tag/adulthood/page/1/\">adulthood</a>, <a class=\"tag\" href=\"/tag/success/page/1/\">success</a>, <a class=\"tag\" href=\"/tag/value/page/1/\">value</a>, <a class=\"tag\" href=\"/tag/life/page/1/\">life</a>, <a class=\"tag\" href=\"/tag/love/page/1/\">love</a>, <a class=\"tag\" href=\"/tag/edison/page/1/\">edison</a>, <a class=\"tag\" href=\"/tag/failure/page/1/\">failure</a>, <a class=\"tag\" href=\"/tag/inspirational/page/1/\">inspirational</a>, <a class=\"tag\" href=\"/tag/paraphrased/page/1/\">paraphrased</a>, <a class=\"tag\" href=\"/tag/misattributed-eleanor-roosevelt/page/1/\">misattributed-eleanor-roosevelt</a>, <a class=\"tag\" href=\"/tag/humor/page/1/\">humor</a>, <a class=\"tag\" href=\"/tag/obvious/page/1/\">obvious</a>, <a class=\"tag\" href=\"/tag/simile/page/1/\">simile</a>, <a class=\"tag\" href=\"/tag/love/\" style=\"font-size: 28px\">love</a>, <a class=\"tag\" href=\"/tag/inspirational/\" style=\"font-size: 26px\">inspirational</a>, <a class=\"tag\" href=\"/tag/life/\" style=\"font-size: 26px\">life</a>, <a class=\"tag\" href=\"/tag/humor/\" style=\"font-size: 24px\">humor</a>, <a class=\"tag\" href=\"/tag/books/\" style=\"font-size: 22px\">books</a>, <a class=\"tag\" href=\"/tag/reading/\" style=\"font-size: 14px\">reading</a>, <a class=\"tag\" href=\"/tag/friendship/\" style=\"font-size: 10px\">friendship</a>, <a class=\"tag\" href=\"/tag/friends/\" style=\"font-size: 8px\">friends</a>, <a class=\"tag\" href=\"/tag/truth/\" style=\"font-size: 8px\">truth</a>, <a class=\"tag\" href=\"/tag/simile/\" style=\"font-size: 6px\">simile</a>]\n"
     ]
    }
   ],
   "source": [
    "# Take the div with all the tags\n",
    "div_of_tags = page_content.find_all('a', attrs={'class':'tag'})\n",
    "print(div_of_tags)"
   ]
  },
  {
   "cell_type": "code",
   "execution_count": 110,
   "id": "2a4dee23",
   "metadata": {
    "slideshow": {
     "slide_type": "-"
    }
   },
   "outputs": [
    {
     "name": "stdout",
     "output_type": "stream",
     "text": [
      "[<a class=\"tag\" href=\"/tag/change/page/1/\">change</a>, <a class=\"tag\" href=\"/tag/deep-thoughts/page/1/\">deep-thoughts</a>, <a class=\"tag\" href=\"/tag/thinking/page/1/\">thinking</a>, <a class=\"tag\" href=\"/tag/world/page/1/\">world</a>]\n"
     ]
    }
   ],
   "source": [
    "# Then access inside of it\n",
    "tags = div_of_tags.find_all('a', attrs={'class':'tag'})\n",
    "print(tags)"
   ]
  },
  {
   "cell_type": "markdown",
   "id": "e08c6374",
   "metadata": {},
   "source": [
    "We use in this case a list comprehension:\n",
    "\n",
    "    - a way to do a loop \"inline\", meaning in one line"
   ]
  },
  {
   "cell_type": "code",
   "execution_count": 111,
   "id": "95a39ca4",
   "metadata": {
    "slideshow": {
     "slide_type": "subslide"
    }
   },
   "outputs": [
    {
     "name": "stdout",
     "output_type": "stream",
     "text": [
      "['change', 'deep-thoughts', 'thinking', 'world']\n"
     ]
    }
   ],
   "source": [
    "# I can unpack that list and take the text inside of it\n",
    "tags = [element.text for element in tags]\n",
    "print(tags)"
   ]
  },
  {
   "cell_type": "markdown",
   "id": "b43b289a",
   "metadata": {
    "slideshow": {
     "slide_type": "slide"
    }
   },
   "source": [
    "### Step back\n",
    "\n",
    "We want to get all the quotes from this website. But each quote is organized in the same way!\n",
    "\n",
    "    - We can use a `loop`"
   ]
  },
  {
   "cell_type": "code",
   "execution_count": 115,
   "id": "8c0b36ab",
   "metadata": {},
   "outputs": [
    {
     "data": {
      "text/plain": [
       "bs4.element.ResultSet"
      ]
     },
     "execution_count": 115,
     "metadata": {},
     "output_type": "execute_result"
    }
   ],
   "source": [
    "type(all_the_quotes)"
   ]
  },
  {
   "cell_type": "code",
   "execution_count": 113,
   "id": "2d89336a",
   "metadata": {},
   "outputs": [
    {
     "name": "stdout",
     "output_type": "stream",
     "text": [
      "10\n"
     ]
    }
   ],
   "source": [
    "# The first step of the loop is to get all the quotes into a list\n",
    "all_the_quotes = page_content.find_all('div', attrs = {'class':'quote'})\n",
    "print(len(all_the_quotes))"
   ]
  },
  {
   "cell_type": "markdown",
   "id": "05ca55c3",
   "metadata": {
    "slideshow": {
     "slide_type": "subslide"
    }
   },
   "source": [
    "The first element is just our Einstein quote!"
   ]
  },
  {
   "cell_type": "code",
   "execution_count": 116,
   "id": "4e8ada78",
   "metadata": {
    "slideshow": {
     "slide_type": "-"
    }
   },
   "outputs": [
    {
     "name": "stdout",
     "output_type": "stream",
     "text": [
      "<div class=\"quote\" itemscope=\"\" itemtype=\"http://schema.org/CreativeWork\">\n",
      "<span class=\"text\" itemprop=\"text\">“There are only two ways to live your life. One is as though nothing is a miracle. The other is as though everything is a miracle.”</span>\n",
      "<span>by <small class=\"author\" itemprop=\"author\">Albert Einstein</small>\n",
      "<a href=\"/author/Albert-Einstein\">(about)</a>\n",
      "</span>\n",
      "<div class=\"tags\">\n",
      "            Tags:\n",
      "            <meta class=\"keywords\" content=\"inspirational,life,live,miracle,miracles\" itemprop=\"keywords\"/>\n",
      "<a class=\"tag\" href=\"/tag/inspirational/page/1/\">inspirational</a>\n",
      "<a class=\"tag\" href=\"/tag/life/page/1/\">life</a>\n",
      "<a class=\"tag\" href=\"/tag/live/page/1/\">live</a>\n",
      "<a class=\"tag\" href=\"/tag/miracle/page/1/\">miracle</a>\n",
      "<a class=\"tag\" href=\"/tag/miracles/page/1/\">miracles</a>\n",
      "</div>\n",
      "</div>\n"
     ]
    }
   ],
   "source": [
    "print(all_the_quotes[2])"
   ]
  },
  {
   "cell_type": "markdown",
   "id": "34920e35",
   "metadata": {
    "slideshow": {
     "slide_type": "subslide"
    }
   },
   "source": [
    "For each of the quote we want to get the same information:\n",
    "\n",
    "    - the quote\n",
    "    - the author of the quote\n",
    "    - the tags"
   ]
  },
  {
   "cell_type": "code",
   "execution_count": 119,
   "id": "446e34ca",
   "metadata": {
    "slideshow": {
     "slide_type": "subslide"
    }
   },
   "outputs": [
    {
     "data": {
      "text/html": [
       "<div>\n",
       "<style scoped>\n",
       "    .dataframe tbody tr th:only-of-type {\n",
       "        vertical-align: middle;\n",
       "    }\n",
       "\n",
       "    .dataframe tbody tr th {\n",
       "        vertical-align: top;\n",
       "    }\n",
       "\n",
       "    .dataframe thead th {\n",
       "        text-align: right;\n",
       "    }\n",
       "</style>\n",
       "<table border=\"1\" class=\"dataframe\">\n",
       "  <thead>\n",
       "    <tr style=\"text-align: right;\">\n",
       "      <th></th>\n",
       "      <th>quote</th>\n",
       "      <th>author</th>\n",
       "    </tr>\n",
       "  </thead>\n",
       "  <tbody>\n",
       "    <tr>\n",
       "      <th>0</th>\n",
       "      <td>“The world as we have created it is a process ...</td>\n",
       "      <td>Albert Einstein</td>\n",
       "    </tr>\n",
       "    <tr>\n",
       "      <th>1</th>\n",
       "      <td>“It is our choices, Harry, that show what we t...</td>\n",
       "      <td>J.K. Rowling</td>\n",
       "    </tr>\n",
       "    <tr>\n",
       "      <th>2</th>\n",
       "      <td>“There are only two ways to live your life. On...</td>\n",
       "      <td>Albert Einstein</td>\n",
       "    </tr>\n",
       "  </tbody>\n",
       "</table>\n",
       "</div>"
      ],
      "text/plain": [
       "                                               quote           author\n",
       "0  “The world as we have created it is a process ...  Albert Einstein\n",
       "1  “It is our choices, Harry, that show what we t...     J.K. Rowling\n",
       "2  “There are only two ways to live your life. On...  Albert Einstein"
      ]
     },
     "execution_count": 119,
     "metadata": {},
     "output_type": "execute_result"
    }
   ],
   "source": [
    "# Create an empty list where we store the information\n",
    "quote_storage = list()\n",
    "# Do a loop over each quote\n",
    "for quote in all_the_quotes:\n",
    "    # First take the content of the quote\n",
    "    quote_text = quote.find('span', attrs={'class':'text'})\n",
    "    \n",
    "    # get the author\n",
    "    quote_author = quote.find('small', attrs = {'class':'author'})\n",
    "    \n",
    "    # Store the information\n",
    "    quote_storage.append([quote_text.text, quote_author.text])\n",
    "    \n",
    "dataset_of_quotes = pd.DataFrame(quote_storage, columns = ['quote', 'author'])\n",
    "dataset_of_quotes.head(n = 3)"
   ]
  },
  {
   "cell_type": "markdown",
   "id": "f99e65d0",
   "metadata": {
    "slideshow": {
     "slide_type": "subslide"
    }
   },
   "source": [
    "Now we can cast that information into a pandas dataframe"
   ]
  },
  {
   "cell_type": "code",
   "execution_count": null,
   "id": "7db863dd",
   "metadata": {},
   "outputs": [],
   "source": [
    "import pandas as pd\n",
    "\n",
    "df_quotes = pd.DataFrame(quote_storage, columns = ['quote', 'author', 'tags'])"
   ]
  },
  {
   "cell_type": "markdown",
   "id": "6de999a7",
   "metadata": {
    "slideshow": {
     "slide_type": "slide"
    }
   },
   "source": [
    "### One loop isn't enough\n",
    "\n",
    "We've taken 10 quotes, but we've only done 1 page. How do we take all of them?\n",
    "\n",
    "    - You \"press\" Next each time until there's no more a next left\n",
    "    - You increase by one the page number until the page you got has no error\n",
    "    \n",
    "We implement the latter together, you implement the former"
   ]
  },
  {
   "cell_type": "code",
   "execution_count": 126,
   "id": "2021a278",
   "metadata": {},
   "outputs": [],
   "source": [
    "base_domain_link = 'https://quotes.toscrape.com'\n",
    "link = base_domain_link\n",
    "storage_list = list()\n",
    "while len(link) > 0:\n",
    "    page_response = requests.get(link)\n",
    "    page_content = BeautifulSoup(page_response.content, 'html.parser')\n",
    "\n",
    "    all_the_quotes = page_content.find_all('div', attrs = {'class':'quote'})\n",
    "\n",
    "    for quote in all_the_quotes:\n",
    "\n",
    "        content_of_quote = quote.find('span', attrs={'class':'text'})\n",
    "        author_of_quote = quote.find('small', attrs= {'class':'author'})\n",
    "        storage_list.append([content_of_quote.text, author_of_quote.text])\n",
    "\n",
    "    # get to the next button\n",
    "    li_with_next = page_content.find('li', attrs={'class':'next'})\n",
    "    if not li_with_next:\n",
    "        link = \"\"\n",
    "    else:\n",
    "        next_page = li_with_next.find('a')\n",
    "        link = base_domain_link + next_page['href']"
   ]
  },
  {
   "cell_type": "code",
   "execution_count": 130,
   "id": "6cf72e41",
   "metadata": {},
   "outputs": [
    {
     "name": "stdout",
     "output_type": "stream",
     "text": [
      "                                                quote              author\n",
      "0   “The world as we have created it is a process ...     Albert Einstein\n",
      "1   “It is our choices, Harry, that show what we t...        J.K. Rowling\n",
      "2   “There are only two ways to live your life. On...     Albert Einstein\n",
      "3   “The person, be it gentleman or lady, who has ...         Jane Austen\n",
      "4   “Imperfection is beauty, madness is genius and...      Marilyn Monroe\n",
      "..                                                ...                 ...\n",
      "95  “You never really understand a person until yo...          Harper Lee\n",
      "96  “You have to write the book that wants to be w...   Madeleine L'Engle\n",
      "97  “Never tell the truth to people who are not wo...          Mark Twain\n",
      "98        “A person's a person, no matter how small.”           Dr. Seuss\n",
      "99  “... a mind needs books as a sword needs a whe...  George R.R. Martin\n",
      "\n",
      "[100 rows x 2 columns]\n"
     ]
    }
   ],
   "source": [
    "dataset = pd.DataFrame(storage_list, columns = ['quote', 'author'])\n",
    "print(dataset)"
   ]
  }
 ],
 "metadata": {
  "celltoolbar": "Diaporama",
  "kernelspec": {
   "display_name": "Python 3 (ipykernel)",
   "language": "python",
   "name": "python3"
  },
  "language_info": {
   "codemirror_mode": {
    "name": "ipython",
    "version": 3
   },
   "file_extension": ".py",
   "mimetype": "text/x-python",
   "name": "python",
   "nbconvert_exporter": "python",
   "pygments_lexer": "ipython3",
   "version": "3.12.2"
  },
  "rise": {
   "scroll": true
  }
 },
 "nbformat": 4,
 "nbformat_minor": 5
}
